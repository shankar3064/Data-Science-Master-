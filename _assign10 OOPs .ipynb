{
 "cells": [
  {
   "cell_type": "markdown",
   "id": "28318e5d-c5f8-4c7d-a16a-3e4fbbc9d9da",
   "metadata": {},
   "source": [
    "### Q1. Which function is used to open a file? What are the different modes of opening a file? Explain each mode of file opening."
   ]
  },
  {
   "cell_type": "markdown",
   "id": "9b697a39-3e83-49bc-9f1a-acde63b47413",
   "metadata": {},
   "source": [
    "\n",
    "###### ANS:-\n",
    "#### The built-in open() function is used to open a file in Python. There are several modes for opening a file, each with different behaviors:\n",
    "\n",
    "#### 'r' (Read Only): This is the default mode for opening a file. It opens the file in read-only mode, meaning you can only read the file and not write to it.\n",
    "#### 'w' (Write Only): This mode opens the file in write-only mode. If the file exists, it will overwrite the file, if not, it will create a new file.\n",
    "#### 'a' (Append Only): This mode opens the file in append mode. It appends new data to the end of the file, leaving the existing data intact. If the file does not exist, it will create a new file.\n",
    "#### 'x' (Exclusive Creation): This mode opens the file for exclusive creation. If the file exists, it will raise an error, if not, it will create a new file.\n",
    "#### 'b' (Binary): This mode opens the file in binary mode, which is used for reading and writing binary files like images, audio, and video files.\n",
    "#### '+' (Read and Write): This mode opens the file for reading and writing."
   ]
  },
  {
   "cell_type": "code",
   "execution_count": null,
   "id": "c3f50568-ce6d-4430-8692-3900b49d8258",
   "metadata": {},
   "outputs": [],
   "source": [
    "f = open(\"example.txt\", \"r\")\n"
   ]
  },
  {
   "cell_type": "markdown",
   "id": "a7841a6f-7d38-4b45-ad6e-1960b2ea6464",
   "metadata": {},
   "source": [
    "#### Q2. Why close() function is used? Why is it important to close a file?"
   ]
  },
  {
   "cell_type": "markdown",
   "id": "5ca1781c-9785-4ffd-b2be-e7d29cba3fce",
   "metadata": {},
   "source": [
    "\n",
    "## ANS:-\n",
    "### The close() function is used to close a file in Python. It is important to close a file after you have finished working with it because of the following reasons:\n",
    "\n",
    "### Resource Management: Closing a file frees up the resources that were being occupied by the file. This is especially important if you are working with a large file, as not closing the file can lead to memory leaks.\n",
    "\n",
    "### Consistency: Closing the file ensures that the data written to the file is properly stored and no data is lost. If you do not close a file, you risk having incomplete or corrupted data when the file is finally written to the disk.\n",
    "\n",
    "### Security: When you open a file, it becomes vulnerable to attacks and unauthorized access. Closing the file ensures that the data in the file is no longer accessible to any malicious software or attackers."
   ]
  },
  {
   "cell_type": "markdown",
   "id": "6c97f1a6-5a8a-4bc9-b785-10c8299ad335",
   "metadata": {},
   "source": [
    "### Q3. Write a python program to create a text file. Write ‘I want to become a Data Scientist’ in that file. Then\n",
    "### close the file. Open this file and read the content of the file."
   ]
  },
  {
   "cell_type": "markdown",
   "id": "53ef6bba-b9e5-4434-9cec-e85c81665f24",
   "metadata": {},
   "source": [
    "# create a text file\n",
    "file = open(\"file.txt\", \"w\")\n",
    "\n",
    "# write content to the file\n",
    "file.write(\"I want to become a Data Scientist\")\n",
    "\n",
    "# close the file\n",
    "file.close()\n",
    "\n",
    "# open the file again in read mode\n",
    "file = open(\"file.txt\", \"r\")\n",
    "\n",
    "# read the content of the file\n",
    "content = file.read()\n",
    "\n",
    "# print the content\n",
    "print(content)\n",
    "\n",
    "# close the file\n",
    "file.close()\n"
   ]
  },
  {
   "cell_type": "markdown",
   "id": "939976d1-07e7-4df5-a4a0-9181941213e5",
   "metadata": {},
   "source": [
    "### Q4. Explain the following with python code: read(), readline() and readlines()."
   ]
  },
  {
   "cell_type": "markdown",
   "id": "a351bc96-cf86-4bab-864b-70c90504698f",
   "metadata": {},
   "source": [
    "### read() is a method used to read the entire content of a file as a string. The method returns the entire contents of the file as a string, which can be assigned to a variable for later use. Here's an example:"
   ]
  },
  {
   "cell_type": "code",
   "execution_count": 4,
   "id": "141d1a39-66d5-4c07-a85a-4a339f96e0b6",
   "metadata": {},
   "outputs": [
    {
     "name": "stdout",
     "output_type": "stream",
     "text": [
      "I want to become a Data Scientist\n"
     ]
    }
   ],
   "source": [
    "with open(\"file.txt\", \"r\") as f:\n",
    "    content = f.read()\n",
    "    print(content)\n"
   ]
  },
  {
   "cell_type": "markdown",
   "id": "74dae078-a829-456c-a0d2-df6c10010c80",
   "metadata": {},
   "source": [
    "### readline() is a method used to read a single line from a file. The method reads the next line in the file and returns it as a string. Here's an example:"
   ]
  },
  {
   "cell_type": "code",
   "execution_count": 5,
   "id": "da264aa0-7ef3-44ef-b49f-cc9fe7328828",
   "metadata": {},
   "outputs": [
    {
     "name": "stdout",
     "output_type": "stream",
     "text": [
      "I want to become a Data Scientist\n"
     ]
    }
   ],
   "source": [
    "with open(\"file.txt\", \"r\") as f:\n",
    "    line = f.readline()\n",
    "    while line:\n",
    "        print(line)\n",
    "        line = f.readline()\n"
   ]
  },
  {
   "cell_type": "markdown",
   "id": "9e12f970-435e-48a5-89f1-601241caa4d4",
   "metadata": {},
   "source": [
    "### readlines() is a method used to read all the lines of a file and return them as a list of strings, where each string is a line from the file. Here's an example:"
   ]
  },
  {
   "cell_type": "code",
   "execution_count": 6,
   "id": "f3e5cf5f-67ee-4946-ac61-06dac31c6a1a",
   "metadata": {},
   "outputs": [
    {
     "name": "stdout",
     "output_type": "stream",
     "text": [
      "I want to become a Data Scientist\n"
     ]
    }
   ],
   "source": [
    "with open(\"file.txt\", \"r\") as f:\n",
    "    lines = f.readlines()\n",
    "    for line in lines:\n",
    "        print(line)\n"
   ]
  },
  {
   "cell_type": "markdown",
   "id": "fc30edf1-4ace-4be7-a02b-aecec1246299",
   "metadata": {},
   "source": [
    "### Q5. Explain why with statement is used with open(). What is the advantage of using with statement and open() together?"
   ]
  },
  {
   "cell_type": "markdown",
   "id": "2665ecaa-113c-44a2-800b-a6d84c13a740",
   "metadata": {},
   "source": [
    "#### ANS:-\n",
    "\n",
    "### The \"with\" statement is used with the \"open()\" function to ensure that the file is properly closed after the block of code within the with statement has been executed, even if an exception is raised during the execution of that block of code. This is because the \"with\" statement creates a context in which the file is automatically closed after the block of code has been executed, even if an exception is raised. This helps to prevent data loss or corruption by ensuring that the file is always closed properly, even in the event of an error.\n",
    "\n",
    "### The advantage of using the \"with\" statement and \"open()\" together is that it makes the code more readable and helps to prevent bugs that could result from forgetting to close a file. Additionally, it makes it easier to manage multiple file handles in a single block of code, without having to worry about closing each file handle individually."
   ]
  },
  {
   "cell_type": "markdown",
   "id": "fab34c65-fcf1-41a5-8e22-e10e5033129c",
   "metadata": {},
   "source": [
    "### Q6. Explain the write() and writelines() functions. Give a suitable example."
   ]
  },
  {
   "cell_type": "markdown",
   "id": "cd61d4d0-452f-4605-852a-53dc1d4ae091",
   "metadata": {},
   "source": [
    "### The write() function is used to write a string to a file. The writelines() function is used to write a list of strings to a file."
   ]
  },
  {
   "cell_type": "code",
   "execution_count": 7,
   "id": "8bcb353f-722d-4fa7-8af7-ce058f7daad0",
   "metadata": {},
   "outputs": [],
   "source": [
    "# Using write() function\n",
    "with open(\"test.txt\", \"w\") as file:\n",
    "    file.write(\"Hello World\")\n",
    "\n",
    "# Using writelines() function\n",
    "with open(\"test.txt\", \"w\") as file:\n",
    "    lines = [\"Line 1\", \"Line 2\", \"Line 3\"]\n",
    "    file.writelines(lines)\n"
   ]
  },
  {
   "cell_type": "code",
   "execution_count": null,
   "id": "05a8a56c-5c3e-44b9-9dd5-9699b938c27f",
   "metadata": {},
   "outputs": [],
   "source": []
  }
 ],
 "metadata": {
  "kernelspec": {
   "display_name": "Python 3 (ipykernel)",
   "language": "python",
   "name": "python3"
  },
  "language_info": {
   "codemirror_mode": {
    "name": "ipython",
    "version": 3
   },
   "file_extension": ".py",
   "mimetype": "text/x-python",
   "name": "python",
   "nbconvert_exporter": "python",
   "pygments_lexer": "ipython3",
   "version": "3.10.8"
  }
 },
 "nbformat": 4,
 "nbformat_minor": 5
}
