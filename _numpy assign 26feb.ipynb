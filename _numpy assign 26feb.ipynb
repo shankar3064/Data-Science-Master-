{
 "cells": [
  {
   "cell_type": "markdown",
   "id": "fe43ee16",
   "metadata": {},
   "source": [
    "#### Consider the below code to answer further questions:\n",
    "#### import numpy as np\n",
    "#### list_ = [ ‘1’ , ’2’ , ‘3’ , ‘4’ , ‘5’ ]\n",
    "#### array_list = np.array(object = list_)\n",
    "#### Q1. Is there any difference in the data type of variables list_ and array_list? If there is then write a code\n",
    "#### to print the data types of both the variables."
   ]
  },
  {
   "cell_type": "code",
   "execution_count": 1,
   "id": "b96d33b0",
   "metadata": {},
   "outputs": [
    {
     "name": "stdout",
     "output_type": "stream",
     "text": [
      "The data type of list_ is:  <class 'list'>\n",
      "The data type of array_list is:  <class 'numpy.ndarray'>\n"
     ]
    }
   ],
   "source": [
    "import numpy as np\n",
    "\n",
    "list_ = ['1', '2', '3', '4', '5']\n",
    "array_list = np.array(object=list_)\n",
    "\n",
    "print(\"The data type of list_ is: \", type(list_))\n",
    "print(\"The data type of array_list is: \", type(array_list))\n"
   ]
  },
  {
   "cell_type": "markdown",
   "id": "22897e89",
   "metadata": {},
   "source": [
    "#### Q2. Write a code to print the data type of each and every element of both the variables list_ and arra_list."
   ]
  },
  {
   "cell_type": "code",
   "execution_count": 2,
   "id": "78b0a16c",
   "metadata": {},
   "outputs": [
    {
     "name": "stdout",
     "output_type": "stream",
     "text": [
      "The data type of list_[0] is: <class 'str'>\n",
      "The data type of list_[1] is: <class 'str'>\n",
      "The data type of list_[2] is: <class 'str'>\n",
      "The data type of list_[3] is: <class 'str'>\n",
      "The data type of list_[4] is: <class 'str'>\n",
      "The data type of array_list[0] is: <class 'numpy.str_'>\n",
      "The data type of array_list[1] is: <class 'numpy.str_'>\n",
      "The data type of array_list[2] is: <class 'numpy.str_'>\n",
      "The data type of array_list[3] is: <class 'numpy.str_'>\n",
      "The data type of array_list[4] is: <class 'numpy.str_'>\n"
     ]
    }
   ],
   "source": [
    "import numpy as np\n",
    "\n",
    "list_ = ['1', '2', '3', '4', '5']\n",
    "array_list = np.array(object=list_)\n",
    "\n",
    "for i in range(len(list_)):\n",
    "  print(\"The data type of list_[{}] is: {}\".format(i, type(list_[i])))\n",
    "\n",
    "for i in range(len(array_list)):\n",
    "  print(\"The data type of array_list[{}] is: {}\".format(i, type(array_list[i])))\n"
   ]
  },
  {
   "cell_type": "markdown",
   "id": "984d97b2",
   "metadata": {},
   "source": [
    "##### Q3. Considering the following changes in the variable, array_list:\n",
    "##### array_list = np.array(object = list_, dtype = int)\n",
    "##### Will there be any difference in the data type of the elements present in both the variables, list_ and\n",
    "##### arra_list? If so then print the data types of each and every element present in both the variables, list_\n",
    "##### and arra_list.\n",
    "##### Consider the below code to answer further questions:\n",
    "#### import numpy as np\n",
    "#### num_list = [ [ 1 , 2 , 3 ] , [ 4 , 5 , 6 ] ]\n",
    "##### num_array = np.array(object = num_list)"
   ]
  },
  {
   "cell_type": "code",
   "execution_count": 3,
   "id": "225b852c",
   "metadata": {},
   "outputs": [
    {
     "name": "stdout",
     "output_type": "stream",
     "text": [
      "The data type of list_[0] is: <class 'str'>\n",
      "The data type of list_[1] is: <class 'str'>\n",
      "The data type of list_[2] is: <class 'str'>\n",
      "The data type of list_[3] is: <class 'str'>\n",
      "The data type of list_[4] is: <class 'str'>\n",
      "The data type of array_list[0] is: <class 'numpy.int32'>\n",
      "The data type of array_list[1] is: <class 'numpy.int32'>\n",
      "The data type of array_list[2] is: <class 'numpy.int32'>\n",
      "The data type of array_list[3] is: <class 'numpy.int32'>\n",
      "The data type of array_list[4] is: <class 'numpy.int32'>\n"
     ]
    }
   ],
   "source": [
    "import numpy as np\n",
    "\n",
    "list_ = ['1', '2', '3', '4', '5']\n",
    "array_list = np.array(object=list_, dtype=int)\n",
    "\n",
    "for i in range(len(list_)):\n",
    "  print(\"The data type of list_[{}] is: {}\".format(i, type(list_[i])))\n",
    "\n",
    "for i in range(len(array_list)):\n",
    "  print(\"The data type of array_list[{}] is: {}\".format(i, type(array_list[i])))\n"
   ]
  },
  {
   "cell_type": "code",
   "execution_count": 4,
   "id": "fe3fd764",
   "metadata": {},
   "outputs": [
    {
     "name": "stdout",
     "output_type": "stream",
     "text": [
      "[[1 2 3]\n",
      " [4 5 6]]\n"
     ]
    }
   ],
   "source": [
    "import numpy as np\n",
    "\n",
    "num_list = [[1, 2, 3], [4, 5, 6]]\n",
    "num_array = np.array(object=num_list)\n",
    "\n",
    "print(num_array)\n"
   ]
  },
  {
   "cell_type": "markdown",
   "id": "808a48de",
   "metadata": {},
   "source": [
    "#### Q4. Write a code to find the following characteristics of variable, num_array:\n",
    "#### (i) shape\n",
    "#### (ii) size"
   ]
  },
  {
   "cell_type": "code",
   "execution_count": 5,
   "id": "2cfbb4b1",
   "metadata": {},
   "outputs": [
    {
     "name": "stdout",
     "output_type": "stream",
     "text": [
      "The shape of num_array is: (2, 3)\n",
      "The size of num_array is: 6\n"
     ]
    }
   ],
   "source": [
    "import numpy as np\n",
    "\n",
    "num_list = [[1, 2, 3], [4, 5, 6]]\n",
    "num_array = np.array(object=num_list)\n",
    "\n",
    "print(\"The shape of num_array is: {}\".format(num_array.shape))\n",
    "print(\"The size of num_array is: {}\".format(num_array.size))\n"
   ]
  },
  {
   "cell_type": "markdown",
   "id": "1cc6c649",
   "metadata": {},
   "source": [
    "#### Q5. Write a code to create numpy array of 3*3 matrix containing zeros only, using a numpy array\n",
    "#### creation function.\n",
    "[Hint: The size of the array will be 9 and the shape will be (3,3).]"
   ]
  },
  {
   "cell_type": "code",
   "execution_count": 6,
   "id": "2fcad417",
   "metadata": {},
   "outputs": [
    {
     "name": "stdout",
     "output_type": "stream",
     "text": [
      "The shape of zeros_array is: (3, 3)\n",
      "The size of zeros_array is: 9\n"
     ]
    }
   ],
   "source": [
    "import numpy as np\n",
    "\n",
    "# Create a 3*3 NumPy array of zeros\n",
    "zeros_array = np.zeros((3, 3))\n",
    "\n",
    "# Print the shape and size of the array\n",
    "print(\"The shape of zeros_array is: {}\".format(zeros_array.shape))\n",
    "print(\"The size of zeros_array is: {}\".format(zeros_array.size))\n"
   ]
  },
  {
   "cell_type": "markdown",
   "id": "89483b46",
   "metadata": {},
   "source": [
    "#### Q6. Create an identity matrix of shape (5,5) using numpy functions?\n",
    "[Hint: An identity matrix is a matrix containing 1 diagonally and other elements will be 0.]"
   ]
  },
  {
   "cell_type": "code",
   "execution_count": 7,
   "id": "4ed86d4f",
   "metadata": {},
   "outputs": [
    {
     "name": "stdout",
     "output_type": "stream",
     "text": [
      "The shape of identity_matrix is: (5, 5)\n",
      "The size of identity_matrix is: 25\n"
     ]
    }
   ],
   "source": [
    "import numpy as np\n",
    "\n",
    "# Create a 5*5 NumPy array of zeros\n",
    "identity_matrix = np.identity(5)\n",
    "\n",
    "# Print the shape and size of the array\n",
    "print(\"The shape of identity_matrix is: {}\".format(identity_matrix.shape))\n",
    "print(\"The size of identity_matrix is: {}\".format(identity_matrix.size))\n"
   ]
  }
 ],
 "metadata": {
  "kernelspec": {
   "display_name": "Python 3 (ipykernel)",
   "language": "python",
   "name": "python3"
  },
  "language_info": {
   "codemirror_mode": {
    "name": "ipython",
    "version": 3
   },
   "file_extension": ".py",
   "mimetype": "text/x-python",
   "name": "python",
   "nbconvert_exporter": "python",
   "pygments_lexer": "ipython3",
   "version": "3.9.7"
  }
 },
 "nbformat": 4,
 "nbformat_minor": 5
}
