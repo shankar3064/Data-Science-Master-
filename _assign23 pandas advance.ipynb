{
 "cells": [
  {
   "cell_type": "markdown",
   "id": "75e17f41-b7bf-4073-aad3-609a37093bab",
   "metadata": {},
   "source": [
    "### Q1. List any five functions of the pandas library with execution."
   ]
  },
  {
   "cell_type": "markdown",
   "id": "9e22970c-3fc3-4222-b851-e3faf0659989",
   "metadata": {},
   "source": [
    "#### read_csv(): This function is used to read CSV files into a Pandas DataFrame. It takes a file path as input and returns a DataFrame.\n"
   ]
  },
  {
   "cell_type": "code",
   "execution_count": null,
   "id": "7b8c20ed-b272-4708-8b78-137c1e283093",
   "metadata": {},
   "outputs": [],
   "source": [
    "import pandas as pd\n",
    "df = pd.read_csv('data.csv')"
   ]
  },
  {
   "cell_type": "markdown",
   "id": "dc2bba42-d34e-4301-aaed-362ab16c7acd",
   "metadata": {},
   "source": [
    "#### head(): This function is used to display the first few rows of a DataFrame. It takes an integer argument that specifies the number of rows to display"
   ]
  },
  {
   "cell_type": "code",
   "execution_count": null,
   "id": "e8988a50-2a77-46b9-ac27-99257f5a7967",
   "metadata": {},
   "outputs": [],
   "source": [
    "import pandas as pd\n",
    "df = pd.read_csv('data.csv')\n",
    "print(df.head(10))\n"
   ]
  },
  {
   "cell_type": "markdown",
   "id": "b9f4628a-e14a-465a-ad08-387c04498563",
   "metadata": {},
   "source": [
    "#### groupby(): This function is used to group data in a DataFrame by one or more columns. It returns a DataFrameGroupBy object, which can be used to perform various aggregations on the grouped data. "
   ]
  },
  {
   "cell_type": "code",
   "execution_count": null,
   "id": "f3cc0919-feb5-49df-845b-e1036cedf017",
   "metadata": {},
   "outputs": [],
   "source": [
    "import pandas as pd\n",
    "df = pd.read_csv('data.csv')\n",
    "grouped = df.groupby('category')\n",
    "print(grouped.mean())\n"
   ]
  },
  {
   "cell_type": "markdown",
   "id": "0e4c24dc-39f4-48bf-8003-8c84a10f3049",
   "metadata": {},
   "source": [
    "#### fillna(): This function is used to fill missing values in a DataFrame. It takes various arguments to specify how to fill the missing values, such as a scalar value or a dictionary that maps column names to fill values"
   ]
  },
  {
   "cell_type": "code",
   "execution_count": null,
   "id": "4ab7d25e-1437-4d30-9c33-d3277c02838a",
   "metadata": {},
   "outputs": [],
   "source": [
    "import pandas as pd\n",
    "import numpy as np\n",
    "df = pd.read_csv('data.csv')\n",
    "df.fillna({'age': np.mean(df['age'])}, inplace=True)\n"
   ]
  },
  {
   "cell_type": "markdown",
   "id": "39d50931-5e49-455a-8dbd-5505b24f8f56",
   "metadata": {},
   "source": [
    "#### merge(): This function is used to merge two or more DataFrames based on a common column. It takes various arguments to specify how to perform the merge, such as the type of join and the columns to merge on."
   ]
  },
  {
   "cell_type": "code",
   "execution_count": null,
   "id": "2ae14f7e-8ef8-488a-86a8-95feaff7106e",
   "metadata": {},
   "outputs": [],
   "source": [
    "import pandas as pd\n",
    "df1 = pd.read_csv('data1.csv')\n",
    "df2 = pd.read_csv('data2.csv')\n",
    "merged = pd.merge(df1, df2, on='id', how='inner')\n"
   ]
  },
  {
   "cell_type": "markdown",
   "id": "dd6326d1-f36f-4717-8010-403a421d3124",
   "metadata": {},
   "source": [
    "### Q2. Given a Pandas DataFrame df with columns 'A', 'B', and 'C', write a Python function to re-index the DataFrame with a new index that starts from 1 and increments by 2 for each row."
   ]
  },
  {
   "cell_type": "code",
   "execution_count": 1,
   "id": "467d7cec-5a21-4ff7-bf04-b115982756d0",
   "metadata": {},
   "outputs": [],
   "source": [
    "import pandas as pd"
   ]
  },
  {
   "cell_type": "code",
   "execution_count": 2,
   "id": "da998847-a1b2-43ce-bf99-fd45b734958b",
   "metadata": {},
   "outputs": [
    {
     "name": "stdout",
     "output_type": "stream",
     "text": [
      "Original DataFrame:\n",
      "    A  B   C\n",
      "0  1  5   9\n",
      "1  2  6  10\n",
      "2  3  7  11\n",
      "3  4  8  12\n",
      "\n",
      "Reindexed DataFrame:\n",
      "      A    B     C\n",
      "1  2.0  6.0  10.0\n",
      "3  4.0  8.0  12.0\n",
      "5  NaN  NaN   NaN\n",
      "7  NaN  NaN   NaN\n"
     ]
    }
   ],
   "source": [
    "def reindex_df(df):\n",
    "    new_index = range(1, len(df)*2, 2)\n",
    "    df = df.reindex(new_index)\n",
    "    return df\n",
    "df = pd.DataFrame({\n",
    "    'A': [1, 2, 3, 4],\n",
    "    'B': [5, 6, 7, 8],\n",
    "    'C': [9, 10, 11, 12]\n",
    "})\n",
    "\n",
    "print(\"Original DataFrame:\\n\", df)\n",
    "\n",
    "df = reindex_df(df)\n",
    "\n",
    "print(\"\\nReindexed DataFrame:\\n\", df)"
   ]
  },
  {
   "cell_type": "markdown",
   "id": "d5511d3f-401c-4263-8ef5-9969c21dfb73",
   "metadata": {},
   "source": [
    "### Q3. You have a Pandas DataFrame df with a column named 'Values'. Write a Python function that\n",
    "### iterates over the DataFrame and calculates the sum of the first three values in the 'Values' column. The\n",
    "### function should print the sum to the console.\n",
    "#### For example, if the 'Values' column of df contains the values [10, 20, 30, 40, 50], your function should\n",
    "#### calculate and print the sum of the first three values, which is 60."
   ]
  },
  {
   "cell_type": "code",
   "execution_count": 4,
   "id": "d95ecc07-c0cc-4c9d-9fde-6a825fb8bd5e",
   "metadata": {},
   "outputs": [
    {
     "name": "stdout",
     "output_type": "stream",
     "text": [
      "DataFrame:\n",
      "    Values\n",
      "0      10\n",
      "1      20\n",
      "2      30\n",
      "3      40\n",
      "4      50\n",
      "Sum of first three values: 60\n"
     ]
    }
   ],
   "source": [
    "def sum_first_three(df):\n",
    "    total = 0\n",
    "    for i, row in df.iterrows():\n",
    "        if i < 3:\n",
    "            total += row['Values']\n",
    "    print(\"Sum of first three values:\", total)\n",
    "df = pd.DataFrame({'Values': [10, 20, 30, 40, 50]})\n",
    "print(\"DataFrame:\\n\", df)\n",
    "\n",
    "sum_first_three(df)"
   ]
  },
  {
   "cell_type": "markdown",
   "id": "65a7257c-ac2b-464d-b931-7eab06246165",
   "metadata": {},
   "source": [
    "### Q4. Given a Pandas DataFrame df with a column 'Text', write a Python function to create a new column 'Word_Count' that contains the number of words in each row of the 'Text' column."
   ]
  },
  {
   "cell_type": "code",
   "execution_count": 5,
   "id": "2c989994-b3b6-443c-98b9-4f35b42cc5b5",
   "metadata": {},
   "outputs": [
    {
     "name": "stdout",
     "output_type": "stream",
     "text": [
      "Before:\n",
      "                                         Text\n",
      "0                        This is a sentence.\n",
      "1                     Another sentence here!\n",
      "2  A third sentence with punctuation, right?\n",
      "After:\n",
      "                                         Text  Word_Count\n",
      "0                        This is a sentence.           4\n",
      "1                     Another sentence here!           3\n",
      "2  A third sentence with punctuation, right?           6\n"
     ]
    }
   ],
   "source": [
    "import pandas as pd\n",
    "import string\n",
    "\n",
    "def count_words(df):\n",
    "    df['Word_Count'] = df['Text'].apply(lambda x: len(x.translate(str.maketrans('', '', string.punctuation)).split()))\n",
    "    return df\n",
    "\n",
    "df = pd.DataFrame({'Text': ['This is a sentence.', 'Another sentence here!', 'A third sentence with punctuation, right?']})\n",
    "print(\"Before:\\n\", df)\n",
    "\n",
    "df = count_words(df)\n",
    "print(\"After:\\n\", df)\n"
   ]
  },
  {
   "cell_type": "markdown",
   "id": "40fd9231-f557-4411-b9aa-d6d8cfcbb8fd",
   "metadata": {},
   "source": [
    "### Q5. How are DataFrame.size() and DataFrame.shape() different?\n",
    "#### DataFrame.size() returns the number of elements in the DataFrame, i.e., the total number of cells. It is calculated by multiplying the number of rows by the number of columns in the DataFrame. This method does not take any arguments.\n",
    "\n",
    "#### DataFrame.shape() returns a tuple containing the number of rows and columns in the DataFrame, in that order. It does not take any arguments."
   ]
  },
  {
   "cell_type": "code",
   "execution_count": 6,
   "id": "95bf6901-ea5f-47aa-82a0-31d74ed3c29f",
   "metadata": {},
   "outputs": [
    {
     "name": "stdout",
     "output_type": "stream",
     "text": [
      "      Name  Age  Gender\n",
      "0    Alice   25  female\n",
      "1      Bob   30    male\n",
      "2  Charlie   27    male\n",
      "Size of the DataFrame: 9\n",
      "Shape of the DataFrame: (3, 3)\n"
     ]
    }
   ],
   "source": [
    "df = pd.DataFrame({\n",
    "    'Name': ['Alice', 'Bob', 'Charlie'],\n",
    "    'Age': [25, 30, 27],\n",
    "    'Gender': ['female', 'male', 'male']\n",
    "})\n",
    "print(df)\n",
    "print(\"Size of the DataFrame:\", df.size)\n",
    "print(\"Shape of the DataFrame:\", df.shape)"
   ]
  },
  {
   "cell_type": "markdown",
   "id": "e31436f2-ab0d-46e2-904b-20b5c569a3ca",
   "metadata": {},
   "source": [
    "### Q6. Which function of pandas do we use to read an excel file?"
   ]
  },
  {
   "cell_type": "markdown",
   "id": "7b367e55-951f-4423-aa82-65e505084136",
   "metadata": {},
   "source": [
    "#### To read an Excel file in pandas, we use the read_excel() function. The read_excel() function reads the data from an Excel file into a pandas DataFrame. It can read data from both .xls and .xlsx files."
   ]
  },
  {
   "cell_type": "code",
   "execution_count": null,
   "id": "41fd73a0-b21e-4515-a5b3-ec2f005495d9",
   "metadata": {},
   "outputs": [],
   "source": [
    "import pandas as pd\n",
    "df = pd.read_excel('my_excel_file.xlsx')\n",
    "print(df.head())"
   ]
  },
  {
   "cell_type": "markdown",
   "id": "5f82b05f-9d40-414f-ba39-dfcb717613fe",
   "metadata": {},
   "source": [
    "#### Q7. You have a Pandas DataFrame df that contains a column named 'Email' that contains email addresses in the format 'username@domain.com'. Write a Python function that creates a new column 'Username' in df that contains only the username part of each email address. The username is the part of the email address that appears before the '@' symbol. For example, if the email address is 'john.doe@example.com', the 'Username' column should contain 'john.doe'. Your function should extract the username from each email address and store it in the new 'Username' column."
   ]
  },
  {
   "cell_type": "code",
   "execution_count": 10,
   "id": "2af14352-d110-4716-b046-a9e9377cb526",
   "metadata": {},
   "outputs": [],
   "source": [
    "import pandas as pd\n",
    "\n",
    "def extract_username(df):\n",
    "    df['Username'] = df['Email'].apply(lambda x: x.split('@')[0])\n",
    "    \n",
    "    return df\n"
   ]
  },
  {
   "cell_type": "markdown",
   "id": "e517349e-7b0b-4b5d-8cba-22b82fcfd679",
   "metadata": {},
   "source": [
    "### Q8. You have a Pandas DataFrame df with columns 'A', 'B', and 'C'. Write a Python function that selects all rows where the value in column 'A' is greater than 5 and the value in column 'B' is less than 10. The function should return a new DataFrame that contains only the selected rows. For example, if df contains the following values:\n",
    "### A B C\n",
    "### 0 3 5 1\n",
    "### 1 8 2 7\n",
    "### 2 6 9 4\n",
    "### 3 2 3 5\n",
    "### 4 9 1 2\n",
    "#### Your function should select the following rows: A B C\n",
    "### 1 8 2 7\n",
    "### 4 9 1 2\n",
    "#### The function should return a new DataFrame that contains only the selected rows."
   ]
  },
  {
   "cell_type": "code",
   "execution_count": 17,
   "id": "a69a7a29-afa3-41e0-97be-9700739729f8",
   "metadata": {},
   "outputs": [],
   "source": [
    "import pandas as pd\n",
    "\n",
    "def select_rows(df):\n",
    "\n",
    "    return df[(df['A'] > 5) & (df['B'] < 10)]\n"
   ]
  },
  {
   "cell_type": "code",
   "execution_count": 18,
   "id": "ae721670-6521-4f93-a296-c757f5cd0359",
   "metadata": {},
   "outputs": [
    {
     "name": "stdout",
     "output_type": "stream",
     "text": [
      "   A  B  C\n",
      "1  8  2  7\n",
      "2  6  9  4\n",
      "4  9  1  2\n"
     ]
    }
   ],
   "source": [
    "df = pd.DataFrame({'A': [3, 8, 6, 2, 9], 'B': [5, 2, 9, 3, 1], 'C': [1, 7, 4, 5, 2]})\n",
    "selected_rows = select_rows(df)\n",
    "print(selected_rows)\n"
   ]
  },
  {
   "cell_type": "markdown",
   "id": "019945ed-cf1a-492a-b092-42541af4bfe9",
   "metadata": {},
   "source": [
    "### Q9. Given a Pandas DataFrame df with a column 'Values', write a Python function to calculate the mean, median, and standard deviation of the values in the 'Values' column."
   ]
  },
  {
   "cell_type": "code",
   "execution_count": 19,
   "id": "ec672225-10ee-4a98-845b-31a14c7a7c08",
   "metadata": {},
   "outputs": [],
   "source": [
    "import pandas as pd\n",
    "\n",
    "def calculate_stats(df):\n",
    "    mean = df['Values'].mean()\n",
    "    median = df['Values'].median()\n",
    "    std_dev = df['Values'].std()\n",
    "    print(\"Mean:\", mean)\n",
    "    print(\"Median:\", median)\n",
    "    print(\"Standard deviation:\", std_dev)\n"
   ]
  },
  {
   "cell_type": "code",
   "execution_count": 20,
   "id": "b2a6b225-8193-4527-90f7-72f500b0c2e2",
   "metadata": {},
   "outputs": [
    {
     "name": "stdout",
     "output_type": "stream",
     "text": [
      "Mean: 3.0\n",
      "Median: 3.0\n",
      "Standard deviation: 1.5811388300841898\n"
     ]
    }
   ],
   "source": [
    "df = pd.DataFrame({'Values': [1, 2, 3, 4, 5]})\n",
    "calculate_stats(df)\n"
   ]
  },
  {
   "cell_type": "markdown",
   "id": "6cf4acf5-02c5-4bed-a2c3-c068627eb799",
   "metadata": {},
   "source": [
    "### Q10. Given a Pandas DataFrame df with a column 'Sales' and a column 'Date', write a Python function to create a new column 'MovingAverage' that contains the moving average of the sales for the past 7 days for each row in the DataFrame. The moving average should be calculated using a window of size 7 and should include the current day."
   ]
  },
  {
   "cell_type": "markdown",
   "id": "732e97cb-46cf-45ee-a0d1-6658dcfd4adc",
   "metadata": {},
   "source": [
    "### To calculate the moving average for the past 7 days for each row in a Pandas DataFrame, we can use the rolling method along with the mean method. Here's an example Python function that adds a new column 'MovingAverage' to the DataFrame 'df"
   ]
  },
  {
   "cell_type": "code",
   "execution_count": 21,
   "id": "f54f1cba-f2dc-4b07-8efd-a6e7aa90fbd6",
   "metadata": {},
   "outputs": [],
   "source": [
    "import pandas as pd\n",
    "\n",
    "def calculate_moving_average(df):\n",
    "    \n",
    "    df = df.sort_values('Date')\n",
    "    \n",
    "    df = df.set_index('Date')\n",
    "   \n",
    "    df['MovingAverage'] = df['Sales'].rolling(window=7, min_periods=1).mean()\n",
    "    \n",
    "    df = df.reset_index()\n",
    "    return df\n"
   ]
  },
  {
   "cell_type": "markdown",
   "id": "c7356cad-a338-45ac-a2d7-cece01c66fc2",
   "metadata": {},
   "source": [
    "### Q11. You have a Pandas DataFrame df with a column 'Date'. Write a Python function that creates a new\n",
    "### column 'Weekday' in the DataFrame. The 'Weekday' column should contain the weekday name (e.g.\n",
    "### Monday, Tuesday) corresponding to each date in the 'Date' column.\n",
    "### For example, if df contains the following values:\n",
    "### Date\n",
    "### 0 2023-01-01\n",
    "### 1 2023-01-02\n",
    "### 2 2023-01-03\n",
    "### 3 2023-01-04\n",
    "### 4 2023-01-05\n",
    "### Your function should create the following DataFrame:\n",
    "\n",
    "### Date Weekday\n",
    "### 0 2023-01-01 Sunday\n",
    "### 1 2023-01-02 Monday\n",
    "### 2 2023-01-03 Tuesday\n",
    "### 3 2023-01-04 Wednesday\n",
    "### 4 2023-01-05 Thursday\n",
    "### The function should return the modified DataFrame."
   ]
  },
  {
   "cell_type": "code",
   "execution_count": 23,
   "id": "989389fa-e72f-404a-8271-e8c5e42f1f06",
   "metadata": {},
   "outputs": [
    {
     "name": "stdout",
     "output_type": "stream",
     "text": [
      "        Date    Weekday\n",
      "0 2023-01-01     Sunday\n",
      "1 2023-01-02     Monday\n",
      "2 2023-01-03    Tuesday\n",
      "3 2023-01-04  Wednesday\n",
      "4 2023-01-05   Thursday\n"
     ]
    }
   ],
   "source": [
    "import pandas as pd\n",
    "\n",
    "\n",
    "df = pd.DataFrame({'Date': ['2023-01-01', '2023-01-02', '2023-01-03', '2023-01-04', '2023-01-05']})\n",
    "\n",
    "\n",
    "df['Date'] = pd.to_datetime(df['Date'])\n",
    "\n",
    "\n",
    "weekday_map = {0: 'Monday', 1: 'Tuesday', 2: 'Wednesday', 3: 'Thursday', 4: 'Friday', 5: 'Saturday', 6: 'Sunday'}\n",
    "\n",
    "\n",
    "df['Weekday'] = df['Date'].dt.dayofweek.map(weekday_map)\n",
    "\n",
    "\n",
    "print(df)\n"
   ]
  },
  {
   "cell_type": "code",
   "execution_count": 25,
   "id": "769eea64-42eb-4ba7-98a0-262952b6690c",
   "metadata": {},
   "outputs": [],
   "source": [
    "import pandas as pd\n",
    "\n",
    "def add_weekday_column(df):\n",
    "\n",
    "    df['Date'] = pd.to_datetime(df['Date'])\n",
    "\n",
    " \n",
    "    weekday_map = {0: 'Monday', 1: 'Tuesday', 2: 'Wednesday', 3: 'Thursday', 4: 'Friday', 5: 'Saturday', 6: 'Sunday'}\n",
    "\n",
    "   \n",
    "    df['Weekday'] = df['Date'].dt.dayofweek.map(weekday_map)\n",
    "\n",
    "    return df\n"
   ]
  },
  {
   "cell_type": "markdown",
   "id": "74fcb613-f441-4b5a-b012-ebe0cd522293",
   "metadata": {},
   "source": [
    "### Q12. Given a Pandas DataFrame df with a column 'Date' that contains timestamps, write a Python function to select all rows where the date is between '2023-01-01' and '2023-01-31'."
   ]
  },
  {
   "cell_type": "code",
   "execution_count": 26,
   "id": "89081541-8b78-46b6-8ee2-4739b295a278",
   "metadata": {},
   "outputs": [
    {
     "name": "stdout",
     "output_type": "stream",
     "text": [
      "        Date  Values\n",
      "0 2023-01-01      10\n",
      "1 2023-01-15      20\n",
      "2 2023-01-31      30\n"
     ]
    }
   ],
   "source": [
    "import pandas as pd\n",
    "\n",
    "# create sample DataFrame\n",
    "df = pd.DataFrame({\n",
    "    'Date': ['2023-01-01', '2023-01-15', '2023-01-31', '2023-02-01'],\n",
    "    'Values': [10, 20, 30, 40]\n",
    "})\n",
    "\n",
    "# convert 'Date' column to datetime format\n",
    "df['Date'] = pd.to_datetime(df['Date'])\n",
    "\n",
    "# select rows between '2023-01-01' and '2023-01-31'\n",
    "start_date = '2023-01-01'\n",
    "end_date = '2023-01-31'\n",
    "mask = (df['Date'] >= start_date) & (df['Date'] <= end_date)\n",
    "result = df.loc[mask]\n",
    "\n",
    "print(result)\n"
   ]
  },
  {
   "cell_type": "code",
   "execution_count": null,
   "id": "0e768235-b483-48d2-a107-1b64638f5b19",
   "metadata": {},
   "outputs": [],
   "source": []
  }
 ],
 "metadata": {
  "kernelspec": {
   "display_name": "Python 3 (ipykernel)",
   "language": "python",
   "name": "python3"
  },
  "language_info": {
   "codemirror_mode": {
    "name": "ipython",
    "version": 3
   },
   "file_extension": ".py",
   "mimetype": "text/x-python",
   "name": "python",
   "nbconvert_exporter": "python",
   "pygments_lexer": "ipython3",
   "version": "3.10.8"
  }
 },
 "nbformat": 4,
 "nbformat_minor": 5
}
