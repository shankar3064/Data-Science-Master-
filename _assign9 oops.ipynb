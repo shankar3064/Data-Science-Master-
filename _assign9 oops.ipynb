{
 "cells": [
  {
   "cell_type": "markdown",
   "id": "bee39be6-9778-4060-a594-3e97e123a183",
   "metadata": {},
   "source": [
    "## Q1, Create a vehicle class with an init method having instance variables as name_of_vehicle, max_speed\n",
    "## and average_of_vehicle."
   ]
  },
  {
   "cell_type": "code",
   "execution_count": 7,
   "id": "659a4755-a60c-47b8-b016-5518081f6314",
   "metadata": {},
   "outputs": [
    {
     "name": "stdout",
     "output_type": "stream",
     "text": [
      "Honda\n",
      "120\n",
      "15\n"
     ]
    }
   ],
   "source": [
    "class Vehicle:\n",
    "    def __init__(self, name_of_vehicle, max_speed, average_of_vehicle):\n",
    "        self.name_of_vehicle = name_of_vehicle\n",
    "        self.max_speed = max_speed\n",
    "        self.average_of_vehicle = average_of_vehicle\n",
    "\n",
    "car = Vehicle(\"Honda\", 120, 15)\n",
    "print(car.name_of_vehicle) \n",
    "print(car.max_speed)\n",
    "print(car.average_of_vehicle) \n"
   ]
  },
  {
   "cell_type": "markdown",
   "id": "6c4a8a1b-c9ef-4643-8f2c-3146c559e421",
   "metadata": {},
   "source": [
    "### Q2. Create a child class car from the vehicle class created in Que 1, which will inherit the vehicle class.\n",
    "### Create a method named seating_capacity which takes capacity as an argument and returns the name of\n",
    "### the vehicle and its seating capacity."
   ]
  },
  {
   "cell_type": "code",
   "execution_count": 8,
   "id": "e7606b8f-c882-4828-bc0f-b74658db01c5",
   "metadata": {},
   "outputs": [
    {
     "name": "stdout",
     "output_type": "stream",
     "text": [
      "Name of the vehicle: Sedan, Seating capacity: 4\n"
     ]
    }
   ],
   "source": [
    "class Car(Vehicle):\n",
    "    def __init__(self, name_of_vehicle, max_speed, average_of_vehicle, capacity):\n",
    "        Vehicle.__init__(self, name_of_vehicle, max_speed, average_of_vehicle)\n",
    "        self.capacity = capacity\n",
    "    \n",
    "    def seating_capacity(self):\n",
    "        return f\"Name of the vehicle: {self.name_of_vehicle}, Seating capacity: {self.capacity}\"\n",
    "car = Car(\"Sedan\", 180, 20, 4)\n",
    "print(car.seating_capacity())\n"
   ]
  },
  {
   "cell_type": "markdown",
   "id": "ab9518dc-6bf2-4eab-a14b-e5651643ed97",
   "metadata": {},
   "source": [
    "### Q3. What is multiple inheritance? Write a python code to demonstrate multiple inheritance.\n",
    "#### Ans:-    Multiple inheritance is a feature in object-oriented programming where a class can inherit properties and methods from multiple parent classes. Instead of inheriting from a single base class, a derived class can inherit from multiple base classes."
   ]
  },
  {
   "cell_type": "code",
   "execution_count": 15,
   "id": "30d8a207-e7d9-4077-9cb5-a33f5c36a4fa",
   "metadata": {},
   "outputs": [
    {
     "name": "stdout",
     "output_type": "stream",
     "text": [
      "Parent1 method1\n",
      "Parent2 method2\n",
      "Child method3\n"
     ]
    }
   ],
   "source": [
    "class Parent1:\n",
    "    def method1(self):\n",
    "        print(\"Parent1 method1\")\n",
    " \n",
    "class Parent2:\n",
    "    def method2(self):\n",
    "        print(\"Parent2 method2\")\n",
    " \n",
    "\n",
    "class Child(Parent1, Parent2):\n",
    "    def method3(self):\n",
    "        print(\"Child method3\")\n",
    " \n",
    " \n",
    "c = Child()\n",
    "c.method1()\n",
    "c.method2()\n",
    "c.method3()\n"
   ]
  },
  {
   "cell_type": "markdown",
   "id": "5658898b-fb81-4c32-9944-ae5e5bf464dc",
   "metadata": {},
   "source": [
    "### Q4. What are getter and setter in python? Create a class and create a getter and a setter method in this\n",
    "### class.\n",
    "\n",
    "##### In Python, a getter method is a method that returns the value of an instance variable. A setter method is a method that sets the value of an instance variable. "
   ]
  },
  {
   "cell_type": "code",
   "execution_count": 16,
   "id": "84471779-fac6-4340-a82e-2a79e55411b6",
   "metadata": {},
   "outputs": [
    {
     "name": "stdout",
     "output_type": "stream",
     "text": [
      "Radius:  5\n",
      "Radius:  10\n"
     ]
    }
   ],
   "source": [
    "class Circle:\n",
    "    def __init__(self, radius):\n",
    "        self.radius = radius\n",
    "    \n",
    "    def get_radius(self):\n",
    "        return self.radius\n",
    "    \n",
    "    def set_radius(self, radius):\n",
    "        self.radius = radius\n",
    "\n",
    " circle = Circle(5)\n",
    "print(\"Radius: \", circle.get_radius())  \n",
    "circle.set_radius(10)\n",
    "print(\"Radius: \", circle.get_radius())  \n"
   ]
  },
  {
   "cell_type": "markdown",
   "id": "240fcf4b-a415-4032-8fdf-5917bf363bd1",
   "metadata": {},
   "source": [
    "### Q5.What is method overriding in python? Write a python code to demonstrate method overriding.\n",
    "\n",
    "##### Method overriding in Python is the process of creating a new method in a subclass that has the same name as a method in its parent class. The purpose of this is to provide a new implementation of the method that is specific to the subclass. When the method is called, the implementation in the subclass will be executed instead of the implementation in the parent class."
   ]
  },
  {
   "cell_type": "code",
   "execution_count": 34,
   "id": "4b98dd9e-c490-4353-8195-92de4f992d78",
   "metadata": {},
   "outputs": [],
   "source": [
    "def display_vehicle_details(self):\n",
    "    print(\"Vehicle name:\", self.name_of_vehicle)\n",
    "    print(\"Maximum speed:\", self.max_speed)\n",
    "    print(\"Average of vehicle:\", self.average_of_vehicle)\n",
    "\n",
    "def display_vehicle_details(self):\n",
    "    print(\"Vehicle name:\", self.name_of_vehicle)\n",
    "    print(\"Maximum speed:\", self.max_speed)\n",
    "    print(\"Average of vehicle:\", self.average_of_vehicle)\n",
    "car = Car(\"sedan\",200,30,4)"
   ]
  },
  {
   "cell_type": "code",
   "execution_count": 35,
   "id": "70a428af-a625-401d-9d99-fb5eb5bbf094",
   "metadata": {},
   "outputs": [
    {
     "name": "stdout",
     "output_type": "stream",
     "text": [
      "Bark\n"
     ]
    }
   ],
   "source": [
    "class Animal:\n",
    "    def make_sound(self):\n",
    "        print(\"Animal sound\")\n",
    "\n",
    "class Dog(Animal):\n",
    "    def make_sound(self):\n",
    "        print(\"Bark\")\n",
    "\n",
    "dog = Dog()\n",
    "dog.make_sound()\n"
   ]
  },
  {
   "cell_type": "code",
   "execution_count": null,
   "id": "845b15fc-11a3-495b-8ceb-6e008aefd76b",
   "metadata": {},
   "outputs": [],
   "source": []
  }
 ],
 "metadata": {
  "kernelspec": {
   "display_name": "Python 3 (ipykernel)",
   "language": "python",
   "name": "python3"
  },
  "language_info": {
   "codemirror_mode": {
    "name": "ipython",
    "version": 3
   },
   "file_extension": ".py",
   "mimetype": "text/x-python",
   "name": "python",
   "nbconvert_exporter": "python",
   "pygments_lexer": "ipython3",
   "version": "3.10.8"
  }
 },
 "nbformat": 4,
 "nbformat_minor": 5
}
