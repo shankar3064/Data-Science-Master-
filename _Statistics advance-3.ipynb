{
 "cells": [
  {
   "cell_type": "markdown",
   "id": "cb73391d",
   "metadata": {},
   "source": [
    "## Q1: What is Estimation Statistics? Explain point estimate and interval estimate."
   ]
  },
  {
   "cell_type": "markdown",
   "id": "31d4f1a0",
   "metadata": {},
   "source": [
    "Estimation statistics is a branch of inferential statistics that deals with the process of estimating population parameters (e.g., mean, variance, proportion) based on sample data. In inferential statistics, we often have access to data from a sample, but we are interested in making inferences about the entire population from which the sample was drawn.\n",
    "\n",
    "There are two main types of estimation: point estimation and interval estimation.\n",
    "\n",
    "Point Estimate:\n",
    "A point estimate is a single value that serves as the best guess or estimate of an unknown population parameter. It is calculated based on the sample data and is used to approximate the true value of the population parameter. For example, if we want to estimate the population mean, the sample mean would be the point estimate for that parameter.\n",
    "The formula for the point estimate of the population mean (μ) is:\n",
    "Point Estimate of μ = Sample Mean (x̄)\n",
    "\n",
    "Similarly, for estimating the population proportion (p), the sample proportion (p̂) would be the point estimate.\n",
    "\n",
    "While point estimates are useful and straightforward, they do not provide any information about the uncertainty associated with the estimate. This is where interval estimation comes into play.\n",
    "\n",
    "Interval Estimate:\n",
    "Interval estimation provides a range of values within which the true population parameter is likely to fall with a certain level of confidence. This range is called a confidence interval. The confidence interval is constructed around the point estimate and is calculated based on the sample data and the desired level of confidence.\n",
    "For example, a 95% confidence interval for the population mean (μ) would provide a range within which we are 95% confident that the true population mean lies.\n",
    "\n",
    "The formula for constructing a confidence interval for the population mean (μ) is:\n",
    "Confidence Interval for μ = (Sample Mean ± Margin of Error)\n",
    "\n",
    "The margin of error is determined by the variability of the sample data and the chosen level of confidence. A higher level of confidence will result in a wider interval.\n",
    "\n",
    "Interval estimation is more informative than point estimation because it conveys the uncertainty associated with the estimate. It allows researchers to communicate the precision of their estimates and helps users of the data to understand the potential range within which the true population parameter might lie."
   ]
  },
  {
   "cell_type": "markdown",
   "id": "17f25113",
   "metadata": {},
   "source": [
    "## Q2. Write a Python function to estimate the population mean using a sample mean and standard deviation."
   ]
  },
  {
   "cell_type": "code",
   "execution_count": 1,
   "id": "98e3e989",
   "metadata": {},
   "outputs": [
    {
     "name": "stdout",
     "output_type": "stream",
     "text": [
      "10.282842712474618\n"
     ]
    }
   ],
   "source": [
    "import math\n",
    "\n",
    "def estimate_population_mean(sample_mean, sample_standard_deviation, sample_size):\n",
    "  \n",
    "\n",
    "  estimated_population_mean = sample_mean + sample_standard_deviation * math.sqrt(2 / sample_size)\n",
    "  return estimated_population_mean\n",
    "\n",
    "if __name__ == \"__main__\":\n",
    "  sample_mean = 10\n",
    "  sample_standard_deviation = 2\n",
    "  sample_size = 100\n",
    "  estimated_population_mean = estimate_population_mean(sample_mean, sample_standard_deviation, sample_size)\n",
    "  print(estimated_population_mean)\n"
   ]
  },
  {
   "cell_type": "markdown",
   "id": "b07a1942",
   "metadata": {},
   "source": [
    "## Q3: What is Hypothesis testing? Why is it used? State the importance of Hypothesis testing."
   ]
  },
  {
   "cell_type": "markdown",
   "id": "c7930df7",
   "metadata": {},
   "source": [
    "Hypothesis testing is a statistical method used to determine whether there is enough evidence in a sample data to draw conclusions about a population. It involves formulating two competing hypotheses, the null hypothesis (H0) and the alternative hypothesis (Ha), and then collecting data to assess the evidence.\n",
    "\n",
    "The null hypothesis is a statement of no difference, while the alternative hypothesis is a statement of a difference. For example, the null hypothesis might be that there is no difference in the average height of men and women, while the alternative hypothesis might be that men are taller than women on average.\n",
    "\n",
    "The data is then used to calculate a test statistic, which is a measure of how likely it is that the observed data would have occurred if the null hypothesis were true. The test statistic is compared to a critical value, which is a threshold that determines whether the null hypothesis is rejected or not.\n",
    "\n",
    "If the test statistic is greater than the critical value, then the null hypothesis is rejected. This means that there is enough evidence in the data to support the alternative hypothesis. If the test statistic is less than or equal to the critical value, then the null hypothesis is not rejected. This means that there is not enough evidence in the data to support the alternative hypothesis.\n",
    "\n",
    "Hypothesis testing is used in a wide variety of fields, including science, medicine, and business. It is a powerful tool for making inferences about populations from sample data.\n",
    "\n",
    "The importance of hypothesis testing can be summarized in the following points:\n",
    "\n",
    "It allows us to make probabilistic statements about population parameters.\n",
    "It helps us to avoid making Type I and Type II errors.\n",
    "It can be used to compare different populations or treatments.\n",
    "It can be used to set confidence intervals for population parameters.\n",
    "Hypothesis testing is a valuable tool for making inferences about populations from sample data. It is a powerful tool that can be used in a wide variety of fields."
   ]
  },
  {
   "cell_type": "markdown",
   "id": "98f19331",
   "metadata": {},
   "source": [
    "## Q4. Create a hypothesis that states whether the average weight of male college students is greater than the average weight of female college students."
   ]
  },
  {
   "cell_type": "markdown",
   "id": "c5816f6f",
   "metadata": {},
   "source": [
    "First, we need to understand what a hypothesis is. In statistics, a hypothesis is a claim or statement about a property of a population. A hypothesis test is a standard procedure for testing a claim about a property of a population.\n",
    "\n",
    "Here, we are asked to create a hypothesis that states whether the average weight of male college students is greater than the average weight of female college students. \n",
    "\n",
    "We will create two hypotheses: the null hypothesis (H0) and the alternative hypothesis (H1 or Ha).\n",
    "\n",
    "The null hypothesis is a statement that the value of a population parameter (such as proportion, mean, or standard deviation) is equal to a claimed value. The null hypothesis for this problem would be that the average weight of male college students is equal to the average weight of female college students.\n",
    "\n",
    "H0: μm = μf\n",
    "\n",
    "Where:\n",
    "μm = the average weight of male college students\n",
    "μf = the average weight of female college students\n",
    "\n",
    "The alternative hypothesis is a statement that the parameter has a value that somehow differs from the null hypothesis. The alternative hypothesis for this problem would be that the average weight of male college students is greater than the average weight of female college students.\n",
    "\n",
    "Ha: μm > μf\n",
    "\n",
    "Where:\n",
    "μm = the average weight of male college students\n",
    "μf = the average weight of female college students\n",
    "\n"
   ]
  },
  {
   "cell_type": "markdown",
   "id": "49d08fda",
   "metadata": {},
   "source": [
    "## Q5. Write a Python script to conduct a hypothesis test on the difference between two population means, given a sample from each population."
   ]
  },
  {
   "cell_type": "code",
   "execution_count": 3,
   "id": "37deb8ad",
   "metadata": {},
   "outputs": [
    {
     "name": "stdout",
     "output_type": "stream",
     "text": [
      "T-Statistic: -5.208075616597135\n",
      "P-Value: 4.4084373723581225e-07\n",
      "Reject Null Hypothesis: True\n"
     ]
    }
   ],
   "source": [
    "import numpy as np\n",
    "from scipy.stats import ttest_ind\n",
    "\n",
    "def conduct_ttest(sample1, sample2, alpha=0.05):\n",
    "\n",
    "    t_statistic, p_value = ttest_ind(sample1, sample2)\n",
    "    reject_null_hypothesis = p_value < alpha\n",
    "\n",
    "    return t_statistic, p_value, reject_null_hypothesis\n",
    "\n",
    "# Example usage:\n",
    "population1 = np.random.normal(loc=50, scale=10, size=100)\n",
    "population2 = np.random.normal(loc=55, scale=10, size=120)\n",
    "\n",
    "t_stat, p_value, reject_null = conduct_ttest(population1, population2)\n",
    "\n",
    "print(\"T-Statistic:\", t_stat)\n",
    "print(\"P-Value:\", p_value)\n",
    "print(\"Reject Null Hypothesis:\", reject_null)\n"
   ]
  },
  {
   "cell_type": "markdown",
   "id": "4e9ec3f4",
   "metadata": {},
   "source": [
    "## Q6: What is a null and alternative hypothesis? Give some examples."
   ]
  },
  {
   "cell_type": "markdown",
   "id": "0652025c",
   "metadata": {},
   "source": [
    "In statistical hypothesis testing, the null hypothesis (H0) and the alternative hypothesis (Ha) are two mutually exclusive statements about a population parameter. The null hypothesis is a statement of no difference, while the alternative hypothesis is a statement of a difference.\n",
    "\n",
    "For example, let's say we are interested in whether the average weight of male college students is different from the average weight of female college students. The null hypothesis would be that the average weight of male college students is equal to the average weight of female college students. The alternative hypothesis would be that the average weight of male college students is different from the average weight of female college students.\n",
    "\n",
    "Here are some other examples of null and alternative hypotheses:\n",
    "\n",
    "Null hypothesis: The average height of people in the United States is 5 feet 8 inches.\n",
    "Alternative hypothesis: The average height of people in the United States is not 5 feet 8 inches.\n",
    "Null hypothesis: There is no difference in the average IQ of people who live in urban areas and people who live in rural areas.\n",
    "Alternative hypothesis: There is a difference in the average IQ of people who live in urban areas and people who live in rural areas.\n",
    "The null hypothesis is typically denoted by H0, and the alternative hypothesis is typically denoted by Ha. The null hypothesis is always assumed to be true until there is enough evidence to reject it. If the null hypothesis is rejected, then we conclude that the alternative hypothesis is true.\n",
    "\n",
    "The choice of the null and alternative hypotheses is important, because it determines the outcome of the hypothesis test. If the null hypothesis is not rejected, then we cannot say anything about the alternative hypothesis. However, if the null hypothesis is rejected, then we can conclude that the alternative hypothesis is true."
   ]
  },
  {
   "cell_type": "markdown",
   "id": "3f63ae2b",
   "metadata": {},
   "source": [
    "## Q7: Write down the steps involved in hypothesis testing."
   ]
  },
  {
   "cell_type": "markdown",
   "id": "d84cc71a",
   "metadata": {},
   "source": [
    "Hypothesis testing involves a series of steps to make inferences about population parameters based on sample data. Here are the general steps involved in hypothesis testing:\n",
    "\n",
    "State the Hypotheses:\n",
    "\n",
    "Formulate the null hypothesis (H0) that represents the default assumption or no effect/difference/relationship in the population.\n",
    "Formulate the alternative hypothesis (H1) that represents the specific claim or effect/difference/relationship that you want to test.\n",
    "Set the Significance Level (α):\n",
    "\n",
    "Choose a significance level (α), typically set to 0.05 (5%) or 0.01 (1%).\n",
    "The significance level represents the probability of rejecting the null hypothesis when it is true (Type I error).\n",
    "Collect Sample Data:\n",
    "\n",
    "Obtain a representative sample from the population of interest.\n",
    "Ensure that the sample is randomly selected and sufficiently large to make meaningful inferences.\n",
    "Calculate the Test Statistic:\n",
    "\n",
    "Choose an appropriate test statistic based on the type of data and the hypotheses being tested.\n",
    "For example, t-test, z-test, chi-square test, etc., depending on the specific situation.\n",
    "Define the Critical Region (Rejection Region):\n",
    "\n",
    "Determine the critical values or critical region in the distribution of the test statistic.\n",
    "The critical region is the area in which the null hypothesis will be rejected in favor of the alternative hypothesis.\n",
    "Compute the P-Value:\n",
    "\n",
    "Calculate the probability of obtaining the observed sample results (or more extreme) under the assumption that the null hypothesis is true.\n",
    "The p-value indicates the strength of evidence against the null hypothesis.\n",
    "Make a Decision:\n",
    "\n",
    "Compare the p-value to the significance level (α).\n",
    "If p-value ≤ α, reject the null hypothesis in favor of the alternative hypothesis.\n",
    "If p-value > α, fail to reject the null hypothesis (do not accept or prove the null hypothesis, simply lack evidence to reject it).\n",
    "Draw Conclusions:\n",
    "\n",
    "Interpret the results and draw conclusions based on the decision made in the previous step.\n",
    "Communicate the findings, including the effect size and practical implications if applicable.\n",
    "Interpretation:\n",
    "\n",
    "Interpret the results in the context of the specific problem or research question.\n",
    "Consider the limitations of the study and potential sources of bias or errors.\n",
    "Report and Publish:\n",
    "\n",
    "Report the entire hypothesis testing process, including the steps followed, results, and conclusions.\n",
    "Document the methodology and make it reproducible for others."
   ]
  },
  {
   "cell_type": "markdown",
   "id": "79b8873f",
   "metadata": {},
   "source": [
    "## Q8. Define p-value and explain its significance in hypothesis testing."
   ]
  },
  {
   "cell_type": "markdown",
   "id": "3992745d",
   "metadata": {},
   "source": [
    "In statistical hypothesis testing, the p-value is the probability of obtaining a test statistic at least as extreme as the one that was actually observed, assuming that the null hypothesis is true. The p-value is a measure of how likely it is that the observed data would have occurred by chance if the null hypothesis were true.\n",
    "\n",
    "A low p-value means that the observed data is unlikely to have occurred by chance if the null hypothesis is true. This suggests that the null hypothesis is probably false, and that the alternative hypothesis is probably true.\n",
    "\n",
    "For example, let's say we are interested in whether the average weight of male college students is different from the average weight of female college students. We collect data on the weights of a sample of male and female college students, and we calculate the p-value for the difference in the sample means. If the p-value is less than a pre-specified significance level, such as 0.05, then we would reject the null hypothesis and conclude that the average weight of male college students is different from the average weight of female college students.\n",
    "\n",
    "The p-value is a useful tool for hypothesis testing, but it is important to interpret it carefully. The p-value does not tell us the probability that the null hypothesis is true. It only tells us the probability of obtaining the observed data if the null hypothesis is true.\n",
    "\n",
    "Also, the p-value is not a measure of the size of the effect. A small p-value can be obtained even if the effect size is small.\n",
    "\n",
    "Overall, the p-value is a useful tool for hypothesis testing, but it is important to interpret it carefully.\n",
    "\n",
    "Here are some additional points about p-values:\n",
    "\n",
    "The p-value is a probability, so it can range from 0 to 1.\n",
    "A p-value of 0 means that the observed data is impossible to have occurred if the null hypothesis is true.\n",
    "A p-value of 1 means that the observed data is certain to have occurred if the null hypothesis is true.\n",
    "A p-value of 0.05 is often used as a cutoff for statistical significance. This means that if the p-value is less than 0.05, then we would reject the null hypothesis.\n",
    "The p-value is not a measure of the size of the effect. A small p-value can be obtained even if the effect size is small."
   ]
  },
  {
   "cell_type": "markdown",
   "id": "150b9027",
   "metadata": {},
   "source": [
    "## Q9. Generate a Student's t-distribution plot using Python's matplotlib library, with the degrees of freedom parameter set to 10."
   ]
  },
  {
   "cell_type": "code",
   "execution_count": 5,
   "id": "3ff6fce1",
   "metadata": {},
   "outputs": [
    {
     "data": {
      "image/png": "[encoded data removed]",
      "text/plain": [
       "<Figure size 432x288 with 1 Axes>"
      ]
     },
     "metadata": {
      "needs_background": "light"
     },
     "output_type": "display_data"
    }
   ],
   "source": [
    "import numpy as np\n",
    "import matplotlib.pyplot as plt\n",
    "from scipy.stats import t\n",
    "\n",
    "# Set the degrees of freedom parameter\n",
    "degrees_of_freedom = 10\n",
    "\n",
    "# Generate x-values for the t-distribution plot\n",
    "x = np.linspace(-4, 4, 500)\n",
    "\n",
    "# Calculate the corresponding y-values (probability density function) using the t-distribution\n",
    "y = t.pdf(x, df=degrees_of_freedom)\n",
    "\n",
    "# Plot the t-distribution\n",
    "plt.plot(x, y, label=f't-distribution with {degrees_of_freedom} degrees of freedom')\n",
    "plt.title('Student\\'s t-distribution')\n",
    "plt.xlabel('x')\n",
    "plt.ylabel('Probability Density Function')\n",
    "plt.legend()\n",
    "plt.grid(True)\n",
    "plt.show()\n"
   ]
  },
  {
   "cell_type": "markdown",
   "id": "3b966305",
   "metadata": {},
   "source": [
    "## Q10. Write a Python program to calculate the two-sample t-test for independent samples, given two random samples of equal size and a null hypothesis that the population means are equal."
   ]
  },
  {
   "cell_type": "code",
   "execution_count": 6,
   "id": "04e2014a",
   "metadata": {},
   "outputs": [
    {
     "name": "stdout",
     "output_type": "stream",
     "text": [
      "Two-Sample T-Test:\n",
      "T-Statistic: -5.047134869304451\n",
      "P-Value: 1.01295542186015e-06\n"
     ]
    }
   ],
   "source": [
    "import numpy as np\n",
    "from scipy.stats import ttest_ind\n",
    "\n",
    "def two_sample_ttest(sample1, sample2):\n",
    "   \n",
    "    t_statistic, p_value = ttest_ind(sample1, sample2)\n",
    "    return t_statistic, p_value\n",
    "\n",
    "# Example usage:\n",
    "sample1 = np.random.normal(loc=50, scale=10, size=100)\n",
    "sample2 = np.random.normal(loc=55, scale=10, size=100)\n",
    "\n",
    "t_stat, p_value = two_sample_ttest(sample1, sample2)\n",
    "\n",
    "print(\"Two-Sample T-Test:\")\n",
    "print(\"T-Statistic:\", t_stat)\n",
    "print(\"P-Value:\", p_value)\n"
   ]
  },
  {
   "cell_type": "markdown",
   "id": "ebe7c7e9",
   "metadata": {},
   "source": [
    "## Q11: What is Student’s t distribution? When to use the t-Distribution."
   ]
  },
  {
   "cell_type": "markdown",
   "id": "1db3e02d",
   "metadata": {},
   "source": [
    "Student's t-distribution is a probability distribution that is used in statistical inference. It is a continuous probability distribution that is bell-shaped, but it is more spread out than the normal distribution. The t-distribution is used when the sample size is small and the population standard deviation is unknown.\n",
    "\n",
    "The t-distribution is named after William Sealy Gosset, who published it under the pseudonym \"Student\" in 1908. Gosset was a chemist at Guinness Brewery, and he needed a way to estimate the mean of a small sample of beers. The normal distribution could not be used in this case, because the population standard deviation was unknown.\n",
    "\n",
    "The t-distribution is a good approximation to the normal distribution when the sample size is large. However, as the sample size decreases, the t-distribution becomes more spread out. This is because the t-distribution takes into account the uncertainty of the population standard deviation.\n",
    "\n",
    "The t-distribution is used in a variety of statistical inference procedures, including:\n",
    "\n",
    "T-tests: T-tests are used to compare the means of two groups.\n",
    "Confidence intervals: Confidence intervals are used to estimate the population mean.\n",
    "Hypothesis testing: Hypothesis testing is used to test hypotheses about the population mean.\n",
    "The t-distribution is a versatile tool that can be used to make inferences about populations from sample data. It is a valuable tool for statisticians and other data analysts.\n",
    "\n",
    "Here are some of the situations where the t-distribution is used:\n",
    "\n",
    "When the sample size is small.\n",
    "When the population standard deviation is unknown.\n",
    "When the data is not normally distributed.\n",
    "The t-distribution is a powerful tool for statistical inference, but it is important to use it correctly. It is important to understand the assumptions of the t-distribution and to check that they are met before using the t-distribution."
   ]
  },
  {
   "cell_type": "markdown",
   "id": "f69911ef",
   "metadata": {},
   "source": [
    "## Q12: What is t-statistic? State the formula for t-statistic."
   ]
  },
  {
   "cell_type": "markdown",
   "id": "7364fc26",
   "metadata": {},
   "source": [
    "The t-statistic is a statistical measure that is used in hypothesis testing to determine whether the difference between two sample means is statistically significant. The t-statistic is calculated by dividing the difference between the sample means by the standard error of the difference between the means.\n",
    "\n",
    "The formula for the t-statistic is:\n",
    "\n",
    "t = (x̄1 - x̄2) / ŝ\n",
    "where:\n",
    "\n",
    "x̄1 is the mean of the first sample\n",
    "x̄2 is the mean of the second sample\n",
    "ŝ is the standard error of the difference between the means\n",
    "The standard error of the difference between the means is calculated using the following formula:\n",
    "\n",
    "ŝ = √(s₁²/n₁ + s₂²/n₂)\n",
    "where:\n",
    "\n",
    "s₁ is the standard deviation of the first sample\n",
    "s₂ is the standard deviation of the second sample\n",
    "n₁ is the sample size of the first sample\n",
    "n₂ is the sample size of the second sample\n",
    "The t-statistic is a dimensionless quantity, so it does not have any units. The t-statistic is typically compared to a critical value to determine whether the difference between the sample means is statistically significant. The critical value is determined by the significance level of the hypothesis test.\n",
    "\n",
    "The t-statistic is a powerful tool for hypothesis testing, but it is important to use it correctly. It is important to understand the assumptions of the t-distribution and to check that they are met before using the t-statistic."
   ]
  },
  {
   "cell_type": "markdown",
   "id": "c58cf0bb",
   "metadata": {},
   "source": [
    "## Q13. A coffee shop owner wants to estimate the average daily revenue for their shop. They take a random sample of 50 days and find the sample mean revenue to be $ 500 with a standard deviation of $  50. Estimate the population mean revenue with a 95% confidence interval."
   ]
  },
  {
   "cell_type": "markdown",
   "id": "ceacf998",
   "metadata": {},
   "source": [
    "To estimate the population mean revenue with a 95% confidence interval, we can use the formula for the confidence interval for the population mean when the population standard deviation is unknown. Since we have a sample size of 50, we can use the t-distribution to calculate the confidence interval.\n",
    "\n",
    "The formula for the confidence interval for the population mean (μ) is:\n",
    "\n",
    "Confidence Interval = Sample Mean ± Margin of Error\n",
    "\n",
    "Where the Margin of Error (MOE) is given by:\n",
    "\n",
    "MOE = t * (Sample Standard Deviation / √n)\n",
    "\n",
    "Here, t is the critical value from the t-distribution for the desired level of confidence (95% in this case), n is the sample size (50), and the Sample Mean is $500, and the Sample Standard Deviation is $50."
   ]
  },
  {
   "cell_type": "code",
   "execution_count": 7,
   "id": "3b8d6c2b",
   "metadata": {},
   "outputs": [
    {
     "name": "stdout",
     "output_type": "stream",
     "text": [
      "95% Confidence Interval for Population Mean Revenue:\n",
      "Lower Bound: 485.79015724388137\n",
      "Upper Bound: 514.2098427561186\n"
     ]
    }
   ],
   "source": [
    "import scipy.stats as stats\n",
    "\n",
    "# Given data\n",
    "sample_mean = 500\n",
    "sample_std_dev = 50\n",
    "sample_size = 50\n",
    "confidence_level = 0.95\n",
    "\n",
    "# Calculate the critical value (t) for a 95% confidence level and 49 degrees of freedom (n - 1)\n",
    "t_critical = stats.t.ppf(1 - (1 - confidence_level) / 2, df=sample_size - 1)\n",
    "\n",
    "# Calculate the margin of error (MOE)\n",
    "MOE = t_critical * (sample_std_dev / (sample_size ** 0.5))\n",
    "\n",
    "# Calculate the confidence interval\n",
    "lower_bound = sample_mean - MOE\n",
    "upper_bound = sample_mean + MOE\n",
    "\n",
    "# Print the results\n",
    "print(\"95% Confidence Interval for Population Mean Revenue:\")\n",
    "print(\"Lower Bound:\", lower_bound)\n",
    "print(\"Upper Bound:\", upper_bound)\n"
   ]
  },
  {
   "cell_type": "markdown",
   "id": "9f8c0b4a",
   "metadata": {},
   "source": [
    "## Q14. A researcher hypothesizes that a new drug will decrease blood pressure by 10 mmHg. They conduct a clinical trial with 100 patients and find that the sample mean decrease in blood pressure is 8 mmHg with a standard deviation of 3 mmHg. Test the hypothesis with a significance level of 0.05."
   ]
  },
  {
   "cell_type": "code",
   "execution_count": 8,
   "id": "30397d98",
   "metadata": {},
   "outputs": [
    {
     "name": "stdout",
     "output_type": "stream",
     "text": [
      "Reject the null hypothesis (H0)\n",
      "The new drug decreases blood pressure significantly.\n"
     ]
    }
   ],
   "source": [
    "import scipy.stats as stats\n",
    "\n",
    "# Given data\n",
    "sample_mean = 8  # Sample mean decrease in blood pressure\n",
    "population_mean_h0 = 10  # Hypothesized population mean decrease in blood pressure under H0\n",
    "sample_std_dev = 3  # Sample standard deviation of the decrease in blood pressure\n",
    "sample_size = 100  # Sample size\n",
    "significance_level = 0.05  # Significance level (alpha)\n",
    "\n",
    "# Calculate the t-statistic\n",
    "t_statistic = (sample_mean - population_mean_h0) / (sample_std_dev / (sample_size ** 0.5))\n",
    "\n",
    "# Calculate the degrees of freedom\n",
    "degrees_of_freedom = sample_size - 1\n",
    "\n",
    "# Calculate the critical value (t_critical) for the given significance level and degrees of freedom\n",
    "t_critical = stats.t.ppf(1 - significance_level / 2, df=degrees_of_freedom)\n",
    "\n",
    "# Compare the t-statistic with the critical value to make the decision\n",
    "if t_statistic < -t_critical or t_statistic > t_critical:\n",
    "    print(\"Reject the null hypothesis (H0)\")\n",
    "    print(\"The new drug decreases blood pressure significantly.\")\n",
    "else:\n",
    "    print(\"Fail to reject the null hypothesis (H0)\")\n",
    "    print(\"There is no significant evidence that the new drug decreases blood pressure by 10 mmHg.\")\n"
   ]
  },
  {
   "cell_type": "markdown",
   "id": "01a59b10",
   "metadata": {},
   "source": [
    "## Q15. An electronics company produces a certain type of product with a mean weight of 5 pounds and a standard deviation of 0.5 pounds. A random sample of 25 products is taken, and the sample mean weight is found to be 4.8 pounds. Test the hypothesis that the true mean weight of the products is less than 5 pounds with a significance level of 0.01."
   ]
  },
  {
   "cell_type": "code",
   "execution_count": 9,
   "id": "149fcb47",
   "metadata": {},
   "outputs": [
    {
     "name": "stdout",
     "output_type": "stream",
     "text": [
      "Reject the null hypothesis (H0)\n",
      "The true mean weight of the products is less than 5 pounds.\n"
     ]
    }
   ],
   "source": [
    "import scipy.stats as stats\n",
    "\n",
    "# Given data\n",
    "sample_mean = 4.8  # Sample mean weight of the products\n",
    "population_mean_h0 = 5  # Hypothesized population mean weight under H0\n",
    "population_std_dev = 0.5  # Population standard deviation of the product weight\n",
    "sample_size = 25  # Sample size\n",
    "significance_level = 0.01  # Significance level (alpha)\n",
    "\n",
    "# Calculate the standard error of the mean (SEM)\n",
    "sem = population_std_dev / (sample_size ** 0.5)\n",
    "\n",
    "# Calculate the t-statistic\n",
    "t_statistic = (sample_mean - population_mean_h0) / sem\n",
    "\n",
    "# Calculate the degrees of freedom\n",
    "degrees_of_freedom = sample_size - 1\n",
    "\n",
    "# Calculate the critical value (t_critical) for the given significance level and degrees of freedom\n",
    "t_critical = stats.t.ppf(significance_level, df=degrees_of_freedom)\n",
    "\n",
    "# Compare the t-statistic with the critical value to make the decision\n",
    "if t_statistic < -t_critical:\n",
    "    print(\"Reject the null hypothesis (H0)\")\n",
    "    print(\"The true mean weight of the products is less than 5 pounds.\")\n",
    "else:\n",
    "    print(\"Fail to reject the null hypothesis (H0)\")\n",
    "    print(\"There is no significant evidence that the true mean weight of the products is less than 5 pounds.\")\n"
   ]
  },
  {
   "cell_type": "markdown",
   "id": "1a506aca",
   "metadata": {},
   "source": [
    "## Q16. Two groups of students are given different study materials to prepare for a test. The first group (n1 = 30) has a mean score of 80 with a standard deviation of 10, and the second group (n2 = 40) has a mean score of 75 with a standard deviation of 8. Test the hypothesis that the population means for the two groups are equal with a significance level of 0.01."
   ]
  },
  {
   "cell_type": "code",
   "execution_count": 10,
   "id": "ea271800",
   "metadata": {},
   "outputs": [
    {
     "name": "stdout",
     "output_type": "stream",
     "text": [
      "Reject the null hypothesis (H0)\n",
      "The population means for the two groups are not equal.\n"
     ]
    }
   ],
   "source": [
    "import scipy.stats as stats\n",
    "\n",
    "# Group 1 data\n",
    "n1 = 30\n",
    "mean1 = 80\n",
    "std_dev1 = 10\n",
    "\n",
    "# Group 2 data\n",
    "n2 = 40\n",
    "mean2 = 75\n",
    "std_dev2 = 8\n",
    "\n",
    "# Significance level (alpha)\n",
    "significance_level = 0.01\n",
    "\n",
    "# Calculate the pooled standard deviation (sp)\n",
    "sp = ((std_dev1 ** 2 / n1) + (std_dev2 ** 2 / n2)) ** 0.5\n",
    "\n",
    "# Calculate the degrees of freedom\n",
    "degrees_of_freedom = n1 + n2 - 2\n",
    "\n",
    "# Calculate the t-statistic\n",
    "t_statistic = (mean1 - mean2) / (sp * (1 / n1 + 1 / n2) ** 0.5)\n",
    "\n",
    "# Calculate the critical value (t_critical) for a two-tailed test with the given significance level and degrees of freedom\n",
    "t_critical = stats.t.ppf(1 - significance_level / 2, df=degrees_of_freedom)\n",
    "\n",
    "# Compare the absolute value of the t-statistic with the critical value to make the decision\n",
    "if abs(t_statistic) > t_critical:\n",
    "    print(\"Reject the null hypothesis (H0)\")\n",
    "    print(\"The population means for the two groups are not equal.\")\n",
    "else:\n",
    "    print(\"Fail to reject the null hypothesis (H0)\")\n",
    "    print(\"There is no significant evidence that the population means for the two groups are different.\")\n"
   ]
  },
  {
   "cell_type": "code",
   "execution_count": 11,
   "id": "f557a7dc",
   "metadata": {},
   "outputs": [
    {
     "name": "stdout",
     "output_type": "stream",
     "text": [
      "99% Confidence Interval for Population Mean Number of Ads Watched:\n",
      "Lower Bound: 3.4314963358572577\n",
      "Upper Bound: 4.568503664142742\n"
     ]
    }
   ],
   "source": [
    "import scipy.stats as stats\n",
    "\n",
    "# Given data\n",
    "sample_mean = 4  # Sample mean number of ads watched\n",
    "sample_std_dev = 1.5  # Sample standard deviation of the number of ads watched\n",
    "sample_size = 50  # Sample size\n",
    "confidence_level = 0.99  # Confidence level\n",
    "\n",
    "# Calculate the critical value (t) for a 99% confidence level and 49 degrees of freedom (n - 1)\n",
    "t_critical = stats.t.ppf(1 - (1 - confidence_level) / 2, df=sample_size - 1)\n",
    "\n",
    "# Calculate the margin of error (MOE)\n",
    "MOE = t_critical * (sample_std_dev / (sample_size ** 0.5))\n",
    "\n",
    "# Calculate the confidence interval\n",
    "lower_bound = sample_mean - MOE\n",
    "upper_bound = sample_mean + MOE\n",
    "\n",
    "# Print the results\n",
    "print(\"99% Confidence Interval for Population Mean Number of Ads Watched:\")\n",
    "print(\"Lower Bound:\", lower_bound)\n",
    "print(\"Upper Bound:\", upper_bound)\n"
   ]
  }
 ],
 "metadata": {
  "kernelspec": {
   "display_name": "Python 3 (ipykernel)",
   "language": "python",
   "name": "python3"
  },
  "language_info": {
   "codemirror_mode": {
    "name": "ipython",
    "version": 3
   },
   "file_extension": ".py",
   "mimetype": "text/x-python",
   "name": "python",
   "nbconvert_exporter": "python",
   "pygments_lexer": "ipython3",
   "version": "3.9.7"
  }
 },
 "nbformat": 4,
 "nbformat_minor": 5
}
