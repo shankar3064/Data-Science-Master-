{
 "cells": [
  {
   "cell_type": "markdown",
   "id": "eab80501-7875-42a1-82a0-e04f15feaec4",
   "metadata": {},
   "source": [
    "### Q1. Explain why we have to use the Exception class while creating a Custom Exception.\n",
    "### Note: Here Exception class refers to the base class for all the exceptions.\n",
    "\n",
    "#### ANS:- When creating a custom exception in Python, it is important to inherit from the built-in Exception class, which is the base class for all exceptions in Python. There are a few reasons why we need to use the Exception class as the base class for our custom exception:\n",
    "\n",
    "#### Consistency: By inheriting from the Exception class, our custom exception will have the same behavior and structure as other built-in exceptions in Python. This makes it easier to use and understand, as it follows the same conventions as other exceptions.\n",
    "\n",
    "#### Error handling: Inheriting from the Exception class allows us to catch and handle our custom exception using the same try and except statements that we use for other exceptions. This makes it easier to handle errors in a consistent and structured way.\n",
    "\n",
    "#### Code readability: By using the Exception class as the base class, we can indicate to other developers who may read our code that our custom exception is, in fact, an exception. This makes the code more readable and easier to understand."
   ]
  },
  {
   "cell_type": "markdown",
   "id": "2a255f05-f451-419c-b107-a72571c06f57",
   "metadata": {},
   "source": [
    "### Q2. Write a python program to print Python Exception Hierarchy."
   ]
  },
  {
   "cell_type": "code",
   "execution_count": 1,
   "id": "23cfbe8e-5608-4bfd-abd9-b2361dcaf468",
   "metadata": {},
   "outputs": [],
   "source": [
    "import sys\n",
    "\n",
    "def print_exception_hierarchy():\n",
    "    for exc in reversed(sys.exc_info()):\n",
    "        if exc:\n",
    "            print(f\"{exc.__name__}: {exc.__doc__}\")\n",
    "            print()\n",
    "\n",
    "print_exception_hierarchy()\n"
   ]
  },
  {
   "cell_type": "markdown",
   "id": "eab382a7-b63b-46e4-a415-b2068638aa56",
   "metadata": {},
   "source": [
    "### This program uses the sys.exc_info() function to get information about the current exception being handled. The function returns a tuple containing information about the exception, including its type, value, and traceback. We loop over the tuple in reverse order, starting with the traceback and ending with the exception type.\n",
    "\n",
    "### For each exception type in the tuple, we print its name and its documentation string using the __name__ and __doc__ attributes, respectively. This allows us to print the entire exception hierarchy, starting with the base Exception class and ending with the specific exception being handled."
   ]
  },
  {
   "cell_type": "markdown",
   "id": "31812541-c551-4e4b-91cb-fc589e616f7e",
   "metadata": {},
   "source": [
    "### Q3. What errors are defined in the ArithmeticError class? Explain any two with an example.\n",
    "\n",
    "##### ANS:- The ArithmeticError class is a built-in exception class in Python that serves as the base class for all arithmetic errors. This includes errors that occur during mathematical operations such as division by zero, overflow, and underflow. Here are two examples of errors defined in the ArithmeticError class:"
   ]
  },
  {
   "cell_type": "code",
   "execution_count": 2,
   "id": "2e21fee1-68c7-446c-88f5-eee04b0661fd",
   "metadata": {},
   "outputs": [
    {
     "name": "stdout",
     "output_type": "stream",
     "text": [
      "Error: Division by zero.\n"
     ]
    }
   ],
   "source": [
    "x = 5\n",
    "y = 0\n",
    "\n",
    "try:\n",
    "    z = x / y\n",
    "except ZeroDivisionError:\n",
    "    print(\"Error: Division by zero.\")\n"
   ]
  },
  {
   "cell_type": "code",
   "execution_count": 3,
   "id": "6db1738c-82ac-4e05-8746-3bba2666afe4",
   "metadata": {},
   "outputs": [],
   "source": [
    "import sys\n",
    "\n",
    "try:\n",
    "    x = sys.maxsize + 1\n",
    "except OverflowError:\n",
    "    print(\"Error: Value too large.\")\n"
   ]
  },
  {
   "cell_type": "markdown",
   "id": "43eb0868-43a2-4b3f-b014-6ad1000b43e2",
   "metadata": {},
   "source": [
    "### Q4. Why LookupError class is used? Explain with an example KeyError and IndexError.\\\n",
    "#### The LookupError class is a built-in exception class in Python that serves as the base class for all lookup errors. This includes errors that occur when attempting to access an element of a sequence (such as a list or tuple) or a mapping (such as a dictionary) that does not exist. Here are two examples of errors that are defined in the LookupError class:"
   ]
  },
  {
   "cell_type": "code",
   "execution_count": 4,
   "id": "010b8952-7f2f-4a4d-a5c7-701964170948",
   "metadata": {},
   "outputs": [
    {
     "name": "stdout",
     "output_type": "stream",
     "text": [
      "Error: Key not found.\n"
     ]
    }
   ],
   "source": [
    "my_dict = {\"apple\": 1, \"banana\": 2, \"orange\": 3}\n",
    "\n",
    "try:\n",
    "    value = my_dict[\"pear\"]\n",
    "except KeyError:\n",
    "    print(\"Error: Key not found.\")\n"
   ]
  },
  {
   "cell_type": "code",
   "execution_count": 5,
   "id": "dd03596a-0cad-4401-9690-12b00eca1371",
   "metadata": {},
   "outputs": [
    {
     "name": "stdout",
     "output_type": "stream",
     "text": [
      "Error: Index out of range.\n"
     ]
    }
   ],
   "source": [
    "my_list = [1, 2, 3]\n",
    "\n",
    "try:\n",
    "    value = my_list[3]\n",
    "except IndexError:\n",
    "    print(\"Error: Index out of range.\")\n"
   ]
  },
  {
   "cell_type": "markdown",
   "id": "b53283ef-bdcd-4f42-bc08-9f424aa3c7db",
   "metadata": {},
   "source": [
    "### Q5. Explain ImportError. What is ModuleNotFoundError?\n",
    "\n",
    "#### ImportError is a built-in exception class in Python that is raised when a module, package, or object cannot be imported. This can occur for a number of reasons, such as when the module name is misspelled, the module is not installed or cannot be found, or when there is a circular dependency between modules.\n",
    "\n",
    "#### ModuleNotFoundError is a specific type of ImportError that is raised when a module cannot be found during import. It was introduced in Python 3.6 as a more specific and descriptive error message than the generic ImportError."
   ]
  },
  {
   "cell_type": "markdown",
   "id": "ad765c95-1d3f-4f80-bbe7-4b34f899be54",
   "metadata": {},
   "source": [
    "### Q6. List down some best practices for exception handling in python.\n",
    "#### Be specific: Catch only the exceptions that you expect and can handle, and avoid catching generic exceptions like Exception or BaseException. This helps to prevent catching unexpected exceptions and to handle them in a more targeted way.\n",
    "\n",
    "#### Handle exceptions at the appropriate level: Catch exceptions at the level where you can handle them most effectively. This may mean catching them in a different function or module than where they were raised.\n",
    "\n",
    "#### Use multiple except blocks: Use multiple except blocks to handle different exceptions separately. This makes the code easier to read and understand, and allows you to handle different types of exceptions in different ways.\n",
    "\n",
    "#### Provide informative error messages: Use informative error messages that explain what went wrong and provide guidance on how to fix the issue. This can help users to resolve the problem quickly and efficiently.\n",
    "\n",
    "#### Use finally for cleanup: Use finally to perform cleanup operations, such as closing files or releasing resources, regardless of whether an exception was raised or not.\n",
    "\n",
    "#### Avoid bare except: Avoid using bare except statements, which catch all exceptions indiscriminately. This can make it difficult to debug errors and can lead to unexpected behavior.\n",
    "\n",
    "#### Use logging: Use the logging module to log error messages and debug information. This can help you to diagnose and fix issues more easily.\n",
    "\n",
    "#### Don't ignore exceptions: Don't ignore exceptions or suppress them without good reason. This can lead to unexpected behavior and can make it difficult to diagnose and fix issues."
   ]
  }
 ],
 "metadata": {
  "kernelspec": {
   "display_name": "Python 3 (ipykernel)",
   "language": "python",
   "name": "python3"
  },
  "language_info": {
   "codemirror_mode": {
    "name": "ipython",
    "version": 3
   },
   "file_extension": ".py",
   "mimetype": "text/x-python",
   "name": "python",
   "nbconvert_exporter": "python",
   "pygments_lexer": "ipython3",
   "version": "3.10.8"
  }
 },
 "nbformat": 4,
 "nbformat_minor": 5
}
