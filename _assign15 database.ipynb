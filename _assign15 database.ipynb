{
 "cells": [
  {
   "cell_type": "markdown",
   "id": "824e58a6-5e24-4779-888c-7eb9be9e8c3c",
   "metadata": {},
   "source": [
    "### Q1. What is a database? Differentiate between SQL and NoSQL databases.\n",
    "#### A database is a structured collection of data that can be accessed, managed, and updated. It is used to store information, such as customer information, sales transactions, inventory data, and more. Databases can be broadly classified into two categories: SQL and NoSQL databases.\n",
    "\n",
    "#### SQL databases, also known as relational databases, store data in tables that are related to each other through defined relationships. They use the SQL (Structured Query Language) to manipulate and retrieve data. SQL databases have a fixed schema, which means that the structure of the data is defined in advance, and any changes to the schema require careful planning and execution. Some popular SQL databases include MySQL, Oracle, and Microsoft SQL Server.\n",
    "\n",
    "#### NoSQL databases, on the other hand, store data in non-tabular or non-relational structures, such as documents, key-value pairs, or graphs. They do not use the SQL language for querying and instead use APIs (Application Programming Interfaces) or other query languages. NoSQL databases are designed to be highly scalable and flexible, making them suitable for handling large volumes of unstructured data. They do not have a fixed schema, which means that data can be added or removed without requiring any schema modifications. Some popular NoSQL databases include MongoDB, Cassandra, and Couchbase."
   ]
  },
  {
   "cell_type": "markdown",
   "id": "570ad1a2-39cf-43eb-b228-8f7ca6dc1725",
   "metadata": {},
   "source": [
    "### Q2. What is DDL? Explain why CREATE, DROP, ALTER, and TRUNCATE are used with an example.\n",
    "#### DDL stands for Data Definition Language, which is a set of SQL commands that are used to create, modify, and delete database objects such as tables, indexes, and constraints. DDL commands are used to define the schema or structure of a database, and they are executed only by the database administrator or user with special privileges.\n"
   ]
  },
  {
   "cell_type": "code",
   "execution_count": null,
   "id": "54aef3c7-433e-4965-81cd-afa8699b9f2c",
   "metadata": {},
   "outputs": [],
   "source": [
    "CREATE TABLE customers (\n",
    "   customer_id INT PRIMARY KEY,\n",
    "   name VARCHAR(50),\n",
    "   email VARCHAR(50)\n",
    ");\n"
   ]
  },
  {
   "cell_type": "code",
   "execution_count": null,
   "id": "44399582-e768-444a-a252-931fd573ae11",
   "metadata": {},
   "outputs": [],
   "source": [
    "DROP TABLE customers;\n"
   ]
  },
  {
   "cell_type": "code",
   "execution_count": null,
   "id": "a32fadfc-d862-459a-a1fe-10099e627ef4",
   "metadata": {},
   "outputs": [],
   "source": [
    "ALTER TABLE customers ADD phone VARCHAR(20);"
   ]
  },
  {
   "cell_type": "code",
   "execution_count": null,
   "id": "6f159523-4d64-4155-b652-970c8317f54e",
   "metadata": {},
   "outputs": [],
   "source": [
    "TRUNCATE TABLE customers;\n"
   ]
  },
  {
   "cell_type": "markdown",
   "id": "e4d1e84d-0ab2-49d8-9ebb-fd39a26ea615",
   "metadata": {},
   "source": [
    "### Q3. What is DML? Explain INSERT, UPDATE, and DELETE with an example.\n",
    "\n",
    "#### DML stands for Data Manipulation Language, which is a set of SQL commands that are used to insert, update, and delete data in a database. DML commands are used to modify the data stored in the database, and they are executed by database users or applications."
   ]
  },
  {
   "cell_type": "code",
   "execution_count": null,
   "id": "8e56a6bd-6efe-46cc-a46c-3f7db6df7f68",
   "metadata": {},
   "outputs": [],
   "source": [
    "INSERT INTO customers (customer_id, name, email) VALUES (1, 'shankar', 'shan@gmail.com');\n"
   ]
  },
  {
   "cell_type": "code",
   "execution_count": null,
   "id": "ce667041-79be-4724-a143-357418d6f801",
   "metadata": {},
   "outputs": [],
   "source": [
    "UPDATE customers SET email = 'john.smith@example.com' WHERE customer_id = 1;\n"
   ]
  },
  {
   "cell_type": "code",
   "execution_count": null,
   "id": "57e86a8c-c04d-4527-a538-d985475ea698",
   "metadata": {},
   "outputs": [],
   "source": [
    "DELETE FROM customers WHERE customer_id = 1;\n"
   ]
  },
  {
   "cell_type": "markdown",
   "id": "eb4bf06f-4689-4d15-a03e-fbf6cca71060",
   "metadata": {},
   "source": [
    "### Q4. What is DQL? Explain SELECT with an example.\n",
    "\n",
    "#### DQL stands for Data Query Language, which is a set of SQL commands that are used to retrieve data from a database. DQL commands are used to query the data stored in the database, and they are executed by database users or applications.\n",
    "\n",
    "#### The most commonly used DQL command is SELECT, which is used to retrieve data from one or more tables. Here is an example of how the SELECT command works:\n",
    "\n",
    "#### Suppose we have a \"customers\" table with columns for customer ID, name, email, and phone number. To retrieve all the data from this table, the SQL statement would look like this:"
   ]
  },
  {
   "cell_type": "code",
   "execution_count": null,
   "id": "85365b9e-9908-4849-91d6-bc5d6be1ae7e",
   "metadata": {},
   "outputs": [],
   "source": [
    "SELECT * FROM customers;\n"
   ]
  },
  {
   "cell_type": "code",
   "execution_count": null,
   "id": "2683cc54-ae77-4492-8400-b5ab6aa8ea89",
   "metadata": {},
   "outputs": [],
   "source": [
    "SELECT name, email FROM customers;\n"
   ]
  },
  {
   "cell_type": "code",
   "execution_count": null,
   "id": "4eaca6bc-88e2-4807-b7cc-2171d03da208",
   "metadata": {},
   "outputs": [],
   "source": [
    "SELECT * FROM customers WHERE email = 'shan@gmail.com';\n"
   ]
  },
  {
   "cell_type": "markdown",
   "id": "40b9529f-7c46-4dec-bea0-86836db91c55",
   "metadata": {},
   "source": [
    "### Q5. Explain Primary Key and Foreign Key.\n",
    "#### Primary key and foreign key are important concepts in relational databases. They are used to define relationships between tables and ensure the integrity of the data.\n",
    "\n",
    "#### A primary key is a unique identifier for a record in a table. It is a column or set of columns that uniquely identify each row in the table. A primary key must have a unique value for each row, and it cannot be null. Typically, the primary key is defined when the table is created, and it is used to establish relationships with other tables.\n",
    "\n",
    "#### For example, in a \"customers\" table, the customer ID might be the primary key. This means that each row in the table has a unique customer ID value, and this value is used to identify and relate to specific customer records in other tables.\n",
    "\n",
    "#### A foreign key is a column or set of columns in a table that refers to the primary key of another table. It is used to establish a relationship between two tables. The foreign key ensures that the data in the table is consistent with the data in the related table. It also ensures that the data in the related table is not deleted or updated if there are related records in the current table.\n",
    "\n",
    "#### For example, in a \"orders\" table, the customer ID might be a foreign key that refers to the primary key in the \"customers\" table. This means that each order in the \"orders\" table is associated with a specific customer in the \"customers\" table. The foreign key ensures that only valid customer IDs can be entered in the \"orders\" table, and it prevents the deletion of customer records that have associated orders."
   ]
  },
  {
   "cell_type": "markdown",
   "id": "279bc263-a1d2-4e80-9ff5-b0c5718eb937",
   "metadata": {},
   "source": [
    "### Q6. Write a python code to connect MySQL to python. Explain the cursor() and execute() method."
   ]
  },
  {
   "cell_type": "code",
   "execution_count": null,
   "id": "68b27b90-6f39-4b56-a8d3-5cac42d44d26",
   "metadata": {},
   "outputs": [],
   "source": [
    "pip install mysql-connector-python"
   ]
  },
  {
   "cell_type": "code",
   "execution_count": null,
   "id": "0ae544ea-a14b-4e2e-b5b0-8dbe18bab2e2",
   "metadata": {},
   "outputs": [],
   "source": [
    "import mysql.connector\n",
    "\n",
    "# Connect to the database\n",
    "mydb = mysql.connector.connect(\n",
    "  host=\"localhost\",\n",
    "  user=\"abc\",\n",
    "  password=\"password\",\n",
    "  database=\"database_name\"\n",
    ")\n",
    "\n",
    "# Create a cursor object\n",
    "mycursor = mydb.cursor()\n",
    "\n",
    "# Execute a SQL command\n",
    "mycursor.execute(\"SELECT * FROM customers\")\n",
    "\n",
    "# Fetch the result\n",
    "result = mycursor.fetchall()\n",
    "\n",
    "# Print the result\n",
    "for row in result:\n",
    "  print(row)\n"
   ]
  },
  {
   "cell_type": "markdown",
   "id": "25356d9e-a288-4033-8b92-84c7ae55e0b2",
   "metadata": {},
   "source": [
    "### Q7. Give the order of execution of SQL clauses in an SQL query."
   ]
  },
  {
   "cell_type": "markdown",
   "id": "c0080516-1099-4501-ba97-9efa7c6832ec",
   "metadata": {},
   "source": [
    "### SELECT: This is the first clause in an SQL query. It is used to specify the columns or expressions that should be included in the result set.\n",
    "\n",
    "### FROM: This is the second clause in an SQL query. It is used to specify the table or tables from which the data should be retrieved.\n",
    "\n",
    "### JOIN: This clause is used to join two or more tables based on a specified condition. It is usually placed after the FROM clause.\n",
    "\n",
    "### WHERE: This clause is used to filter the data based on a specified condition. It is usually placed after the FROM and JOIN clauses.\n",
    "\n",
    "### GROUP BY: This clause is used to group the result set based on one or more columns. It is usually placed after the WHERE clause.\n",
    "\n",
    "### HAVING: This clause is used to filter the groups based on a specified condition. It is usually placed after the GROUP BY clause.\n",
    "\n",
    "### ORDER BY: This clause is used to sort the result set based on one or more columns. It is usually placed after the GROUP BY and HAVING clauses.\n",
    "\n",
    "### LIMIT: This clause is used to limit the number of rows returned by the query. It is usually placed at the end of the query."
   ]
  },
  {
   "cell_type": "code",
   "execution_count": null,
   "id": "b466cdbc-9efc-431a-b3ab-56dcf8259138",
   "metadata": {},
   "outputs": [],
   "source": []
  }
 ],
 "metadata": {
  "kernelspec": {
   "display_name": "Python 3 (ipykernel)",
   "language": "python",
   "name": "python3"
  },
  "language_info": {
   "codemirror_mode": {
    "name": "ipython",
    "version": 3
   },
   "file_extension": ".py",
   "mimetype": "text/x-python",
   "name": "python",
   "nbconvert_exporter": "python",
   "pygments_lexer": "ipython3",
   "version": "3.10.8"
  }
 },
 "nbformat": 4,
 "nbformat_minor": 5
}
