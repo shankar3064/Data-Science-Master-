{
 "cells": [
  {
   "cell_type": "markdown",
   "id": "74556810",
   "metadata": {},
   "source": [
    "Q1. What are the three measures of central tendency?"
   ]
  },
  {
   "cell_type": "markdown",
   "id": "50e333a1",
   "metadata": {},
   "source": [
    "ANS :-\n",
    "\n",
    "The three measures of central tendency are the mean, median, and mode.\n",
    "\n",
    "Mean is the average of all the values in a dataset. It is calculated by adding all the values and dividing by the number of values.\n",
    "\n",
    "Median is the middle value in a dataset when it is ordered from least to greatest. If there is an even number of values, the median is the average of the two middle values.\n",
    "\n",
    "Mode is the most frequently occurring value in a dataset."
   ]
  },
  {
   "cell_type": "markdown",
   "id": "62242fac",
   "metadata": {},
   "source": [
    "Q2. What is the difference between the mean, median, and mode? How are they used to measure the\n",
    "central tendency of a dataset?"
   ]
  },
  {
   "cell_type": "markdown",
   "id": "4c7cf28f",
   "metadata": {},
   "source": [
    "The mean, median, and mode are all measures of central tendency, which means they are used to describe the center of a dataset. However, they do so in different ways.\n",
    "\n",
    "Mean is the average of all the values in a dataset. It is calculated by adding all the values and dividing by the number of values.\n",
    "\n",
    "Median is the middle value in a dataset when it is ordered from least to greatest. If there is an even number of values, the median is the average of the two middle values.\n",
    "\n",
    "Mode is the most frequently occurring value in a dataset.\n",
    "\n",
    "The mean, median, and mode can all be used to measure the central tendency of a dataset. However, they each have their own strengths and weaknesses.\n",
    "\n",
    "The mean is the most commonly used measure of central tendency, but it can be misleading if there are outliers in the dataset. Outliers are values that are much larger or smaller than the rest of the data. For example, if you were to calculate the mean height of a group of people, the mean would be higher if you included a few very tall people in the group.\n",
    "\n",
    "The median is not affected by outliers, but it can be less representative of the data if the distribution is not symmetrical. A symmetrical distribution is one where the values are evenly distributed on either side of the mean. For example, if you were to calculate the median height of a group of people, the median would be more representative of the data if the heights were evenly distributed between very tall and very short people.\n",
    "\n",
    "The mode is the least affected by outliers, but it can be misleading if there are multiple modes in the dataset. A mode is a value that appears more often than any other value in the dataset. For example, if you were to calculate the mode flavor of ice cream, the mode would be more representative of the data if there was only one flavor that was the most popular.\n",
    "\n",
    "Mean\tAverage of all the values in a dataset\tMean = (Sum of all values) / (Number of values)\n",
    "\n",
    "Median\tMiddle value in a dataset when it is ordered from least to greatest\tMedian = (Value in the middle) if number of values is odd Median = (Average of the two middle values) if number of values is even\n",
    "\n",
    "Mode\tMost frequently occurring value in a dataset\t**Mode = (The value that appears the most often)"
   ]
  },
  {
   "cell_type": "markdown",
   "id": "f623d5c4",
   "metadata": {},
   "source": [
    "Q3. Measure the three measures of central tendency for the given height data:\n",
    "[178,177,176,177,178.2,178,175,179,180,175,178.9,176.2,177,172.5,178,176.5]"
   ]
  },
  {
   "cell_type": "code",
   "execution_count": 1,
   "id": "0e080115",
   "metadata": {},
   "outputs": [
    {
     "name": "stdout",
     "output_type": "stream",
     "text": [
      "Mean: 177.01875\n",
      "Median: 177.0\n",
      "Mode: 178\n"
     ]
    }
   ],
   "source": [
    "import statistics\n",
    "\n",
    "heights = [178, 177, 176, 177, 178.2, 178, 175, 179, 180, 175, 178.9, 176.2, 177, 172.5, 178, 176.5]\n",
    "\n",
    "mean = statistics.mean(heights)\n",
    "median = statistics.median(heights)\n",
    "mode = statistics.mode(heights)\n",
    "\n",
    "print(\"Mean:\", mean)\n",
    "print(\"Median:\", median)\n",
    "print(\"Mode:\", mode)\n"
   ]
  },
  {
   "cell_type": "markdown",
   "id": "aefa7fcb",
   "metadata": {},
   "source": [
    "Q5. How are measures of dispersion such as range, variance, and standard deviation used to describe\n",
    "the spread of a dataset? Provide an example."
   ]
  },
  {
   "cell_type": "markdown",
   "id": "b896633b",
   "metadata": {},
   "source": [
    "Measures of dispersion are used to describe the spread of a dataset. They tell us how spread out the values in a dataset are, and how different they are from the mean.\n",
    "\n",
    "The three most common measures of dispersion are:\n",
    "\n",
    "Range: The range is the difference between the largest and smallest values in a dataset.\n",
    "Variance: The variance is a measure of how spread out the values in a dataset are around the mean. It is calculated by taking the average of the squared deviations from the mean.\n",
    "Standard deviation: The standard deviation is the square root of the variance. It is a measure of how spread out the values in a dataset are around the mean, and it is more interpretable than the variance.\n",
    "For example, let's say we have a dataset of heights in centimeters. The mean height is 170 cm, and the range is 20 cm (from 150 cm to 170 cm). The variance is 100 cm², and the standard deviation is 10 cm.\n",
    "\n",
    "The range tells us that the tallest person in the dataset is 20 cm taller than the shortest person. The variance tells us that the values in the dataset are on average 10 cm away from the mean. The standard deviation tells us that the values in the dataset are on average 10 cm away from the mean."
   ]
  },
  {
   "cell_type": "markdown",
   "id": "baf9447e",
   "metadata": {},
   "source": [
    "Q6. What is a Venn diagram?"
   ]
  },
  {
   "cell_type": "markdown",
   "id": "84a57772",
   "metadata": {},
   "source": [
    "A Venn diagram is a diagram that shows all possible logical relations between a finite collection of different sets. These diagrams depict elements as points in the plane, and sets as regions inside closed curves. A Venn diagram consists of multiple overlapping closed curves, usually circles, each representing a set. The points inside a curve labelled S represent elements of the set S, while points outside the boundary represent elements not in the set S."
   ]
  },
  {
   "cell_type": "markdown",
   "id": "412df0d9",
   "metadata": {},
   "source": [
    "Q7. For the two given sets A = (2,3,4,5,6,7) & B = (0,2,6,8,10). Find:\n",
    "(i) A B\n",
    "(ii) A ⋃ B"
   ]
  },
  {
   "cell_type": "markdown",
   "id": "9e8e348f",
   "metadata": {},
   "source": [
    "(i) A B\n",
    "\n",
    "The intersection of two sets A and B is the set of elements that are in A and also in B. In other words, it is the set of elements that are common to both sets.\n",
    "\n",
    "For the two sets A = (2,3,4,5,6,7) and B = (0,2,6,8,10), the intersection is:\n",
    "\n",
    "A B = {2,6}\n",
    "(ii) A ⋃ B\n",
    "\n",
    "The union of two sets A and B is the set of elements that are in A or in B or in both A and B. In other words, it is the set of elements that are in either set A or set B or both.\n",
    "\n",
    "For the two sets A = (2,3,4,5,6,7) and B = (0,2,6,8,10), the union is:\n",
    "\n",
    "A ⋃ B = {0,2,3,4,5,6,7,8,10}"
   ]
  },
  {
   "cell_type": "markdown",
   "id": "4c2a8a07",
   "metadata": {},
   "source": [
    "Q8. What do you understand about skewness in data?"
   ]
  },
  {
   "cell_type": "raw",
   "id": "db0a609c",
   "metadata": {},
   "source": [
    "\n",
    "Skewness is a measure of the asymmetry of a distribution. A distribution is said to be skewed if it is not symmetrical around its mean.\n",
    "\n",
    "There are two types of skewness:\n",
    "\n",
    "Positive skewness: This occurs when the tail of the distribution is longer on the right side of the mean. This means that there are more values in the distribution that are greater than the mean.\n",
    "Negative skewness: This occurs when the tail of the distribution is longer on the left side of the mean. This means that there are more values in the distribution that are less than the mean.\n",
    "\n",
    "Outliers: Outliers are values that are far outside the normal range of values in a distribution. They can skew a distribution towards the side where they occur.\n",
    "Non-normal distributions: Some distributions are not normally distributed, such as the Poisson distribution. These distributions can be skewed even if there are no outliers.\n",
    "\n",
    "The distribution of income is often positively skewed, with a long tail on the right side. This means that there are a few people who have very high incomes, which skews the distribution to the right.\n",
    "The distribution of test scores is often negatively skewed, with a long tail on the left side. This means that there are a few people who have very low scores, which skews the distribution to the left.\n"
   ]
  },
  {
   "cell_type": "markdown",
   "id": "7d4eab1e",
   "metadata": {},
   "source": [
    "Q9. If a data is right skewed then what will be the position of median with respect to mean?"
   ]
  },
  {
   "cell_type": "markdown",
   "id": "c4583671",
   "metadata": {},
   "source": [
    "\n",
    "If a data is right skewed, then the mean is greater than the median. This is because the long tail on the right side of the distribution pulls the mean towards the right. The median, on the other hand, is not affected by outliers, so it stays in the middle of the distribution.\n",
    "\n",
    "Here is an example of a right skewed distribution:\n",
    "\n",
    "0 1 2 3 4 5 6 7 8 9 10\n",
    "The mean of this distribution is 6, and the median is 5. As you can see, the mean is greater than the median, which is what we would expect for a right skewed distribution.\n",
    "\n",
    "It is important to note that this is not always the case. There are some right skewed distributions where the mean and median are equal. This can happen if the distribution is very symmetrical, even though it is skewed to the right."
   ]
  },
  {
   "cell_type": "markdown",
   "id": "b3f64648",
   "metadata": {},
   "source": [
    "Q10. Explain the difference between covariance and correlation. How are these measures used in\n",
    "statistical analysis?"
   ]
  },
  {
   "cell_type": "markdown",
   "id": "99ad5a3b",
   "metadata": {},
   "source": [
    "Covariance and correlation are both measures of the relationship between two variables. However, they measure different things.\n",
    "\n",
    "Covariance measures the extent to which two variables vary together. It is a measure of how much the values of two variables change in tandem.\n",
    "Correlation measures the strength and direction of the linear relationship between two variables. It is a measure of how closely two variables are related, and whether the relationship is positive or negative.\n",
    "Covariance can be any value, positive or negative. A positive covariance indicates that the two variables tend to increase or decrease together. A negative covariance indicates that the two variables tend to increase or decrease in opposite directions.\n",
    "\n",
    "Correlation can only have values between -1 and 1. A correlation of 1 indicates a perfect positive linear relationship. A correlation of -1 indicates a perfect negative linear relationship. A correlation of 0 indicates no linear relationship between the two variables."
   ]
  },
  {
   "cell_type": "markdown",
   "id": "fa406748",
   "metadata": {},
   "source": [
    "Q11. What is the formula for calculating the sample mean? Provide an example calculation for a\n",
    "dataset."
   ]
  },
  {
   "cell_type": "markdown",
   "id": "e9576696",
   "metadata": {},
   "source": [
    "The formula for calculating the sample mean is:\n",
    "\n",
    "x̄ = ∑xi / n\n",
    "where:\n",
    "\n",
    "x̄ is the sample mean\n",
    "xi is the value of the ith sample\n",
    "n is the number of samples\n",
    "For example, let's say we have a dataset of the heights of 5 people:\n",
    "\n",
    "heights = [67, 68, 70, 69, 71]\n",
    "The sample mean for this dataset is calculated as follows:\n",
    "\n",
    "x̄ = ∑xi / n = (67 + 68 + 70 + 69 + 71) / 5 = 69"
   ]
  },
  {
   "cell_type": "markdown",
   "id": "dd096edf",
   "metadata": {},
   "source": [
    "Q12. For a normal distribution data what is the relationship between its measure of central tendency?"
   ]
  },
  {
   "cell_type": "markdown",
   "id": "c476ff8c",
   "metadata": {},
   "source": [
    "\n",
    "In a normal distribution, the mean, median, and mode are all equal. This is because a normal distribution is symmetrical, meaning that the values are evenly distributed on either side of the mean.\n",
    "\n",
    "The mean is the average of all the values in the dataset. The median is the middle value in the dataset when it is ordered from least to greatest. The mode is the most frequently occurring value in the dataset.\n",
    "\n",
    "In a normal distribution, all three measures of central tendency are equal because the distribution is symmetrical. This means that the mean is the middle value in the distribution, and it is also the most frequently occurring value.\n",
    "\n",
    "The relationship between the mean, median, and mode in a normal distribution is important because it allows us to understand the distribution of data. If we know that the mean, median, and mode are all equal, then we know that the data is symmetrical and that the most common value is also the average value."
   ]
  },
  {
   "cell_type": "markdown",
   "id": "115797c9",
   "metadata": {},
   "source": [
    "Q13. How is covariance different from correlation?"
   ]
  },
  {
   "cell_type": "markdown",
   "id": "e4e109f0",
   "metadata": {},
   "source": [
    "\n",
    "\n",
    "Covariance and correlation are both measures of the relationship between two variables. However, they measure different things.\n",
    "\n",
    "Covariance measures the extent to which two variables vary together. It is a measure of how much the values of two variables change in tandem.\n",
    "Correlation measures the strength and direction of the linear relationship between two variables. It is a measure of how closely two variables are related, and whether the relationship is positive or negative.\n",
    "Covariance can be any value, positive or negative. A positive covariance indicates that the two variables tend to increase or decrease together. A negative covariance indicates that the two variables tend to increase or decrease in opposite directions.\n",
    "\n",
    "Correlation can only have values between -1 and 1. A correlation of 1 indicates a perfect positive linear relationship. A correlation of -1 indicates a perfect negative linear relationship. A correlation of 0 indicates no linear relationship between the two variables."
   ]
  },
  {
   "cell_type": "markdown",
   "id": "8297b075",
   "metadata": {},
   "source": [
    "Q14. How do outliers affect measures of central tendency and dispersion? Provide an example."
   ]
  },
  {
   "cell_type": "markdown",
   "id": "7dd91d01",
   "metadata": {},
   "source": [
    "\n",
    "Outliers are values that are far outside the normal range of values in a dataset. They can affect measures of central tendency and dispersion in a number of ways.\n",
    "\n",
    "Mean: The mean is the average of all the values in a dataset. Outliers can skew the mean, making it higher or lower than it would be if the outliers were not present.\n",
    "Median: The median is the middle value in a dataset when it is ordered from least to greatest. Outliers do not affect the median, as the median is not affected by extreme values.\n",
    "Mode: The mode is the most frequently occurring value in a dataset. Outliers can affect the mode, as they may be the most frequently occurring value in the dataset.\n",
    "Range: The range is the difference between the largest and smallest values in a dataset. Outliers can increase the range, as they may be the largest or smallest values in the dataset.\n",
    "Variance: The variance is a measure of how spread out the values in a dataset are around the mean. Outliers can increase the variance, as they may be far away from the mean.\n",
    "Standard deviation: The standard deviation is the square root of the variance. It is a measure of how spread out the values in a dataset are around the mean, and it is more interpretable than the variance. Outliers can increase the standard deviation, as they may be far away from the mean.\n",
    "Here is an example of how outliers can affect measures of central tendency and dispersion.\n",
    "\n",
    "Let's say we have a dataset of heights in centimeters. The mean height is 170 cm, and the median height is also 170 cm. The mode height is 165 cm. The range is 10 cm (from 160 cm to 170 cm). The variance is 25 cm². The standard deviation is 5 cm.\n",
    "\n",
    "Now, let's say we add an outlier to the dataset. The outlier is a height of 200 cm. The mean height is now 175 cm, the median height is still 170 cm, the mode height is still 165 cm, the range is now 30 cm, the variance is now 75 cm², and the standard deviation is 8.7 cm.\n",
    "\n",
    "As you can see, the outlier has skewed the mean and increased the variance and standard deviation. This is because the outlier is far away from the rest of the data, and it is pulling the mean and other measures of dispersion towards it.\n",
    "\n",
    "It is important to be aware of the effects of outliers when analyzing data. Outliers can skew the results of your analysis, so it is important to identify and remove them before you start your analysis."
   ]
  }
 ],
 "metadata": {
  "kernelspec": {
   "display_name": "Python 3 (ipykernel)",
   "language": "python",
   "name": "python3"
  },
  "language_info": {
   "codemirror_mode": {
    "name": "ipython",
    "version": 3
   },
   "file_extension": ".py",
   "mimetype": "text/x-python",
   "name": "python",
   "nbconvert_exporter": "python",
   "pygments_lexer": "ipython3",
   "version": "3.9.7"
  }
 },
 "nbformat": 4,
 "nbformat_minor": 5
}
