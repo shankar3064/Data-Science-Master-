{
 "cells": [
  {
   "cell_type": "markdown",
   "id": "b857098d-4985-4ccc-a9af-2b8993bd7a6c",
   "metadata": {},
   "source": [
    "### Q1. What is multiprocessing in python? Why is it useful?\n",
    "\n",
    "#### Multiprocessing is a technique in Python for executing multiple processes or tasks in parallel on a computer with multiple processors or cores. Unlike multithreading, which uses multiple threads within a single process, multiprocessing involves running multiple processes simultaneously, each with its own memory space and resources.\n",
    "\n",
    "#### The primary benefit of multiprocessing is improved performance and throughput. By leveraging the power of multiple processors or cores, multiprocessing can significantly speed up the execution of tasks and reduce the overall processing time of an application. Additionally, multiprocessing can help to maximize the utilization of resources on a computer, enabling more efficient and effective use of hardware resources.\n",
    "\n",
    "#### Multiprocessing can be useful for a wide range of tasks, including data processing, scientific computing, machine learning, and web development, among others. In general, any task that can be split into independent parts and executed in parallel can benefit from multiprocessing."
   ]
  },
  {
   "cell_type": "markdown",
   "id": "5f0138a2-8e92-4931-b210-7d57926c6e52",
   "metadata": {},
   "source": [
    "### Q2. What are the differences between multiprocessing and multithreading?\n",
    "\n",
    "#### Multiprocessing and multithreading are both techniques for executing multiple tasks or processes in parallel, but they differ in several key ways:\n",
    "\n",
    "#### Execution: In multiprocessing, multiple processes are executed in parallel, while in multithreading, multiple threads within a single process are executed in parallel.\n",
    "\n",
    "#### Memory: Each process in multiprocessing has its own memory space, while all threads in multithreading share the same memory space within a process.\n",
    "\n",
    "#### Resources: Each process in multiprocessing has its own set of resources, including system resources such as memory and CPU, while threads in multithreading share the same set of resources within a process.\n",
    "\n",
    "#### Communication: In multiprocessing, communication between processes is typically done through inter-process communication (IPC) mechanisms, such as pipes or queues, while in multithreading, communication between threads is typically done through shared memory or synchronization primitives, such as locks or semaphores.\n",
    "\n",
    "#### Overhead: Multiprocessing can have higher overhead than multithreading, due to the overhead of managing multiple processes and the need for IPC mechanisms. However, multiprocessing can also offer better scalability and performance in certain scenarios."
   ]
  },
  {
   "cell_type": "markdown",
   "id": "c9da28e3-da58-498b-9a4b-b1988988a9ab",
   "metadata": {},
   "source": [
    "### Q3. Write a python code to create a process using the multiprocessing module.\n"
   ]
  },
  {
   "cell_type": "code",
   "execution_count": 1,
   "id": "c8cc0d98-c1a7-45cf-af12-a76441451947",
   "metadata": {},
   "outputs": [
    {
     "name": "stdout",
     "output_type": "stream",
     "text": [
      "Worker process started\n",
      "Worker process finished\n"
     ]
    }
   ],
   "source": [
    "import multiprocessing\n",
    "\n",
    "def worker():\n",
    "    \"\"\"Function to be executed in a separate process.\"\"\"\n",
    "    print(\"Worker process started\")\n",
    "    # Do some work...\n",
    "    print(\"Worker process finished\")\n",
    "\n",
    "if __name__ == '__main__':\n",
    "    # Create a new process\n",
    "    p = multiprocessing.Process(target=worker)\n",
    "    # Start the process\n",
    "    p.start()\n",
    "    # Wait for the process to finish\n",
    "    p.join()\n"
   ]
  },
  {
   "cell_type": "markdown",
   "id": "15866b3e-7390-4ea7-9265-dec6edb45948",
   "metadata": {},
   "source": [
    "### Q4. What is a multiprocessing pool in python? Why is it used?\n",
    "\n",
    "#### In Python, a multiprocessing pool is a collection of worker processes that can be used to execute tasks in parallel. A pool is created by the multiprocessing.Pool class, which allows you to specify the number of worker processes to create. Tasks can be executed in the pool using the apply, apply_async, map, or imap methods.\n",
    "\n",
    "#### The multiprocessing.Pool class is useful when you need to execute a large number of independent tasks in parallel, as it allows you to leverage multiple CPU cores or processors to speed up the processing time. By using a pool of worker processes, tasks can be executed concurrently, allowing for better utilization of system resources and faster processing times."
   ]
  },
  {
   "cell_type": "code",
   "execution_count": 2,
   "id": "012d58ba-50f7-445c-845d-6018495066d6",
   "metadata": {},
   "outputs": [
    {
     "name": "stdout",
     "output_type": "stream",
     "text": [
      "[1, 4, 9, 16, 25, 36, 49, 64, 81, 100]\n"
     ]
    }
   ],
   "source": [
    "import multiprocessing\n",
    "\n",
    "def square(n):\n",
    "    return n ** 2\n",
    "\n",
    "if __name__ == '__main__':\n",
    "    with multiprocessing.Pool(4) as pool:\n",
    "        numbers = [1, 2, 3, 4, 5, 6, 7, 8, 9, 10]\n",
    "        results = pool.map(square, numbers)\n",
    "        print(results)\n"
   ]
  },
  {
   "cell_type": "markdown",
   "id": "d2cf0054-dddb-41b7-a180-42a9ded54fb1",
   "metadata": {},
   "source": [
    "### Q5. How can we create a pool of worker processes in python using the multiprocessing module?\n",
    "\n",
    "#### In Python, we can create a pool of worker processes using the multiprocessing.Pool class. The Pool class provides a simple way to create a fixed-size pool of worker processes, which can be used to execute tasks in parallel."
   ]
  },
  {
   "cell_type": "code",
   "execution_count": 3,
   "id": "aa08686c-04b9-4e03-bc81-9452efa23416",
   "metadata": {},
   "outputs": [
    {
     "name": "stdout",
     "output_type": "stream",
     "text": [
      "[1, 4, 9, 16, 25, 36, 49, 64, 81, 100]\n"
     ]
    }
   ],
   "source": [
    "import multiprocessing\n",
    "\n",
    "def worker(n):\n",
    "    \"\"\"A function that will be executed in a separate process.\"\"\"\n",
    "    return n * n\n",
    "\n",
    "if __name__ == '__main__':\n",
    "    # Create a pool of 4 worker processes\n",
    "    pool = multiprocessing.Pool(4)\n",
    "\n",
    "    # Submit tasks to the pool\n",
    "    results = pool.map(worker, [1, 2, 3, 4, 5, 6, 7, 8, 9, 10])\n",
    "\n",
    "    # Print the results\n",
    "    print(results)\n",
    "\n",
    "    # Close the pool\n",
    "    pool.close()\n",
    "\n",
    "    # Wait for the worker processes to finish\n",
    "    pool.join()\n"
   ]
  },
  {
   "cell_type": "markdown",
   "id": "d4e96d20-f0e8-478d-aed8-a7d2b136ec58",
   "metadata": {},
   "source": [
    "#### Q6. Write a python program to create 4 processes, each process should print a different number using the multiprocessing module in python.\n",
    "\n"
   ]
  },
  {
   "cell_type": "code",
   "execution_count": 4,
   "id": "e56a7da6-7119-4c30-b963-3d8d7c068907",
   "metadata": {},
   "outputs": [
    {
     "name": "stdout",
     "output_type": "stream",
     "text": [
      "Process 0: 0\n",
      "Process 1: 1\n",
      "Process 2: 2\n",
      "Process 3: 3\n"
     ]
    }
   ],
   "source": [
    "import multiprocessing\n",
    "\n",
    "def print_number(n):\n",
    "    print(f\"Process {n}: {n}\")\n",
    "\n",
    "if __name__ == '__main__':\n",
    "    processes = []\n",
    "    for i in range(4):\n",
    "        p = multiprocessing.Process(target=print_number, args=(i,))\n",
    "        processes.append(p)\n",
    "        p.start()\n",
    "\n",
    "    for p in processes:\n",
    "        p.join()\n"
   ]
  },
  {
   "cell_type": "code",
   "execution_count": null,
   "id": "ab526034-c822-4052-af87-c994a1c6d2b6",
   "metadata": {},
   "outputs": [],
   "source": []
  }
 ],
 "metadata": {
  "kernelspec": {
   "display_name": "Python 3 (ipykernel)",
   "language": "python",
   "name": "python3"
  },
  "language_info": {
   "codemirror_mode": {
    "name": "ipython",
    "version": 3
   },
   "file_extension": ".py",
   "mimetype": "text/x-python",
   "name": "python",
   "nbconvert_exporter": "python",
   "pygments_lexer": "ipython3",
   "version": "3.10.8"
  }
 },
 "nbformat": 4,
 "nbformat_minor": 5
}
