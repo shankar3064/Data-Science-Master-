{
 "cells": [
  {
   "cell_type": "markdown",
   "id": "26cab911-a170-4710-b1a0-e67e4817166a",
   "metadata": {},
   "source": [
    "## Q1. Which keyword is used to create a function? Create a function to return a list of odd numbers in the\n",
    "## range of 1 to 25."
   ]
  },
  {
   "cell_type": "code",
   "execution_count": 1,
   "id": "e7534938-4520-40df-b7be-6343ef965eb0",
   "metadata": {},
   "outputs": [
    {
     "name": "stdout",
     "output_type": "stream",
     "text": [
      "[1, 3, 5, 7, 9, 11, 13, 15, 17, 19, 21, 23, 25]\n"
     ]
    }
   ],
   "source": [
    "def odd_numbers():\n",
    "    odd_list = []\n",
    "    for i in range(1, 26):\n",
    "        if i % 2 != 0:\n",
    "            odd_list.append(i)\n",
    "    return odd_list\n",
    "print(odd_numbers())"
   ]
  },
  {
   "cell_type": "markdown",
   "id": "ead335d8-59fc-4734-a285-d114aa9dea08",
   "metadata": {},
   "source": [
    "## Q2. Why *args and **kwargs is used in some functions? Create a function each for *args and **kwargs to\n",
    "## demonstrate their use."
   ]
  },
  {
   "cell_type": "markdown",
   "id": "6ee1bcb6-ef62-4fd8-a95b-240b1f0df8c2",
   "metadata": {},
   "source": [
    "##### *args and **kwargs are used in functions to allow for a flexible number of arguments.\n",
    "\n",
    "##### *args is used to send a non-keyworded variable length argument list to the function. It's used to pass a variable number of positional arguments to the function.\n",
    "\n",
    "##### **kwargs is used to send a keyworded variable length argument list to the function. It's used to pass a keyworded, variable-length argument list to the function.\n",
    "\n",
    "##### Example:-"
   ]
  },
  {
   "cell_type": "code",
   "execution_count": 2,
   "id": "cf07f46f-8d26-4692-9315-cf4c714921e2",
   "metadata": {},
   "outputs": [
    {
     "name": "stdout",
     "output_type": "stream",
     "text": [
      "15\n"
     ]
    }
   ],
   "source": [
    "def sum_numbers(*args):\n",
    "    result = 0\n",
    "    for i in args:\n",
    "        result += i\n",
    "    return result\n",
    "print(sum_numbers(1, 2, 3, 4, 5))"
   ]
  },
  {
   "cell_type": "markdown",
   "id": "839e68e1-ba3d-4db0-a9f0-6fb014660cd9",
   "metadata": {},
   "source": [
    "def student_details(**kwargs):\n",
    "    for key, value in kwargs.items():\n",
    "        print(f\"{key}: {value}\")\n",
    "student_details(name=\"shankar\", age=21, course=\"BCA\")"
   ]
  },
  {
   "cell_type": "markdown",
   "id": "5e444896-7684-461f-a61c-efccf1923161",
   "metadata": {},
   "source": [
    "### Q3. What is an iterator in python? Name the method used to initialise the iterator object and the method\n",
    "### used for iteration. Use these methods to print the first five elements of the given list [2, 4, 6, 8, 10, 12, 14, 16,\n",
    "### 18, 20].\n",
    "\n",
    "###### An iterator in Python is an object that implements the iterator protocol, which consists of two methods: __iter__() and __next__().\n",
    "\n",
    "###### __iter__() is used to initialize the iterator object, while __next__() is used for iteration."
   ]
  },
  {
   "cell_type": "code",
   "execution_count": 6,
   "id": "3090bda5-2b7c-4e0e-a783-f2ba0373aed5",
   "metadata": {},
   "outputs": [
    {
     "name": "stdout",
     "output_type": "stream",
     "text": [
      "2\n",
      "4\n",
      "6\n",
      "8\n",
      "10\n"
     ]
    }
   ],
   "source": [
    "numbers = [2, 4, 6, 8, 10, 12, 14, 16, 18, 20]\n",
    "my_iter = iter(numbers)\n",
    "for i in range(5):\n",
    "    print(next(my_iter))"
   ]
  },
  {
   "cell_type": "markdown",
   "id": "8ceeaf81-26d0-4e0a-a645-eea338870ca0",
   "metadata": {},
   "source": [
    "### Q4. What is a generator function in python? Why yield keyword is used? Give an example of a generator\n",
    "### function.\n",
    "\n",
    "##### A generator function in Python is a special type of function that uses the yield keyword instead of return to return a generator object. The generator function generates a sequence of values, which can be iterated through one at a time.\n",
    "\n",
    "##### The yield keyword is used in a generator function because it allows the function to return values one at a time, rather than all at once. This makes it more memory-efficient than a regular function that returns a list, as the generator only generates values as they are needed, rather than generating all values at once."
   ]
  },
  {
   "cell_type": "code",
   "execution_count": 7,
   "id": "318e55d1-29fd-4b32-95dc-0b61ed3a4d53",
   "metadata": {},
   "outputs": [],
   "source": [
    "def test_fib(n):\n",
    "    a,b = 0,1\n",
    "    for i in range(n):\n",
    "        yield a\n",
    "        a,b = b ,b+a"
   ]
  },
  {
   "cell_type": "code",
   "execution_count": null,
   "id": "fc68cab2-c423-4ba6-9974-f42e442d78dd",
   "metadata": {},
   "outputs": [],
   "source": []
  },
  {
   "cell_type": "code",
   "execution_count": null,
   "id": "a9e63a2e-3526-4071-8cd8-007eaecaa6f2",
   "metadata": {},
   "outputs": [],
   "source": [
    "### Q5. Create a generator function for prime numbers less than 1000. Use the next() method to print the\n",
    "### first 20 prime numbers."
   ]
  }
 ],
 "metadata": {
  "kernelspec": {
   "display_name": "Python 3 (ipykernel)",
   "language": "python",
   "name": "python3"
  },
  "language_info": {
   "codemirror_mode": {
    "name": "ipython",
    "version": 3
   },
   "file_extension": ".py",
   "mimetype": "text/x-python",
   "name": "python",
   "nbconvert_exporter": "python",
   "pygments_lexer": "ipython3",
   "version": "3.10.8"
  }
 },
 "nbformat": 4,
 "nbformat_minor": 5
}
