{
 "cells": [
  {
   "cell_type": "markdown",
   "id": "77506d0d",
   "metadata": {},
   "source": [
    "#### Consider following code to answer further questions:\n",
    "#### import pandas as pd\n",
    "#### course_name = [‘Data Science’, ‘Machine Learning’, ‘Big Data’, ‘Data Engineer’]\n",
    "#### duration = [2,3,6,4]\n",
    "#### df = pd.DataFrame(data = {‘course_name’ : course_name, ‘duration’ : duration})\n",
    "#### Q1. Write a code to print the data present in the second row of the dataframe, df."
   ]
  },
  {
   "cell_type": "code",
   "execution_count": 1,
   "id": "28535478",
   "metadata": {},
   "outputs": [
    {
     "name": "stdout",
     "output_type": "stream",
     "text": [
      "course_name    Machine Learning\n",
      "duration                      3\n",
      "Name: 1, dtype: object\n"
     ]
    }
   ],
   "source": [
    "import pandas as pd\n",
    "course_name = ['Data Science', 'Machine Learning', 'Big Data', 'Data Engineer']\n",
    "duration = [2, 3, 6, 4]\n",
    "df = pd.DataFrame(data={'course_name': course_name, 'duration': duration})\n",
    "print(df.iloc[1,:])\n"
   ]
  },
  {
   "cell_type": "markdown",
   "id": "5e25f012",
   "metadata": {},
   "source": [
    "#### Q2. What is the difference between the functions loc and iloc in pandas.DataFrame?"
   ]
  },
  {
   "cell_type": "markdown",
   "id": "f60984f8",
   "metadata": {},
   "source": [
    "#### The loc and iloc functions in Pandas are used to select rows and columns in a DataFrame. The main difference between the two functions is that loc uses labels to select rows and columns, while iloc uses integer positions."
   ]
  },
  {
   "cell_type": "code",
   "execution_count": 2,
   "id": "79377524",
   "metadata": {},
   "outputs": [
    {
     "name": "stdout",
     "output_type": "stream",
     "text": [
      "course_name    Machine Learning\n",
      "duration                      3\n",
      "Name: 1, dtype: object\n"
     ]
    }
   ],
   "source": [
    "import pandas as pd\n",
    "course_name = ['Data Science', 'Machine Learning', 'Big Data', 'Data Engineer']\n",
    "duration = [2, 3, 6, 4]\n",
    "df = pd.DataFrame(data={'course_name': course_name, 'duration': duration})\n",
    "# Select the second row using loc\n",
    "print(df.loc[1,:])\n"
   ]
  },
  {
   "cell_type": "markdown",
   "id": "4235b030",
   "metadata": {},
   "source": [
    "####  The loc function has successfully selected the second row of the DataFrame."
   ]
  },
  {
   "cell_type": "code",
   "execution_count": 3,
   "id": "7bdd2d35",
   "metadata": {},
   "outputs": [
    {
     "name": "stdout",
     "output_type": "stream",
     "text": [
      "course_name    Machine Learning\n",
      "duration                      3\n",
      "Name: 1, dtype: object\n"
     ]
    }
   ],
   "source": [
    "import pandas as pd\n",
    "course_name = ['Data Science', 'Machine Learning', 'Big Data', 'Data Engineer']\n",
    "duration = [2, 3, 6, 4]\n",
    "df = pd.DataFrame(data={'course_name': course_name, 'duration': duration})\n",
    "# Select the second row using iloc\n",
    "print(df.iloc[1,:])\n"
   ]
  },
  {
   "cell_type": "markdown",
   "id": "39f3b453",
   "metadata": {},
   "source": [
    "#### Q3. Reindex the given dataframe using a variable, reindex = [3,0,1,2] and store it in the variable, new_df then find the output for both new_df.loc[2] and new_df.iloc[2].\n",
    "\n",
    "#### Did you observe any difference in both the outputs? If so then explain it.\n",
    "#### Consider the below code to answer further questions:\n",
    "import pandas as pd\n",
    "import numpy as np\n",
    "columns = ['column_1', 'column_2', 'column_3', 'column_4', 'column_5', 'column_6']\n",
    "indices = [1,2,3,4,5,6]\n",
    "#Creating a dataframe:\n",
    "df1 = pd.DataFrame(np.random.rand(6,6), columns = columns, index = indices)"
   ]
  },
  {
   "cell_type": "code",
   "execution_count": 4,
   "id": "9a49161d",
   "metadata": {},
   "outputs": [],
   "source": [
    "import pandas as pd\n",
    "import numpy as np\n",
    "columns = ['column_1', 'column_2', 'column_3', 'column_4', 'column_5', 'column_6']\n",
    "indices = [1,2,3,4,5,6]\n",
    "#Creating a dataframe:\n",
    "df1 = pd.DataFrame(np.random.rand(6,6), columns = columns, index = indices)"
   ]
  },
  {
   "cell_type": "code",
   "execution_count": 5,
   "id": "72a83155",
   "metadata": {},
   "outputs": [],
   "source": [
    "reindex = [3, 0, 1, 2]\n",
    "new_df = df1.reindex(reindex)\n"
   ]
  },
  {
   "cell_type": "code",
   "execution_count": 6,
   "id": "7784448f",
   "metadata": {},
   "outputs": [
    {
     "name": "stdout",
     "output_type": "stream",
     "text": [
      "column_1    0.226331\n",
      "column_2    0.528869\n",
      "column_3    0.753135\n",
      "column_4    0.866418\n",
      "column_5    0.248530\n",
      "column_6    0.630663\n",
      "Name: 2, dtype: float64\n",
      "column_1    0.072650\n",
      "column_2    0.360119\n",
      "column_3    0.692280\n",
      "column_4    0.789457\n",
      "column_5    0.538476\n",
      "column_6    0.452764\n",
      "Name: 1, dtype: float64\n"
     ]
    }
   ],
   "source": [
    "print(new_df.loc[2])\n",
    "print(new_df.iloc[2])\n"
   ]
  },
  {
   "cell_type": "markdown",
   "id": "afb5f614",
   "metadata": {},
   "source": [
    "#### Q4. Write a code to find the following statistical measurements for the above dataframe df1:\n",
    "#### (i) mean of each and every column present in the dataframe.\n",
    "#### (ii) standard deviation of column, ‘column_2’"
   ]
  },
  {
   "cell_type": "code",
   "execution_count": 7,
   "id": "5633e211",
   "metadata": {},
   "outputs": [
    {
     "name": "stdout",
     "output_type": "stream",
     "text": [
      "column_1    0.293586\n",
      "column_2    0.405972\n",
      "column_3    0.454656\n",
      "column_4    0.747532\n",
      "column_5    0.581962\n",
      "column_6    0.481825\n",
      "dtype: float64\n",
      "0.2952418980037151\n"
     ]
    }
   ],
   "source": [
    "import pandas as pd\n",
    "import numpy as np\n",
    "\n",
    "columns = ['column_1', 'column_2', 'column_3', 'column_4', 'column_5', 'column_6']\n",
    "indices = [1, 2, 3, 4, 5, 6]\n",
    "df1 = pd.DataFrame(np.random.rand(6, 6), columns=columns, index=indices)\n",
    "mean = df1.mean(axis=0)\n",
    "std = df1['column_2'].std()\n",
    "\n",
    "print(mean)\n",
    "print(std)\n"
   ]
  },
  {
   "cell_type": "markdown",
   "id": "6f443557",
   "metadata": {},
   "source": [
    "#### Q5. Replace the data present in the second row of column, ‘column_2’ by a string variable then find the mean of column, column_2.\n",
    "#### If you are getting errors in executing it then explain why.\n",
    "#### [Hint: To replace the data use df1.loc[] and equate this to string data of your choice.]"
   ]
  },
  {
   "cell_type": "code",
   "execution_count": 16,
   "id": "b05f6790",
   "metadata": {},
   "outputs": [
    {
     "ename": "NameError",
     "evalue": "name 'string_value' is not defined",
     "output_type": "error",
     "traceback": [
      "\u001b[1;31m---------------------------------------------------------------------------\u001b[0m",
      "\u001b[1;31mNameError\u001b[0m                                 Traceback (most recent call last)",
      "\u001b[1;32m~\\AppData\\Local\\Temp/ipykernel_19404/3792142348.py\u001b[0m in \u001b[0;36m<module>\u001b[1;34m\u001b[0m\n\u001b[0;32m      9\u001b[0m \u001b[1;33m\u001b[0m\u001b[0m\n\u001b[0;32m     10\u001b[0m \u001b[1;31m# Replacing the data present in the second row of column_2 by a string variable:\u001b[0m\u001b[1;33m\u001b[0m\u001b[1;33m\u001b[0m\u001b[0m\n\u001b[1;32m---> 11\u001b[1;33m \u001b[0mdf1\u001b[0m\u001b[1;33m.\u001b[0m\u001b[0mloc\u001b[0m\u001b[1;33m[\u001b[0m\u001b[1;36m2\u001b[0m\u001b[1;33m,\u001b[0m \u001b[1;34m'column_2'\u001b[0m\u001b[1;33m]\u001b[0m \u001b[1;33m=\u001b[0m  \u001b[0mtype\u001b[0m\u001b[1;33m(\u001b[0m\u001b[0mstring_value\u001b[0m\u001b[1;33m)\u001b[0m\u001b[1;33m\u001b[0m\u001b[1;33m\u001b[0m\u001b[0m\n\u001b[0m\u001b[0;32m     12\u001b[0m \u001b[1;33m\u001b[0m\u001b[0m\n\u001b[0;32m     13\u001b[0m \u001b[1;31m# integer_value = 123\u001b[0m\u001b[1;33m\u001b[0m\u001b[1;33m\u001b[0m\u001b[0m\n",
      "\u001b[1;31mNameError\u001b[0m: name 'string_value' is not defined"
     ]
    }
   ],
   "source": [
    "import pandas as pd\n",
    "import numpy as np\n",
    "\n",
    "columns = ['column_1', 'column_2', 'column_3', 'column_4', 'column_5', 'column_6']\n",
    "indices = [1, 2, 3, 4, 5, 6]\n",
    "\n",
    "# Creating a dataframe:\n",
    "df1 = pd.DataFrame(np.random.rand(6, 6), columns=columns, index=indices)\n",
    "\n",
    "# Replacing the data present in the second row of column_2 by a string variable:\n",
    "df1.loc[2, 'column_2'] =  type(string_value)\n",
    "\n",
    "# integer_value = 123\n",
    "string_value = str(string_value)\n",
    "\n",
    "# Finding the mean of column_2:\n",
    "mean = df1['column_2'].mean()\n",
    "\n",
    "print(mean)\n"
   ]
  },
  {
   "cell_type": "markdown",
   "id": "f167ae61",
   "metadata": {},
   "source": [
    "#### Q6. What do you understand about the windows function in pandas and list the types of windows functions?"
   ]
  },
  {
   "cell_type": "markdown",
   "id": "2f36dc79",
   "metadata": {},
   "source": [
    "#### Window functions in Pandas are used to perform calculations across a set of rows that are related to the current row. They are similar to SQL window functions, and they can be used to perform a variety of tasks, such as calculating moving averages, finding the minimum or maximum value in a window, or ranking values within a window.\n",
    "\n",
    "#### There are four main types of window functions in Pandas:\n",
    "\n",
    "#### Rolling windows: Rolling windows slide across the data and calculate the desired aggregation over a fixed number of rows. For example, a rolling mean with a window size of 3 would calculate the mean of the current row and the two rows before it.\n",
    "#### Expanding windows: Expanding windows start at the beginning of the data and add rows to the window as they come in. The desired aggregation is calculated over all of the rows in the window. For example, an expanding mean would calculate the mean of all of the rows in the DataFrame, starting with the first row and adding rows as they come in.\n",
    "#### EWM windows: Exponentially weighted windows are similar to rolling windows, but they give more weight to the most recent rows. This can be useful for smoothing out noise in the data.\n",
    "#### Hamming windows: Hamming windows are a type of weighted window that assigns weights to rows based on their distance from the current row. This can be useful for finding local maxima or minima in the data.\n",
    "#### Window functions can be used with any aggregation function, such as sum(), mean(), median(), or min(). They can also be used with other functions, such as rank() or cumsum()."
   ]
  },
  {
   "cell_type": "code",
   "execution_count": null,
   "id": "48ac2ea5",
   "metadata": {},
   "outputs": [],
   "source": [
    "import pandas as pd\n",
    "\n",
    "df = pd.DataFrame({\n",
    "    'price': [100, 101, 102, 103, 104, 105]\n",
    "})\n",
    "\n",
    "window = pd.Window(df['price'], window_size=3, min_periods=1)\n",
    "rolling_mean = window.apply('mean')\n",
    "\n",
    "print(rolling_mean)"
   ]
  },
  {
   "cell_type": "markdown",
   "id": "d9833c22",
   "metadata": {},
   "source": [
    "#### Q7. Write a code to print only the current month and year at the time of answering this question.[Hint: Use pandas.datetime function]"
   ]
  },
  {
   "cell_type": "code",
   "execution_count": 2,
   "id": "85fec21e",
   "metadata": {},
   "outputs": [
    {
     "name": "stdout",
     "output_type": "stream",
     "text": [
      "Jul 2023\n"
     ]
    }
   ],
   "source": [
    "import pandas as pd\n",
    "import datetime\n",
    "\n",
    "today = datetime.datetime.today()\n",
    "\n",
    "print(today.strftime('%b %Y'))\n"
   ]
  },
  {
   "cell_type": "markdown",
   "id": "a9d9ba42",
   "metadata": {},
   "source": [
    "#### Q8. Write a Python program that takes in two dates as input (in the format YYYY-MM-DD) and\n",
    "#### calculates the difference between them in days, hours, and minutes using Pandas time delta. The\n",
    "#### program should prompt the user to enter the dates and display the result."
   ]
  },
  {
   "cell_type": "code",
   "execution_count": 3,
   "id": "69d9a7cf",
   "metadata": {},
   "outputs": [
    {
     "name": "stdout",
     "output_type": "stream",
     "text": [
      "Enter the start date (YYYY-MM-DD): 2023-02-20\n",
      "Enter the end date (YYYY-MM-DD): 2023-08-15\n",
      "The difference between the two dates is 176 days, 0 hours, and 0 minutes.\n"
     ]
    }
   ],
   "source": [
    "import pandas as pd\n",
    "import datetime\n",
    "\n",
    "def days_hours_minutes_difference(start_date, end_date):\n",
    "  \"\"\"\n",
    "  Calculates the difference between two dates in days, hours, and minutes.\n",
    "\n",
    "  Args:\n",
    "    start_date: The start date in the format YYYY-MM-DD.\n",
    "    end_date: The end date in the format YYYY-MM-DD.\n",
    "\n",
    "  Returns:\n",
    "    A tuple of the difference in days, hours, and minutes.\n",
    "  \"\"\"\n",
    "\n",
    "  start_date = pd.to_datetime(start_date)\n",
    "  end_date = pd.to_datetime(end_date)\n",
    "\n",
    "  time_delta = end_date - start_date\n",
    "\n",
    "  days = time_delta.days\n",
    "  hours = time_delta.seconds // 3600\n",
    "  minutes = (time_delta.seconds % 3600) // 60\n",
    "\n",
    "  return days, hours, minutes\n",
    "\n",
    "def main():\n",
    "  \"\"\"\n",
    "  Prompts the user to enter two dates and prints the difference between them in days, hours,\n",
    "  and minutes.\n",
    "  \"\"\"\n",
    "\n",
    "  start_date = input(\"Enter the start date (YYYY-MM-DD): \")\n",
    "  end_date = input(\"Enter the end date (YYYY-MM-DD): \")\n",
    "\n",
    "  days, hours, minutes = days_hours_minutes_difference(start_date, end_date)\n",
    "\n",
    "  print(f\"The difference between the two dates is {days} days, {hours} hours, and {minutes} minutes.\")\n",
    "\n",
    "if __name__ == \"__main__\":\n",
    "  main()\n"
   ]
  },
  {
   "cell_type": "markdown",
   "id": "6c581191",
   "metadata": {},
   "source": [
    "#### Q9. Write a Python program that reads a CSV file containing categorical data and converts a specified\n",
    "#### column to a categorical data type. The program should prompt the user to enter the file path, column\n",
    "#### name, and category order, and then display the sorted data."
   ]
  },
  {
   "cell_type": "code",
   "execution_count": null,
   "id": "e24e219d",
   "metadata": {},
   "outputs": [],
   "source": [
    "import pandas as pd\n",
    "\n",
    "def read_csv_file(file_path):\n",
    "  \"\"\"\n",
    "  Reads a CSV file and returns a Pandas DataFrame.\n",
    "\n",
    "  Args:\n",
    "    file_path: The path to the CSV file.\n",
    "\n",
    "  Returns:\n",
    "    A Pandas DataFrame.\n",
    "  \"\"\"\n",
    "\n",
    "  df = pd.read_csv(file_path)\n",
    "  return df\n",
    "\n",
    "def convert_column_to_categorical(df, column_name, category_order):\n",
    "  \"\"\"\n",
    "  Converts a specified column in a Pandas DataFrame to a categorical data type.\n",
    "\n",
    "  Args:\n",
    "    df: The Pandas DataFrame.\n",
    "    column_name: The name of the column to convert.\n",
    "    category_order: A list of the categories in the column, in the order in which they should be sorted.\n",
    "  \"\"\"\n",
    "\n",
    "  df[column_name] = df[column_name].astype('category', categories=category_order)\n",
    "\n",
    "def main():\n",
    "  \"\"\"\n",
    "  Prompts the user to enter the file path, column name, and category order, and then displays the sorted data.\n",
    "  \"\"\"\n",
    "\n",
    "  file_path = input(\"Enter the path to the CSV file: \")\n",
    "  column_name = input(\"Enter the name of the column to convert: \")\n",
    "  category_order = input(\"Enter the category order: \")\n",
    "\n",
    "  df = read_csv_file(file_path)\n",
    "  convert_column_to_categorical(df, column_name, category_order)\n",
    "\n",
    "  sorted_df = df.sort_values(by=column_name)\n",
    "\n",
    "  print(sorted_df)\n",
    "\n",
    "if __name__ == \"__main__\":\n",
    "  main()\n"
   ]
  },
  {
   "cell_type": "markdown",
   "id": "e1f8d63f",
   "metadata": {},
   "source": [
    "#### Q10. Write a Python program that reads a CSV file containing sales data for different products and\n",
    "#### visualizes the data using a stacked bar chart to show the sales of each product category over time. The\n",
    "#### program should prompt the user to enter the file path and display the chart."
   ]
  },
  {
   "cell_type": "code",
   "execution_count": null,
   "id": "015d9cd2",
   "metadata": {},
   "outputs": [],
   "source": [
    "import pandas as pd\n",
    "import matplotlib.pyplot as plt\n",
    "\n",
    "def read_csv_file(file_path):\n",
    "  \"\"\"\n",
    "  Reads a CSV file and returns a Pandas DataFrame.\n",
    "\n",
    "  Args:\n",
    "    file_path: The path to the CSV file.\n",
    "\n",
    "  Returns:\n",
    "    A Pandas DataFrame.\n",
    "  \"\"\"\n",
    "\n",
    "  df = pd.read_csv(file_path)\n",
    "  return df\n",
    "\n",
    "def plot_stacked_bar_chart(df, category_column, time_column, sales_column):\n",
    "  \"\"\"\n",
    "  Plots a stacked bar chart showing the sales of each product category over time.\n",
    "\n",
    "  Args:\n",
    "    df: The Pandas DataFrame.\n",
    "    category_column: The column that contains the product categories.\n",
    "    time_column: The column that contains the time periods.\n",
    "    sales_column: The column that contains the sales data.\n",
    "  \"\"\"\n",
    "\n",
    "  plt.bar(df[time_column], df[sales_column], stacked=True)\n",
    "  plt.xlabel(time_column)\n",
    "  plt.ylabel(\"Sales\")\n",
    "  plt.title(\"Sales of Different Product Categories Over Time\")\n",
    "  plt.legend(df[category_column])\n",
    "  plt.show()\n",
    "\n",
    "def main():\n",
    "  \"\"\"\n",
    "  Prompts the user to enter the file path and displays the stacked bar chart.\n",
    "  \"\"\"\n",
    "\n",
    "  file_path = input(\"Enter the path to the CSV file: \")\n",
    "\n",
    "  df = read_csv_file(file_path)\n",
    "\n",
    "  plot_stacked_bar_chart(df, 'category', 'month', 'sales')\n",
    "\n",
    "if __name__ == \"__main__\":\n",
    "  main()\n"
   ]
  },
  {
   "cell_type": "markdown",
   "id": "7645d4d9",
   "metadata": {},
   "source": [
    "#### Q11. You are given a CSV file containing student data that includes the student ID and their test score. Write\n",
    "a Python program that reads the CSV file, calculates the mean, median, and mode of the test scores, and\n",
    "displays the results in a table.\n",
    "The program should do the followingM\n",
    "I Prompt the user to enter the file path of the CSV file containing the student dataR\n",
    "I Read the CSV file into a Pandas DataFrameR\n",
    "I Calculate the mean, median, and mode of the test scores using Pandas toolsR\n",
    "I Display the mean, median, and mode in a table.\n",
    "Assume the CSV file contains the following columnsM\n",
    "I Student ID: The ID of the studentR\n",
    "I Test Score: The score of the student's test.\n",
    "Example usage of the program:\n",
    "Enter the file path of the CSV file containing the student data: student_data.csv\n",
    "+-----------+--------+\n",
    "| Statistic | Value |\n",
    "+-----------+--------+\n",
    "| Mean | 79.6 |\n",
    "| Median | 82 |\n",
    "| Mode | 85, 90 |\n",
    "+-----------+--------+\n",
    "Assume that the CSV file student_data.csv contains the following data:\n",
    "Student ID,Test Score\n",
    "1,85\n",
    "2,90\n",
    "3,80\n",
    "4,75\n",
    "5,85\n",
    "6,82\n",
    "7,78\n",
    "8,85\n",
    "9,90\n",
    "10,85\n",
    "#### The program should calculate the mean, median, and mode of the test scores and display the results in a table."
   ]
  },
  {
   "cell_type": "code",
   "execution_count": null,
   "id": "10ed4bb4",
   "metadata": {},
   "outputs": [],
   "source": [
    "import pandas as pd\n",
    "\n",
    "def read_csv_file(file_path):\n",
    "  \"\"\"\n",
    "  Reads a CSV file and returns a Pandas DataFrame.\n",
    "\n",
    "  Args:\n",
    "    file_path: The path to the CSV file.\n",
    "\n",
    "  Returns:\n",
    "    A Pandas DataFrame.\n",
    "  \"\"\"\n",
    "\n",
    "  df = pd.read_csv(file_path)\n",
    "  return df\n",
    "\n",
    "def calculate_statistics(df):\n",
    "  \"\"\"\n",
    "  Calculates the mean, median, and mode of the test scores in a Pandas DataFrame.\n",
    "\n",
    "  Args:\n",
    "    df: The Pandas DataFrame.\n",
    "\n",
    "  Returns:\n",
    "    A dictionary containing the mean, median, and mode.\n",
    "  \"\"\"\n",
    "\n",
    "  mean = df['test_score'].mean()\n",
    "  median = df['test_score'].median()\n",
    "  mode = df['test_score'].mode()\n",
    "\n",
    "  return {\n",
    "    'mean': mean,\n",
    "    'median': median,\n",
    "    'mode': mode\n",
    "  }\n",
    "\n",
    "def main():\n",
    "  \"\"\"\n",
    "  Prompts the user to enter the file path of the CSV file containing the student data and displays\n",
    "  the mean, median, and mode of the test scores in a table.\n",
    "  \"\"\"\n",
    "\n",
    "  file_path = input(\"Enter the file path of the CSV file containing the student data: \")\n",
    "\n",
    "  df = read_csv_file(file_path)\n",
    "\n",
    "  statistics = calculate_statistics(df)\n",
    "\n",
    "  print('+-----------+--------+')\n",
    "  print('| Statistic | Value |')\n",
    "  print('+-----------+--------+')\n",
    "  for statistic, value in statistics.items():\n",
    "    print(f'| {statistic:10} | {value:10} |')\n",
    "  print('+-----------+--------+')\n",
    "\n",
    "if __name__ == \"__main__\":\n",
    "  main()\n"
   ]
  }
 ],
 "metadata": {
  "kernelspec": {
   "display_name": "Python 3 (ipykernel)",
   "language": "python",
   "name": "python3"
  },
  "language_info": {
   "codemirror_mode": {
    "name": "ipython",
    "version": 3
   },
   "file_extension": ".py",
   "mimetype": "text/x-python",
   "name": "python",
   "nbconvert_exporter": "python",
   "pygments_lexer": "ipython3",
   "version": "3.9.7"
  }
 },
 "nbformat": 4,
 "nbformat_minor": 5
}
