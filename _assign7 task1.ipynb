{
 "cells": [
  {
   "cell_type": "markdown",
   "id": "66fa36ce-9b09-4c07-9992-ed7b05def419",
   "metadata": {},
   "source": [
    "#### Q1. Create a function which will take a list as an argument and return the product of all the numbers\n",
    "#### after creating a flat list.\n",
    "#### Use the below-given list as an argument for your function.\n",
    "#### list1 = [1,2,3,4, [44,55,66, True], False, (34,56,78,89,34), {1,2,3,3,2,1}, {1:34, \"key2\": [55, 67, 78, 89], 4: (45,\n",
    "22, 61, 34)}, [56, 'data science'], 'Machine Learning']\n",
    "#### Note: you must extract numeric keys and values of the dictionary also."
   ]
  },
  {
   "cell_type": "code",
   "execution_count": 5,
   "id": "9ada6e57-3eca-4c04-8658-d36f018f2d28",
   "metadata": {},
   "outputs": [
    {
     "name": "stdout",
     "output_type": "stream",
     "text": [
      "0\n"
     ]
    }
   ],
   "source": [
    "\n",
    "def get_product(lst: list) -> int:\n",
    "    def flatten(l):\n",
    "        for el in l:\n",
    "            if isinstance(el, (list, tuple, set)):\n",
    "                yield from flatten(el)\n",
    "            elif isinstance(el, dict):\n",
    "                yield from flatten(el.values())\n",
    "            elif isinstance(el, (int, float)):\n",
    "                yield el\n",
    "\n",
    "    product = 1\n",
    "    for num in flatten(lst):\n",
    "        product *= num\n",
    "\n",
    "    return product\n",
    "\n",
    "list1 = [1,2,3,4, [44,55,66, True], False, (34,56,78,89,34), {1,2,3,3,2,1}, {1:34, \"key2\": [55, 67, 78, 89], 4: (45, 22, 61, 34)}, [56, 'data science'], 'Machine Learning']\n",
    "print(get_product(list1))\n"
   ]
  },
  {
   "cell_type": "markdown",
   "id": "ac5f04ee-caa6-4731-a5f7-6f44fdcec030",
   "metadata": {},
   "source": [
    "##### This function uses a nested function flatten to extract all the numeric values from the list, including those in the nested lists, tuples, sets, and dictionaries. The flatten function uses the generator expression to yield elements recursively, until all numeric values are extracted. Finally, the main function get_product multiplies all the numeric values together and returns the result."
   ]
  },
  {
   "cell_type": "markdown",
   "id": "c4692a6e-4c70-44c2-880b-7bda652e7efc",
   "metadata": {},
   "source": [
    "#### Q2. Write a python program for encrypting a message sent to you by your friend. The logic of encryption\n",
    "#### should be such that, for a the output should be z. For b, the output should be y. For c, the output should\n",
    "#### be x respectively. Also, the whitespace should be replaced with a dollar sign. Keep the punctuation\n",
    "#### marks unchanged.\n",
    "#### Input Sentence: I want to become a Data Scientist.\n",
    "#### Encrypt the above input sentence using the program you just created.\n",
    "#### Note: Convert the given input sentence into lowercase before encrypting. The final output should be\n",
    "#### lowercase."
   ]
  },
  {
   "cell_type": "code",
   "execution_count": 2,
   "id": "f018cd0b-3e50-499f-8015-7047782c152d",
   "metadata": {},
   "outputs": [
    {
     "name": "stdout",
     "output_type": "stream",
     "text": [
      "r$dzmg$gl$yvxlnv$z$wzgz$hxrvmgrhg.\n"
     ]
    }
   ],
   "source": [
    "def encrypt_message(message: str) -> str:\n",
    "    message = message.lower()\n",
    "    alphabet = 'abcdefghijklmnopqrstuvwxyz'\n",
    "    encryption = {char: alphabet[25-i] for i, char in enumerate(alphabet)}\n",
    "    encrypted_message = ''.join([encryption.get(char, char) for char in message])\n",
    "    encrypted_message = encrypted_message.replace(' ', '$')\n",
    "    return encrypted_message\n",
    "\n",
    "message = \"I want to become a Data Scientist.\"\n",
    "print(encrypt_message(message))\n"
   ]
  },
  {
   "cell_type": "markdown",
   "id": "a1f2ee68-49c9-4cef-ab16-3b9f5d8d9b9a",
   "metadata": {},
   "source": [
    "#### The program first converts the given message to lowercase using the lower() method. Then it creates a dictionary encryption mapping each letter in the alphabet to its corresponding encrypted letter. The enumerate function is used to get the index of each letter in the alphabet. The get method of the dictionary is used to replace each letter in the message with its encrypted letter if it exists in the dictionary, or keep it unchanged if not. Finally, the program replaces all whitespaces in the message with dollar signs. The resulting encrypted message is returned.\n"
   ]
  },
  {
   "cell_type": "code",
   "execution_count": null,
   "id": "f518bb21-96dc-4bad-8c2f-03092e437c25",
   "metadata": {},
   "outputs": [],
   "source": []
  }
 ],
 "metadata": {
  "kernelspec": {
   "display_name": "Python 3 (ipykernel)",
   "language": "python",
   "name": "python3"
  },
  "language_info": {
   "codemirror_mode": {
    "name": "ipython",
    "version": 3
   },
   "file_extension": ".py",
   "mimetype": "text/x-python",
   "name": "python",
   "nbconvert_exporter": "python",
   "pygments_lexer": "ipython3",
   "version": "3.10.8"
  }
 },
 "nbformat": 4,
 "nbformat_minor": 5
}
