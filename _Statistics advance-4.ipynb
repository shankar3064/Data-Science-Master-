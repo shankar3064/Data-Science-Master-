{
 "cells": [
  {
   "cell_type": "markdown",
   "id": "8fb0fdc8",
   "metadata": {},
   "source": [
    "## Q1: What is the difference between a t-test and a z-test? Provide an example scenario where you would use each type of test."
   ]
  },
  {
   "cell_type": "markdown",
   "id": "4381515c",
   "metadata": {},
   "source": [
    "here is the difference between a t-test and a z-test:\n",
    "\n",
    "Z-test: A z-test is a parametric test that is used to compare the means of two groups when the population variance is known. The z-test is based on the standard normal distribution, which means that it can only be used when the sample size is large enough (typically 30 or more).\n",
    "T-test: A t-test is a parametric test that is used to compare the means of two groups when the population variance is unknown. The t-test is based on the t-distribution, which is a family of distributions that are similar to the standard normal distribution. The t-distribution becomes more spread out as the sample size decreases, which means that the t-test can be used with smaller sample sizes than the z-test.\n",
    "Here are some example scenarios where you would use each type of test:\n",
    "\n",
    "Z-test: You would use a z-test if you know the population variance and you have a large sample size. For example, you might use a z-test to compare the average height of men and women in the United States, if you know the population variance for both genders and you have a sample size of at least 30 for each gender.\n",
    "T-test: You would use a t-test if you don't know the population variance or you have a small sample size. For example, you might use a t-test to compare the average test scores of two different classes, if you don't know the population variance for test scores and you only have a sample size of 10 students from each class."
   ]
  },
  {
   "cell_type": "markdown",
   "id": "cd658cbd",
   "metadata": {},
   "source": [
    "## Q2: Differentiate between one-tailed and two-tailed tests."
   ]
  },
  {
   "cell_type": "markdown",
   "id": "1e58f6da",
   "metadata": {},
   "source": [
    "One-tailed and two-tailed tests are two types of hypothesis tests used in statistics to assess whether there is a significant difference between groups or conditions. The key difference between them lies in the directionality of the hypothesis being tested.\n",
    "\n",
    "One-tailed test:\n",
    "Also known as a directional test, a one-tailed test examines the effect in a specific direction, either an increase or a decrease, but not both simultaneously.\n",
    "The null hypothesis (H0) states that there is no significant difference between groups or conditions, while the alternative hypothesis (Ha) specifies the direction of the expected effect.\n",
    "The critical region (or rejection region) is located on one side of the distribution, either the right tail or the left tail, depending on the direction specified in the alternative hypothesis.\n",
    "A one-tailed test is typically used when there is a strong theoretical or practical reason to expect an effect in a specific direction.\n",
    "Example:\n",
    "Null Hypothesis (H0): The new drug has no effect on reducing cholesterol levels.\n",
    "Alternative Hypothesis (Ha): The new drug reduces cholesterol levels significantly.\n",
    "The one-tailed test will look for evidence that the new drug reduces cholesterol levels, focusing on the left tail of the distribution.\n",
    "\n",
    "Two-tailed test:\n",
    "Also known as a non-directional test, a two-tailed test examines the effect in both directions, allowing for the possibility of an increase or a decrease.\n",
    "The null hypothesis (H0) still states that there is no significant difference between groups or conditions, but the alternative hypothesis (Ha) only states that there is a significant difference without specifying the direction.\n",
    "The critical region (or rejection region) is divided into two equal parts, located on both sides of the distribution, and the significance level is split between the tails.\n",
    "A two-tailed test is commonly used when there is no strong theoretical reason to expect an effect in a specific direction, and you want to test for any significant difference.\n",
    "Example:\n",
    "Null Hypothesis (H0): There is no difference in test scores between Group A and Group B.\n",
    "Alternative Hypothesis (Ha): There is a significant difference in test scores between Group A and Group B.\n",
    "The two-tailed test will look for evidence of any significant difference between the two groups without favoring a particular direction."
   ]
  },
  {
   "cell_type": "markdown",
   "id": "19297e06",
   "metadata": {},
   "source": [
    "## Q3: Explain the concept of Type 1 and Type 2 errors in hypothesis testing. Provide an example scenario for each type of error."
   ]
  },
  {
   "cell_type": "markdown",
   "id": "f75eeb63",
   "metadata": {},
   "source": [
    "here is an explanation of Type 1 and Type 2 errors in hypothesis testing:\n",
    "\n",
    "Type I error: A Type I error occurs when the null hypothesis is rejected when it is actually true. This is also known as a false positive. For example, a Type I error would occur if a researcher concluded that a new drug was effective when it was actually not effective.\n",
    "Type II error: A Type II error occurs when the null hypothesis is not rejected when it is actually false. This is also known as a false negative. For example, a Type II error would occur if a researcher concluded that a new drug was not effective when it actually was effective.\n",
    "Here are some example scenarios for each type of error:\n",
    "\n",
    "Type I error: A researcher is testing a new drug to see if it is effective in reducing pain. The null hypothesis is that the drug is not effective. The researcher sets the significance level at 0.05, which means that there is a 5% chance of making a Type I error. The researcher conducts the study and finds that the mean pain score for the drug group is significantly lower than the mean pain score for the placebo group. The researcher concludes that the drug is effective, but it is actually not effective. This is a Type I error.\n",
    "Type II error: A researcher is testing a new teaching method to see if it is more effective than the traditional method in improving student test scores. The null hypothesis is that the new method is not more effective. The researcher sets the significance level at 0.05, which means that there is a 5% chance of making a Type II error. The researcher conducts the study and finds that the mean test scores for the new method group are not significantly different from the mean test scores for the traditional method group. The researcher concludes that the new method is not more effective, but it actually is more effective. This is a Type II error.\n",
    "It is important to note that Type I and Type II errors are inevitable in hypothesis testing. The only way to avoid making either error is to set the significance level to 0, which means that there is no chance of making a Type I error, but there is also no chance of making a Type II error. However, this would mean that we would never reject the null hypothesis, even if it was actually false.\n",
    "\n",
    "The best way to minimize the risk of making a Type I or Type II error is to increase the sample size. A larger sample size will make it more likely that the results of the study will be statistically significant, which will reduce the risk of making a Type II error. However, a larger sample size will also increase the risk of making a Type I error.\n",
    "\n",
    "The decision of whether to accept or reject the null hypothesis is a trade-off between the risk of making a Type I error and the risk of making a Type II error. The researcher must decide which error is more serious and then set the significance level accordingly."
   ]
  },
  {
   "cell_type": "markdown",
   "id": "ab5ed1bd",
   "metadata": {},
   "source": [
    "## Q4: Explain Bayes's theorem with an example."
   ]
  },
  {
   "cell_type": "markdown",
   "id": "fac775af",
   "metadata": {},
   "source": [
    " Bayes' theorem is a formula that is used to calculate the probability of an event, based on prior knowledge of conditions that might be related to the event. The theorem is named after Thomas Bayes, a British mathematician who first published it in 1763.\n",
    "\n",
    "The formula for Bayes' theorem is:\n",
    "\n",
    "P(A|B) = P(B|A)P(A) / P(B)\n",
    "where:\n",
    "\n",
    "P(A|B) is the probability of event A occurring, given that event B has already occurred.\n",
    "P(B|A) is the probability of event B occurring, given that event A has already occurred.\n",
    "P(A) is the probability of event A occurring, regardless of whether event B has occurred.\n",
    "P(B) is the probability of event B occurring, regardless of whether event A has occurred.\n",
    "Bayes' theorem can be used to solve a variety of problems, but it is often used in medical diagnosis. For example, let's say that you are a doctor and you have a patient who is experiencing chest pain. You know that the probability of a patient having a heart attack is 1%, but you also know that the probability of a patient experiencing chest pain, given that they have a heart attack, is 90%. You can use Bayes' theorem to calculate the probability that your patient actually has a heart attack, given that they are experiencing chest pain.\n",
    "\n",
    "The calculation would look like this:\n",
    "\n",
    "P(Heart Attack|Chest Pain) = P(Chest Pain|Heart Attack)P(Heart Attack) / P(Chest Pain)\n",
    "= 0.90 * 0.01 / 0.01 + 0.99\n",
    "= 0.009 / 1\n",
    "= 0.09\n",
    "This means that there is a 9% probability that your patient actually has a heart attack, given that they are experiencing chest pain.\n",
    "\n",
    "Bayes' theorem is a powerful tool that can be used to update our beliefs about the probability of an event, based on new information. It is a versatile tool that can be used in a variety of settings, including medical diagnosis, criminal investigation, and financial forecasting."
   ]
  },
  {
   "cell_type": "markdown",
   "id": "1bdce334",
   "metadata": {},
   "source": [
    "## Q5: What is a confidence interval? How to calculate the confidence interval, explain with an example."
   ]
  },
  {
   "cell_type": "markdown",
   "id": "52c0b4fe",
   "metadata": {},
   "source": [
    "\n",
    "A confidence interval is a range of values that is likely to contain the true value of a population parameter. The confidence interval is calculated by taking the sample statistic, such as the mean or the standard deviation, and adding and subtracting a margin of error. The margin of error is calculated based on the sample size and the desired confidence level.\n",
    "\n",
    "For example, let's say that you have a sample of 100 people and you want to estimate the mean height of the population. The sample mean is 5 feet 10 inches. You want to calculate a 95% confidence interval for the mean height. The margin of error for a 95% confidence interval is 2 inches. This means that the true mean height is likely to be between 5 feet 8 inches and 5 feet 12 inches.\n",
    "\n",
    "The formula for calculating a confidence interval is:\n",
    "\n",
    "confidence interval = sample statistic ± margin of error\n",
    "where:\n",
    "\n",
    "sample statistic is the value of the statistic that you are interested in, such as the mean or the standard deviation.\n",
    "margin of error is the amount of error that is likely to be present in the estimate.\n",
    "confidence level is the probability that the true value of the population parameter lies within the confidence interval.\n",
    "The confidence level is typically expressed as a percentage, such as 95% or 99%. The higher the confidence level, the wider the confidence interval will be.\n",
    "\n",
    "Here are the steps on how to calculate a confidence interval:\n",
    "\n",
    "Collect a sample from the population.\n",
    "Calculate the sample statistic, such as the mean or the standard deviation.\n",
    "Calculate the margin of error for the desired confidence level.\n",
    "Add and subtract the margin of error from the sample statistic to get the confidence interval."
   ]
  },
  {
   "cell_type": "markdown",
   "id": "f5aa302a",
   "metadata": {},
   "source": [
    "## Q6. Use Bayes' Theorem to calculate the probability of an event occurring given prior knowledge of the event's probability and new evidence. Provide a sample problem and solution."
   ]
  },
  {
   "cell_type": "markdown",
   "id": "405745c3",
   "metadata": {},
   "source": [
    "Problem:\n",
    "\n",
    "A doctor is examining a patient who is experiencing chest pain. The doctor knows that the probability of a patient having a heart attack is 1%, but the doctor also knows that the probability of a patient experiencing chest pain, given that they have a heart attack, is 90%. The doctor wants to use Bayes' theorem to calculate the probability that the patient actually has a heart attack, given that they are experiencing chest pain.\n",
    "\n",
    "Solution:\n",
    "\n",
    "The calculation would look like this:\n",
    "\n",
    "P(Heart Attack|Chest Pain) = P(Chest Pain|Heart Attack)P(Heart Attack) / P(Chest Pain)\n",
    "= 0.90 * 0.01 / 0.01 + 0.99\n",
    "= 0.009 / 1\n",
    "= 0.09\n",
    "This means that there is a 9% probability that the patient actually has a heart attack, given that they are experiencing chest pain.\n",
    "\n",
    "Explanation:\n",
    "\n",
    "The first term in the numerator, P(Chest Pain|Heart Attack), is the probability of the patient experiencing chest pain, given that they have a heart attack. This is known as the likelihood. The second term in the numerator, P(Heart Attack), is the probability of the patient having a heart attack, regardless of whether they are experiencing chest pain. This is known as the prior. The denominator, P(Chest Pain), is the probability of the patient experiencing chest pain, regardless of whether they have a heart attack or not. This is known as the evidence.\n",
    "\n",
    "The result of the calculation, 0.09, is the posterior probability. This is the probability of the patient having a heart attack, given that they are experiencing chest pain. The posterior probability is calculated by taking the likelihood and the prior and then dividing by the evidence.\n",
    "\n",
    "In this example, the posterior probability is relatively low, which means that the doctor should not be too concerned about the patient having a heart attack. However, the doctor should still do further testing to confirm the diagnosis."
   ]
  },
  {
   "cell_type": "markdown",
   "id": "a6a081f1",
   "metadata": {},
   "source": [
    "## Q7. Calculate the 95% confidence interval for a sample of data with a mean of 50 and a standard deviation of 5. Interpret the results."
   ]
  },
  {
   "cell_type": "markdown",
   "id": "bda70ba1",
   "metadata": {},
   "source": [
    "To calculate the 95% confidence interval for a sample of data with a mean of 50 and a standard deviation of 5, we'll use the formula for the confidence interval for a population mean. Since we have the sample mean (x̄), the sample standard deviation (s), and the sample size (n), we can use the following formula:\n",
    "\n",
    "Confidence Interval = x̄ ± (Z * (s / √n))\n",
    "\n",
    "where:\n",
    "x̄ = sample mean (given as 50)\n",
    "s = sample standard deviation (given as 5)\n",
    "n = sample size (not given)\n",
    "Z = critical value corresponding to the desired confidence level (95% in this case)\n",
    "\n",
    "To find the critical value (Z) for a 95% confidence level, we can refer to the standard normal distribution table or use a statistical software/tool. For a 95% confidence level, the critical value (Z) is approximately 1.96.\n",
    "\n",
    "Now, let's calculate the confidence interval:\n",
    "\n",
    "Confidence Interval = 50 ± (1.96 * (5 / √n))\n",
    "\n",
    "Interpretation of Results:\n",
    "The 95% confidence interval for the population mean lies between the upper and lower bounds of the calculated interval. In this case, the interval will be:\n",
    "\n",
    "Confidence Interval = 50 ± (1.96 * (5 / √n))\n",
    "\n",
    "Let's say we have calculated the sample size (n) to be 100. Substituting the value of n into the formula:\n",
    "\n",
    "Confidence Interval = 50 ± (1.96 * (5 / √100))\n",
    "\n",
    "Confidence Interval = 50 ± (1.96 * 0.5)\n",
    "\n",
    "Confidence Interval ≈ 50 ± 0.98\n",
    "\n",
    "So, the 95% confidence interval for the population mean is approximately (49.02, 50.98).\n",
    "\n",
    "Interpretation:\n",
    "We are 95% confident that the true population mean lies within the range of (49.02, 50.98). In other words, if we were to take multiple samples and construct a confidence interval for each sample, we would expect that 95% of these intervals would contain the true population mean, and only 5% would not. Therefore, based on the sample data and assuming that the data is normally distributed, we can reasonably estimate that the population mean is likely to fall within this interval."
   ]
  },
  {
   "cell_type": "markdown",
   "id": "02477c72",
   "metadata": {},
   "source": [
    "## Q8. What is the margin of error in a confidence interval? How does sample size affect the margin of error? Provide an example of a scenario where a larger sample size would result in a smaller margin of error."
   ]
  },
  {
   "cell_type": "markdown",
   "id": "c41a8565",
   "metadata": {},
   "source": [
    "The margin of error in a confidence interval is the amount of error that is likely to be present in the estimate. It is calculated based on the sample size and the confidence level.\n",
    "\n",
    "The margin of error is typically expressed as a percentage, such as 2% or 4%. The higher the confidence level, the wider the confidence interval will be, and the larger the margin of error will be.\n",
    "\n",
    "The sample size affects the margin of error inversely. This means that a larger sample size will result in a smaller margin of error. For example, if you have a sample size of 100 and a confidence level of 95%, the margin of error will be 2.5%. If you increase the sample size to 1000, the margin of error will be 1.5%.\n",
    "\n",
    "Here is an example of a scenario where a larger sample size would result in a smaller margin of error:\n",
    "\n",
    "Let's say that you are interested in estimating the average height of people in the United States. You take a sample of 100 people and find that the average height is 5 feet 8 inches. You want to calculate a 95% confidence interval for the average height. The margin of error for a 95% confidence interval with a sample size of 100 is 2.5%. This means that the true average height is likely to be between 5 feet 6.5 inches and 5 feet 9.5 inches.\n",
    "\n",
    "If you increase the sample size to 1000, the margin of error will be 1.5%. This means that the true average height is likely to be between 5 feet 7 inches and 5 feet 9 inches.\n",
    "\n",
    "As you can see, the larger sample size results in a smaller margin of error, which means that the confidence interval is more precise."
   ]
  },
  {
   "cell_type": "markdown",
   "id": "4aee421e",
   "metadata": {},
   "source": [
    "## Q9. Calculate the z-score for a data point with a value of 75, a population mean of 70, and a population standard deviation of 5. Interpret the results."
   ]
  },
  {
   "cell_type": "markdown",
   "id": "a5183e11",
   "metadata": {},
   "source": [
    "z = (x - μ) / σ\n",
    "\n",
    "where:\n",
    "x = the value of the data point (given as 75)\n",
    "μ = the population mean (given as 70)\n",
    "σ = the population standard deviation (given as 5)\n",
    "z = the z-score\n",
    "\n",
    "Now, let's calculate the z-score:\n",
    "\n",
    "z = (75 - 70) / 5\n",
    "z = 5 / 5\n",
    "z = 1\n",
    "\n",
    "Interpretation of Results:\n",
    "The z-score of 1 indicates that the data point (75) is 1 standard deviation above the population mean (70). In other words, it is 1 standard deviation away from the average value of the population.\n",
    "\n",
    "Since the z-score is positive, we can infer that the data point is higher than the population mean. The magnitude of the z-score (1) tells us how many standard deviations the data point is from the mean. A z-score of 1 means it is one standard deviation above the mean.\n",
    "\n",
    "Z-scores are useful for standardizing data and comparing individual data points to the overall distribution of the data. They help us understand how far a data point deviates from the mean and provide a common scale for comparison, irrespective of the units of measurement. In this case, a z-score of 1 indicates that the data point of 75 is relatively close to the mean, being just one standard deviation above it in a population with a mean of 70 and a standard deviation of 5.\n",
    "\n",
    "\n",
    "\n",
    "\n"
   ]
  },
  {
   "cell_type": "markdown",
   "id": "3f522045",
   "metadata": {},
   "source": [
    "## Q10. In a study of the effectiveness of a new weight loss drug, a sample of 50 participants lost an average of 6 pounds with a standard deviation of 2.5 pounds. Conduct a hypothesis test to determine if the drug is significantly effective at a 95% confidence level using a t-test."
   ]
  },
  {
   "cell_type": "markdown",
   "id": "27183264",
   "metadata": {},
   "source": [
    "To conduct a hypothesis test to determine if the new weight loss drug is significantly effective, we need to set up the null hypothesis (H0) and the alternative hypothesis (Ha). Then, we will use the t-test to compare the sample mean to the hypothesized population mean.\n",
    "\n",
    "Null Hypothesis (H0): The new weight loss drug is not significantly effective, and the true population mean weight loss is equal to or less than 0 pounds (μ ≤ 0).\n",
    "\n",
    "Alternative Hypothesis (Ha): The new weight loss drug is significantly effective, and the true population mean weight loss is greater than 0 pounds (μ > 0).\n",
    "\n",
    "We are conducting a one-tailed test in this case because we are interested in knowing if the drug is significantly effective in helping with weight loss, which implies a positive effect.\n",
    "\n",
    "Next, we'll calculate the t-statistic and the critical t-value for a 95% confidence level. The t-statistic is calculated as:\n",
    "\n",
    "t = (x̄ - μ) / (s / √n)\n",
    "\n",
    "where:\n",
    "x̄ = sample mean (given as 6 pounds)\n",
    "μ = hypothesized population mean under the null hypothesis (0 pounds)\n",
    "s = sample standard deviation (given as 2.5 pounds)\n",
    "n = sample size (given as 50 participants)\n",
    "\n",
    "t = (6 - 0) / (2.5 / √50)\n",
    "t = 6 / (2.5 / 7.07107)\n",
    "t ≈ 6 / 0.35355\n",
    "t ≈ 16.97 (rounded to two decimal places)\n",
    "\n",
    "Now, we need to find the critical t-value at a 95% confidence level with 49 degrees of freedom (n - 1 = 50 - 1 = 49). Using a t-table or a statistical software/tool, the critical t-value for a one-tailed test at 95% confidence level with 49 degrees of freedom is approximately 1.676.\n",
    "\n",
    "Since the calculated t-statistic (16.97) is much larger than the critical t-value (1.676), we can reject the null hypothesis.\n",
    "\n",
    "Conclusion:\n",
    "At a 95% confidence level, the weight loss drug is significantly effective as the sample data provide strong evidence to support the claim that the true population mean weight loss is greater than 0 pounds. The drug has led to a statistically significant average weight loss of 6 pounds in the sample of 50 participants."
   ]
  },
  {
   "cell_type": "markdown",
   "id": "feb18d8b",
   "metadata": {},
   "source": [
    "## Q11. In a survey of 500 people, 65% reported being satisfied with their current job. Calculate the 95% confidence interval for the true proportion of people who are satisfied with their job."
   ]
  },
  {
   "cell_type": "markdown",
   "id": "a63a0671",
   "metadata": {},
   "source": [
    "To calculate the 95% confidence interval for the true proportion of people who are satisfied with their job, we can use the formula for the confidence interval for a population proportion (p):\n",
    "\n",
    "Confidence Interval = p̂ ± Z * √((p̂ * (1 - p̂)) / n)\n",
    "\n",
    "where:\n",
    "p̂ = sample proportion (given as 0.65 or 65%)\n",
    "Z = critical value corresponding to the desired confidence level (for a 95% confidence level, Z ≈ 1.96)\n",
    "n = sample size (given as 500)\n",
    "\n",
    "Now, let's calculate the confidence interval:\n",
    "\n",
    "Confidence Interval = 0.65 ± 1.96 * √((0.65 * (1 - 0.65)) / 500)\n",
    "\n",
    "Confidence Interval = 0.65 ± 1.96 * √((0.65 * 0.35) / 500)\n",
    "\n",
    "Confidence Interval = 0.65 ± 1.96 * √(0.2275 / 500)\n",
    "\n",
    "Confidence Interval = 0.65 ± 1.96 * √(0.000455)\n",
    "\n",
    "Confidence Interval = 0.65 ± 1.96 * 0.02133\n",
    "\n",
    "Confidence Interval = 0.65 ± 0.0418\n",
    "\n",
    "The 95% confidence interval for the true proportion of people who are satisfied with their job is approximately (0.6082, 0.6918).\n",
    "\n",
    "Interpretation of Results:\n",
    "We are 95% confident that the true proportion of people who are satisfied with their job lies within the range of approximately 60.82% to 69.18%. This means that if we were to take multiple samples and construct a confidence interval for each sample, we would expect that 95% of these intervals would contain the true proportion, and only 5% would not. Therefore, based on the sample data and assuming a 95% confidence level, we can reasonably estimate that the proportion of people satisfied with their job is likely to fall within this interval."
   ]
  },
  {
   "cell_type": "markdown",
   "id": "d3c10c5c",
   "metadata": {},
   "source": [
    "## Q12. A researcher is testing the effectiveness of two different teaching methods on student performance. Sample A has a mean score of 85 with a standard deviation of 6, while sample B has a mean score of 82 with a standard deviation of 5. Conduct a hypothesis test to determine if the two teaching methods have a significant difference in student performance using a t-test with a significance level of 0.01."
   ]
  },
  {
   "cell_type": "markdown",
   "id": "0b37c2c6",
   "metadata": {},
   "source": [
    "To determine if there is a significant difference in student performance between the two teaching methods (Sample A and Sample B), we can conduct a two-sample t-test. The null hypothesis (H0) states that there is no significant difference between the means of the two samples, while the alternative hypothesis (Ha) states that there is a significant difference.\n",
    "\n",
    "Null Hypothesis (H0): μA - μB = 0 (There is no significant difference in student performance between the two teaching methods).\n",
    "Alternative Hypothesis (Ha): μA - μB ≠ 0 (There is a significant difference in student performance between the two teaching methods).\n",
    "\n",
    "We will use a two-tailed t-test with a significance level of 0.01 (α = 0.01).\n",
    "\n",
    "The formula for the two-sample t-test is given as:\n",
    "\n",
    "t = (x̄A - x̄B) / √((sA^2 / nA) + (sB^2 / nB))\n",
    "\n",
    "where:\n",
    "x̄A = sample mean of Sample A (given as 85)\n",
    "x̄B = sample mean of Sample B (given as 82)\n",
    "sA = sample standard deviation of Sample A (given as 6)\n",
    "sB = sample standard deviation of Sample B (given as 5)\n",
    "nA = sample size of Sample A (not given)\n",
    "nB = sample size of Sample B (not given)\n",
    "\n",
    "We do not have the individual sample sizes (nA and nB) provided in the question. If the sample sizes are equal (nA = nB), we can conduct a pooled two-sample t-test. However, if the sample sizes are different (nA ≠ nB), we need to use the unpooled two-sample t-test.\n",
    "\n",
    "For the unpooled two-sample t-test, we will assume unequal variances, and the formula for the degrees of freedom is given as:\n",
    "\n",
    "df = (sA^2 / nA + sB^2 / nB)^2 / ((sA^2 / nA)^2 / (nA - 1) + (sB^2 / nB)^2 / (nB - 1))\n",
    "\n",
    "Now, we need to find the critical t-value at a significance level of 0.01 and the degrees of freedom obtained from the formula above. Using a t-table or a statistical software/tool, the critical t-value for a two-tailed test at α = 0.01 and degrees of freedom is approximately ±2.617.\n",
    "\n",
    "Now, let's calculate the t-statistic:\n",
    "\n",
    "t = (85 - 82) / √((6^2 / nA) + (5^2 / nB))\n",
    "\n",
    "Since we do not have the individual sample sizes, we cannot calculate the exact t-statistic."
   ]
  },
  {
   "cell_type": "markdown",
   "id": "6832ee9f",
   "metadata": {},
   "source": [
    "## Q13. A population has a mean of 60 and a standard deviation of 8. A sample of 50 observations has a mean of 65. Calculate the 90% confidence interval for the true population mean."
   ]
  },
  {
   "cell_type": "markdown",
   "id": "6e38180f",
   "metadata": {},
   "source": [
    "To calculate the 90% confidence interval for the true population mean, we can use the formula for the confidence interval for a population mean:\n",
    "\n",
    "Confidence Interval = x̄ ± Z * (σ / √n)\n",
    "\n",
    "where:\n",
    "x̄ = sample mean (given as 65)\n",
    "Z = critical value corresponding to the desired confidence level (for a 90% confidence level, Z ≈ 1.645)\n",
    "σ = population standard deviation (given as 8)\n",
    "n = sample size (given as 50)\n",
    "\n",
    "Now, let's calculate the confidence interval:\n",
    "\n",
    "Confidence Interval = 65 ± 1.645 * (8 / √50)\n",
    "\n",
    "Confidence Interval = 65 ± 1.645 * (8 / 7.07107)\n",
    "\n",
    "Confidence Interval = 65 ± 1.645 * 1.13137\n",
    "\n",
    "Confidence Interval = 65 ± 1.8603\n",
    "\n",
    "The 90% confidence interval for the true population mean is approximately (63.14, 66.86).\n",
    "\n",
    "Interpretation of Results:\n",
    "We are 90% confident that the true population mean lies within the range of approximately 63.14 to 66.86. This means that if we were to take multiple samples and construct a confidence interval for each sample, we would expect that 90% of these intervals would contain the true population mean, and only 10% would not. Therefore, based on the sample data and assuming a 90% confidence level, we can reasonably estimate that the population mean is likely to fall within this interval."
   ]
  },
  {
   "cell_type": "markdown",
   "id": "aeea0662",
   "metadata": {},
   "source": [
    "## Q14. In a study of the effects of caffeine on reaction time, a sample of 30 participants had an average reaction time of 0.25 seconds with a standard deviation of 0.05 seconds. Conduct a hypothesis test to determine if the caffeine has a significant effect on reaction time at a 90% confidence level using a t-test."
   ]
  },
  {
   "cell_type": "markdown",
   "id": "76fd316c",
   "metadata": {},
   "source": [
    "To determine if caffeine has a significant effect on reaction time, we can conduct a one-sample t-test. The null hypothesis (H0) states that there is no significant effect, while the alternative hypothesis (Ha) states that there is a significant effect.\n",
    "\n",
    "Null Hypothesis (H0): μ = μ0 (There is no significant effect of caffeine on reaction time).\n",
    "Alternative Hypothesis (Ha): μ ≠ μ0 (There is a significant effect of caffeine on reaction time).\n",
    "\n",
    "We will use a two-tailed t-test since the alternative hypothesis is non-directional (not specifying whether the effect is an increase or decrease).\n",
    "\n",
    "The formula for the one-sample t-test is given as:\n",
    "\n",
    "t = (x̄ - μ0) / (s / √n)\n",
    "\n",
    "where:\n",
    "x̄ = sample mean (given as 0.25 seconds)\n",
    "μ0 = hypothesized population mean under the null hypothesis (not given in the question)\n",
    "s = sample standard deviation (given as 0.05 seconds)\n",
    "n = sample size (given as 30 participants)\n",
    "\n",
    "Since the hypothesized population mean (μ0) is not given in the question, let's assume that under the null hypothesis, there is no significant effect of caffeine, which means μ0 = 0.\n",
    "\n",
    "Now, let's calculate the t-statistic:\n",
    "\n",
    "t = (0.25 - 0) / (0.05 / √30)\n",
    "t = 0.25 / (0.05 / 5.47723)\n",
    "t = 0.25 / 0.00914\n",
    "t ≈ 27.37 (rounded to two decimal places)\n",
    "\n",
    "Next, we need to find the critical t-value for a two-tailed test at a 90% confidence level with 29 degrees of freedom (n - 1 = 30 - 1 = 29). Using a t-table or a statistical software/tool, the critical t-value for a two-tailed test at α = 0.10 and 29 degrees of freedom is approximately ±1.699.\n",
    "\n",
    "Since the calculated t-statistic (27.37) is much larger than the critical t-value (1.699), we can reject the null hypothesis.\n",
    "\n",
    "Conclusion:\n",
    "At a 90% confidence level, caffeine has a significant effect on reaction time as the sample data provide strong evidence to support the claim that caffeine affects reaction time."
   ]
  }
 ],
 "metadata": {
  "kernelspec": {
   "display_name": "Python 3 (ipykernel)",
   "language": "python",
   "name": "python3"
  },
  "language_info": {
   "codemirror_mode": {
    "name": "ipython",
    "version": 3
   },
   "file_extension": ".py",
   "mimetype": "text/x-python",
   "name": "python",
   "nbconvert_exporter": "python",
   "pygments_lexer": "ipython3",
   "version": "3.9.7"
  }
 },
 "nbformat": 4,
 "nbformat_minor": 5
}
