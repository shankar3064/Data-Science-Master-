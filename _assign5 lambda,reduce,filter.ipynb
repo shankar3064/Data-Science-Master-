{
 "cells": [
  {
   "cell_type": "markdown",
   "id": "74d6c1b8-da2d-4c95-aef7-21f327586f5c",
   "metadata": {},
   "source": [
    "### Q1. Create a python program to sort the given list of tuples based on integer value using a\n",
    "### lambda function.\n",
    "[('Sachin Tendulkar', 34357), ('Ricky Ponting', 27483), ('Jack Kallis', 25534), ('Virat Kohli', 24936)]"
   ]
  },
  {
   "cell_type": "code",
   "execution_count": 1,
   "id": "21541122-40c8-407d-a450-8ef08a77ca26",
   "metadata": {},
   "outputs": [
    {
     "name": "stdout",
     "output_type": "stream",
     "text": [
      "[('Virat Kohli', 24936), ('Jack Kallis', 25534), ('Ricky Ponting', 27483), ('Sachin Tendulkar', 34357)]\n"
     ]
    }
   ],
   "source": [
    "def sort_tuples(list_of_tuples):\n",
    "    return sorted(list_of_tuples, key=lambda x: x[1])\n",
    "\n",
    "list_of_tuples = [('Sachin Tendulkar', 34357), ('Ricky Ponting', 27483), ('Jack Kallis', 25534), ('Virat Kohli', 24936)]\n",
    "print(sort_tuples(list_of_tuples))\n"
   ]
  },
  {
   "cell_type": "markdown",
   "id": "ca6cbff2-0764-4f62-8dad-f7a92765bd96",
   "metadata": {},
   "source": [
    "### Q2. Write a Python Program to find the squares of all the numbers in the given list of integers using\n",
    "### lambda and map functions.\n",
    "[1, 2, 3, 4, 5, 6, 7, 8, 9, 10]"
   ]
  },
  {
   "cell_type": "code",
   "execution_count": 2,
   "id": "78996632-eb6c-4436-8e2b-ca9ec47bac57",
   "metadata": {},
   "outputs": [
    {
     "name": "stdout",
     "output_type": "stream",
     "text": [
      "[1, 4, 9, 16, 25, 36, 49, 64, 81, 100]\n"
     ]
    }
   ],
   "source": [
    "def square_numbers(numbers):\n",
    "    return list(map(lambda x: x**2, numbers))\n",
    "\n",
    "numbers = [1, 2, 3, 4, 5, 6, 7, 8, 9, 10]\n",
    "print(square_numbers(numbers))\n"
   ]
  },
  {
   "cell_type": "markdown",
   "id": "670bbf09-b450-43c9-b67c-ab20adbf68c6",
   "metadata": {},
   "source": [
    "### Q3. Write a python program to convert the given list of integers into a tuple of strings. Use map and\n",
    "### lambda functions\n",
    "### Given String: [1, 2, 3, 4, 5, 6, 7, 8, 9, 10]\n",
    "### Expected output: ('1', '2', '3', '4', '5', '6', '7', '8', '9', '10')"
   ]
  },
  {
   "cell_type": "code",
   "execution_count": 3,
   "id": "fd31605c-1b37-4c2e-8c83-ada64fbf4c3d",
   "metadata": {},
   "outputs": [
    {
     "name": "stdout",
     "output_type": "stream",
     "text": [
      "('1', '2', '3', '4', '5', '6', '7', '8', '9', '10')\n"
     ]
    }
   ],
   "source": [
    "def convert_to_tuple_of_strings(numbers):\n",
    "    return tuple(map(lambda x: str(x), numbers))\n",
    "\n",
    "numbers = [1, 2, 3, 4, 5, 6, 7, 8, 9, 10]\n",
    "print(convert_to_tuple_of_strings(numbers))\n"
   ]
  },
  {
   "cell_type": "markdown",
   "id": "61e20447-3e1d-4a5c-9f9e-876c18e6ca0a",
   "metadata": {},
   "source": [
    "### Q4. Write a python program using reduce function to compute the product of a list containing numbers\n",
    "### from 1 to 25."
   ]
  },
  {
   "cell_type": "code",
   "execution_count": 4,
   "id": "c673f0ba-830b-4500-8bcd-af3847e2477d",
   "metadata": {},
   "outputs": [
    {
     "name": "stdout",
     "output_type": "stream",
     "text": [
      "15511210043330985984000000\n"
     ]
    }
   ],
   "source": [
    "from functools import reduce\n",
    "\n",
    "def compute_product(numbers):\n",
    "    return reduce(lambda x, y: x*y, numbers)\n",
    "\n",
    "numbers = [i for i in range(1, 26)]\n",
    "print(compute_product(numbers))\n"
   ]
  },
  {
   "cell_type": "markdown",
   "id": "f8264fc6-527b-4646-b048-c5fc7a04db7b",
   "metadata": {},
   "source": [
    "### Q5. Write a python program to filter the numbers in a given list that are divisible by 2 and 3 using the\n",
    "### filter function.\n",
    "### [2, 3, 6, 9, 27, 60, 90, 120, 55, 46]"
   ]
  },
  {
   "cell_type": "code",
   "execution_count": 6,
   "id": "0babaa80-4dd0-4571-862b-d4cf61e72dc8",
   "metadata": {},
   "outputs": [
    {
     "name": "stdout",
     "output_type": "stream",
     "text": [
      "[6, 60, 90, 120]\n"
     ]
    }
   ],
   "source": [
    "def filter_numbers(numbers):\n",
    "    return list(filter(lambda x: x%2 == 0 and x%3 == 0, numbers))\n",
    "\n",
    "numbers = [2, 3, 6, 9, 27, 60, 90, 120, 55, 46]\n",
    "print(filter_numbers(numbers))\n"
   ]
  },
  {
   "cell_type": "markdown",
   "id": "44289fbc-faad-4529-a157-44396502bd3f",
   "metadata": {},
   "source": [
    "### Q6. Write a python program to find palindromes in the given list of strings using lambda and filter\n",
    "### function.\n",
    "['python', 'php', 'aba', 'radar', 'level']"
   ]
  },
  {
   "cell_type": "code",
   "execution_count": 7,
   "id": "2b51fdff-580a-4bdd-beaa-30a9e6c64f52",
   "metadata": {},
   "outputs": [
    {
     "name": "stdout",
     "output_type": "stream",
     "text": [
      "['php', 'aba', 'radar', 'level']\n"
     ]
    }
   ],
   "source": [
    "def find_palindromes(strings):\n",
    "    return list(filter(lambda x: x == x[::-1], strings))\n",
    "\n",
    "strings = ['python', 'php', 'aba', 'radar', 'level']\n",
    "print(find_palindromes(strings))\n"
   ]
  },
  {
   "cell_type": "code",
   "execution_count": null,
   "id": "3756eae7-8373-4965-ae43-9cb5aef8d06f",
   "metadata": {},
   "outputs": [],
   "source": []
  }
 ],
 "metadata": {
  "kernelspec": {
   "display_name": "Python 3 (ipykernel)",
   "language": "python",
   "name": "python3"
  },
  "language_info": {
   "codemirror_mode": {
    "name": "ipython",
    "version": 3
   },
   "file_extension": ".py",
   "mimetype": "text/x-python",
   "name": "python",
   "nbconvert_exporter": "python",
   "pygments_lexer": "ipython3",
   "version": "3.10.8"
  }
 },
 "nbformat": 4,
 "nbformat_minor": 5
}
