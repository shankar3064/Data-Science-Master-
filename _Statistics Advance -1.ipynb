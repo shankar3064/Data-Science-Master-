{
 "cells": [
  {
   "cell_type": "markdown",
   "id": "7ba8573e",
   "metadata": {},
   "source": [
    "## Q1. What is the Probability density function?"
   ]
  },
  {
   "cell_type": "markdown",
   "id": "b0170f1f",
   "metadata": {},
   "source": [
    "The Probability Density Function (PDF) is a concept in probability and statistics that describes the likelihood of a continuous random variable taking on a particular value within a given range. In simpler terms, it tells us how the probability is distributed over the possible values of a continuous random variable.\n",
    "\n",
    "Non-negativity: f(x) ≥ 0 for all x.\n",
    "Integration: The integral of the PDF over the entire range of X is equal to 1: ∫ f(x) dx = 1.\n",
    "Probability interpretation: The probability that X lies within a specific interval [a, b] is given by the integral of the PDF over that interval: P(a ≤ X ≤ b) = ∫[a, b] f(x) dx.\n",
    "\n"
   ]
  },
  {
   "cell_type": "code",
   "execution_count": 1,
   "id": "80d0df05",
   "metadata": {},
   "outputs": [
    {
     "data": {
      "image/png": "[encoded data removed]",
      "text/plain": [
       "<Figure size 432x288 with 1 Axes>"
      ]
     },
     "metadata": {
      "needs_background": "light"
     },
     "output_type": "display_data"
    }
   ],
   "source": [
    "import pandas as pd\n",
    "import numpy as np\n",
    "import matplotlib.pyplot as plt\n",
    "\n",
    "x = np.linspace(-3, 3, 100)\n",
    "\n",
    "pdf = np.exp(-x**2 / 2) / np.sqrt(2 * np.pi)\n",
    "\n",
    "# Plot the probability density function\n",
    "plt.plot(x, pdf)\n",
    "plt.title(\"Probability density function of the standard normal distribution\")\n",
    "plt.xlabel(\"x\")\n",
    "plt.ylabel(\"pdf\")\n",
    "plt.show()\n"
   ]
  },
  {
   "cell_type": "markdown",
   "id": "c89f1137",
   "metadata": {},
   "source": [
    "## Q2. What are the types of Probability distribution?"
   ]
  },
  {
   "cell_type": "markdown",
   "id": "c19bd603",
   "metadata": {},
   "source": [
    "The two main categories of probability distributions are discrete probability distributions and continuous probability distributions. \n",
    "\n",
    "Discrete Probability Distributions:\n",
    "\n",
    "Bernoulli Distribution: Represents the probability distribution of a random variable that takes two possible outcomes, usually denoted as 0 and 1 (success and failure).\n",
    "Binomial Distribution: Models the number of successes in a fixed number of independent Bernoulli trials.\n",
    "Poisson Distribution: Describes the number of events that occur in a fixed interval of time or space, assuming a constant rate of occurrence.\n",
    "\n",
    "Continuous Probability Distributions:\n",
    "\n",
    "Uniform Distribution: Occurs when all outcomes within a certain range are equally likely.\n",
    "Normal Distribution (Gaussian Distribution): One of the most common distributions, characterized by a symmetric bell-shaped curve. It is widely used in various fields due to the Central Limit Theorem.\n",
    "Exponential Distribution: Describes the time between events in a Poisson process, where events occur continuously and independently at a constant average rate.\n",
    "Gamma Distribution: Generalizes the exponential distribution and can model various types of continuous positive-valued data.\n",
    "Beta Distribution: Suitable for modeling probabilities or proportions, with applications in Bayesian statistics.\n"
   ]
  },
  {
   "cell_type": "markdown",
   "id": "0aa0d597",
   "metadata": {},
   "source": [
    "## Q3. Write a Python function to calculate the probability density function of a normal distribution with given mean and standard deviation at a given point."
   ]
  },
  {
   "cell_type": "code",
   "execution_count": 4,
   "id": "95cf5cce",
   "metadata": {},
   "outputs": [],
   "source": [
    "import numpy as np\n",
    "\n",
    "def pdf_normal(mean, std, x):\n",
    "  \n",
    "  return np.exp(-(x - mean)**2 / (2 * std**2)) / (std * np.sqrt(2 * np.pi))\n"
   ]
  },
  {
   "cell_type": "code",
   "execution_count": 5,
   "id": "161033bd",
   "metadata": {},
   "outputs": [
    {
     "name": "stdout",
     "output_type": "stream",
     "text": [
      "0.3520653267642995\n"
     ]
    }
   ],
   "source": [
    "mean = 0\n",
    "std = 1\n",
    "x = 0.5\n",
    "\n",
    "pdf = pdf_normal(mean, std, x)\n",
    "\n",
    "print(pdf)\n"
   ]
  },
  {
   "cell_type": "markdown",
   "id": "663de02e",
   "metadata": {},
   "source": [
    "## Q4. What are the properties of Binomial distribution? Give two examples of events where binomial distribution can be applied."
   ]
  },
  {
   "cell_type": "markdown",
   "id": "3fc35db8",
   "metadata": {},
   "source": [
    "The Binomial distribution is a discrete probability distribution that models the number of successes in a fixed number of independent Bernoulli trials. It has several important properties:\n",
    "\n",
    "Fixed Number of Trials: The binomial distribution is defined for a fixed number of trials, denoted as 'n', where each trial can result in either success or failure.\n",
    "\n",
    "Independent Trials: The trials are assumed to be independent of each other, meaning the outcome of one trial does not influence the outcome of another.\n",
    "\n",
    "Constant Probability of Success: The probability of success on each trial remains constant and is denoted as 'p'.\n",
    "\n",
    "Discrete Nature: The binomial distribution deals with discrete outcomes, specifically the count of successes in 'n' trials.\n",
    "\n",
    "Probability Mass Function (PMF): The probability mass function of the binomial distribution gives the probability of getting exactly 'k' successes in 'n' trials. It is defined as: P(X = k) = C(n, k) * p^k * (1-p)^(n-k), where 'X' is the random variable denoting the number of successes, 'C(n, k)' is the binomial coefficient (n choose k), 'p' is the probability of success, and (1-p) is the probability of failure.\n",
    "\n",
    "\n",
    "Examples of events where the binomial distribution can be applied:\n",
    "\n",
    "Coin Toss: Consider flipping a biased coin, where the probability of getting a head is 'p'. The binomial distribution can be used to model the number of heads (successes) obtained in a fixed number of tosses 'n'.\n",
    "\n",
    "Quality Control: In a manufacturing process, items may be produced with a certain probability of being defective ('p'). The binomial distribution can be used to model the number of defective items in a sample of fixed size 'n'."
   ]
  },
  {
   "cell_type": "markdown",
   "id": "644fc780",
   "metadata": {},
   "source": [
    "## Q5. Generate a random sample of size 1000 from a binomial distribution with probability of success 0.4 and plot a histogram of the results using matplotlib."
   ]
  },
  {
   "cell_type": "code",
   "execution_count": 6,
   "id": "0f7d1f5e",
   "metadata": {},
   "outputs": [
    {
     "data": {
      "image/png": "[encoded data removed]",
      "text/plain": [
       "<Figure size 432x288 with 1 Axes>"
      ]
     },
     "metadata": {
      "needs_background": "light"
     },
     "output_type": "display_data"
    }
   ],
   "source": [
    "import numpy as np\n",
    "import matplotlib.pyplot as plt\n",
    "\n",
    "samples = np.random.binomial(10, 0.4, 1000)\n",
    "\n",
    "plt.hist(samples)\n",
    "\n",
    "# Add a title and labels to the axes\n",
    "plt.title(\"Histogram of binomial distribution\")\n",
    "plt.xlabel(\"Number of successes\")\n",
    "plt.ylabel(\"Number of samples\")\n",
    "plt.show()\n"
   ]
  },
  {
   "cell_type": "markdown",
   "id": "0351340c",
   "metadata": {},
   "source": [
    "## Q6. Write a Python function to calculate the cumulative distribution function of a Poisson distribution nwith given mean at a given point."
   ]
  },
  {
   "cell_type": "code",
   "execution_count": 7,
   "id": "36623410",
   "metadata": {},
   "outputs": [],
   "source": [
    "import numpy as np\n",
    "\n",
    "def cdf_poisson(mean, point):\n",
    " \n",
    "  p = np.exp(-mean) * mean**point / np.math.factorial(point)\n",
    "\n",
    "  cdf = 0\n",
    "  for i in range(point + 1):\n",
    "    cdf += p\n",
    "\n",
    "  return cdf\n"
   ]
  },
  {
   "cell_type": "code",
   "execution_count": 8,
   "id": "e6e362f0",
   "metadata": {},
   "outputs": [
    {
     "name": "stdout",
     "output_type": "stream",
     "text": [
      "0.5614955832571222\n"
     ]
    }
   ],
   "source": [
    "mean = 5\n",
    "point = 3\n",
    "\n",
    "cdf = cdf_poisson(mean, point)\n",
    "\n",
    "print(cdf)\n"
   ]
  },
  {
   "cell_type": "markdown",
   "id": "23accfb7",
   "metadata": {},
   "source": [
    "## Q7. How Binomial distribution different from Poisson distribution?"
   ]
  },
  {
   "cell_type": "markdown",
   "id": "b9ecea9b",
   "metadata": {},
   "source": [
    "The Binomial and Poisson distributions are both probability distributions used to model the number of successes in a fixed number of trials. However, they differ in several key aspects:\n",
    "\n",
    "Nature of Trials:\n",
    "\n",
    "Binomial Distribution: The binomial distribution is used when each trial can have two possible outcomes, often referred to as success or failure. The trials are independent and have a fixed number 'n'.\n",
    "Poisson Distribution: The Poisson distribution is used when the number of events occurring in a fixed interval of time or space is of interest. It models rare events that occur at random points in time or space.\n",
    "Number of Trials:\n",
    "\n",
    "Binomial Distribution: Requires a fixed number of trials 'n' to be specified in advance.\n",
    "Poisson Distribution: Does not require the number of trials to be fixed; it deals with events occurring in continuous time or space.\n",
    "Probability of Success:\n",
    "\n",
    "Binomial Distribution: Assumes a constant probability of success 'p' for each trial.\n",
    "Poisson Distribution: Does not have a probability of success as it models the rate of rare events occurring in continuous time or space.\n",
    "Probability Mass Function (PMF) vs. Probability Density Function (PDF):\n",
    "\n",
    "Binomial Distribution: The binomial distribution is a discrete probability distribution and uses a probability mass function (PMF) to describe the probability of getting exactly 'k' successes in 'n' trials.\n",
    "Poisson Distribution: The Poisson distribution is a discrete probability distribution, but it is often approximated by a continuous probability distribution for large values of the mean (lambda). It uses a probability mass function (PMF) for discrete cases and a probability density function (PDF) for continuous approximations.\n",
    "Limiting Cases:\n",
    "\n",
    "Binomial Distribution: The binomial distribution tends to approximate the Poisson distribution when the number of trials 'n' is large, and the probability of success 'p' is small while keeping their product 'n * p' relatively constant.\n",
    "Poisson Distribution: The Poisson distribution can be thought of as a limiting case of the binomial distribution as the number of trials becomes very large, and the probability of success becomes very small.\n",
    "\n",
    "Here are some examples of situations where the binomial distribution might be used:\n",
    "\n",
    "The number of heads in 10 coin flips.\n",
    "The number of defective items in a sample of 100 items.\n",
    "The number of customers who visit a store in a day.\n",
    "Here are some examples of situations where the Poisson distribution might be used:\n",
    "\n",
    "The number of phone calls received by a call center in an hour.\n",
    "The number of earthquakes in a year.\n",
    "The number of hits on a website in a day."
   ]
  },
  {
   "cell_type": "markdown",
   "id": "91be397d",
   "metadata": {},
   "source": [
    "## Q8. Generate a random sample of size 1000 from a Poisson distribution with mean 5 and calculate then sample mean and variance."
   ]
  },
  {
   "cell_type": "code",
   "execution_count": 9,
   "id": "8f0b8807",
   "metadata": {},
   "outputs": [
    {
     "name": "stdout",
     "output_type": "stream",
     "text": [
      "The sample mean is: 4.944\n",
      "The sample variance is: 5.048864\n"
     ]
    }
   ],
   "source": [
    "import numpy as np\n",
    "\n",
    "samples = np.random.poisson(5, 1000)\n",
    "\n",
    "mean = np.mean(samples)\n",
    "\n",
    "variance = np.var(samples)\n",
    "\n",
    "print(\"The sample mean is:\", mean)\n",
    "print(\"The sample variance is:\", variance)\n"
   ]
  },
  {
   "cell_type": "markdown",
   "id": "6078235c",
   "metadata": {},
   "source": [
    "## Q9. How mean and variance are related in Binomial distribution and Poisson distribution?"
   ]
  },
  {
   "cell_type": "markdown",
   "id": "822646d0",
   "metadata": {},
   "source": [
    "In both the Binomial distribution and Poisson distribution, the mean and variance are closely related. However, the nature of this relationship differs between the two distributions.\n",
    "\n",
    "Binomial Distribution:\n",
    "\n",
    "Mean: For a binomial distribution with 'n' trials and a probability of success 'p', the mean (μ) is given by μ = n * p.\n",
    "Variance: The variance (σ^2) of the binomial distribution is σ^2 = n * p * (1 - p).\n",
    "In the binomial distribution, the variance increases with the number of trials ('n') and the probability of success ('p'). The product of 'n' and 'p' plays a crucial role in determining the spread of the distribution. As the number of trials or the probability of success increases, the spread (variance) of the distribution also increases.\n",
    "\n",
    "Poisson Distribution:\n",
    "\n",
    "Mean: For a Poisson distribution, the mean (μ) is equal to the parameter of the distribution, often denoted as λ (lambda).\n",
    "Variance: The variance (σ^2) of the Poisson distribution is also equal to the parameter λ (lambda).\n",
    "In the Poisson distribution, the variance is equal to the mean (σ^2 = μ). Unlike the binomial distribution, the variance in the Poisson distribution is not influenced by the size of the distribution or the probability of success, as there are no \"trials\" in the traditional sense. Instead, the variance is solely determined by the rate parameter λ, which represents the average number of events occurring in a fixed interval of time or space."
   ]
  },
  {
   "cell_type": "markdown",
   "id": "101da15e",
   "metadata": {},
   "source": [
    "## Q10. In normal distribution with respect to mean position, where does the least frequent data appear?"
   ]
  },
  {
   "cell_type": "markdown",
   "id": "e6da4cde",
   "metadata": {},
   "source": [
    "In a normal distribution, also known as a Gaussian distribution, the least frequent data points appear at the tails of the distribution, farthest away from the mean.\n",
    "\n",
    "The normal distribution is a symmetric bell-shaped curve, and its shape is determined by two parameters: the mean (μ) and the standard deviation (σ). The mean is the central point of the distribution, and the curve is symmetrically distributed around it.\n",
    "\n",
    "The tails of the normal distribution extend infinitely in both directions, getting closer and closer to the x-axis but never touching it. As you move away from the mean towards the tails, the frequency of data points decreases rapidly. This is why the data points in the tails of the normal distribution are the least frequent.\n",
    "\n",
    "In the normal distribution:\n",
    "\n",
    "Data points close to the mean are more frequent.\n",
    "Data points in the tails are less frequent.\n",
    "The probability of observing extreme values in the tails of the normal distribution is relatively low, which makes the normal distribution an essential tool for modeling many natural phenomena and statistical analyses."
   ]
  }
 ],
 "metadata": {
  "kernelspec": {
   "display_name": "Python 3 (ipykernel)",
   "language": "python",
   "name": "python3"
  },
  "language_info": {
   "codemirror_mode": {
    "name": "ipython",
    "version": 3
   },
   "file_extension": ".py",
   "mimetype": "text/x-python",
   "name": "python",
   "nbconvert_exporter": "python",
   "pygments_lexer": "ipython3",
   "version": "3.9.7"
  }
 },
 "nbformat": 4,
 "nbformat_minor": 5
}
