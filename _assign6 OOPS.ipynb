{
 "cells": [
  {
   "cell_type": "markdown",
   "id": "44fc73d2-ca78-4b1a-abd7-410a7a70a691",
   "metadata": {},
   "source": [
    "### Q1. Explain Class and Object with respect to Object-Oriented Programming. Give a suitable example in python\n",
    "\n",
    "##### Class:\n",
    "##### A class is a blueprint or a template for creating objects. It defines the properties and behaviors that objects of the class will have. In object-oriented programming, classes provide a way of organizing and structuring code by encapsulating data and behavior in a single unit.\n",
    "\n",
    "##### Object:\n",
    "##### An object is an instance of a class. It is created from a class and has the properties and behaviors defined in the class. Objects are used to represent real-world entities, and they interact with each other through methods."
   ]
  },
  {
   "cell_type": "code",
   "execution_count": 1,
   "id": "e89c8a90-f83a-4e11-a26a-b595d20214ea",
   "metadata": {},
   "outputs": [],
   "source": [
    "class pwskills1:\n",
    "    \n",
    "    def __init__(self ,phone_number , email_id, student_id ):\n",
    "        \n",
    "        self.phone_number = phone_number\n",
    "        self.email_id = email_id\n",
    "        self.student_id = student_id\n",
    "    \n",
    "    def return_student_detials(self):\n",
    "        return self.phone_number, self.email_id , self.student_id\n",
    "        "
   ]
  },
  {
   "cell_type": "code",
   "execution_count": 2,
   "id": "18eba530-87d8-4f74-a4af-0775e03e0732",
   "metadata": {},
   "outputs": [],
   "source": [
    "sohan = pwskills1(999679869 , \"sohan@gmail.com\" , 102)"
   ]
  },
  {
   "cell_type": "code",
   "execution_count": 3,
   "id": "f90df273-8caf-4334-9be7-b246136c0ff5",
   "metadata": {},
   "outputs": [
    {
     "data": {
      "text/plain": [
       "(999679869, 'sohan@gmail.com', 102)"
      ]
     },
     "execution_count": 3,
     "metadata": {},
     "output_type": "execute_result"
    }
   ],
   "source": [
    "sohan.return_student_detials()"
   ]
  },
  {
   "cell_type": "markdown",
   "id": "e484e8b0-ca87-4d2d-a7ea-a519217c0b91",
   "metadata": {},
   "source": [
    "### Q2. Name the four pillars of OOPs.\n",
    "##### The four pillars of Object-Oriented Programming (OOP) are:\n",
    "\n",
    "##### Abstraction: The process of hiding the complexity of a system and showing only relevant information to the user.\n",
    "\n",
    "##### Encapsulation: The practice of wrapping data and behavior within an object to protect its internal state from external changes.\n",
    "\n",
    "##### Inheritance: The mechanism that allows a new class to inherit properties and behaviors from an existing class, making it easier to reuse code and build new objects.\n",
    "\n",
    "##### Polymorphism: The ability of an object to take on multiple forms, such as using a single method name to perform different tasks. This allows objects to behave differently based on the context in which they are used."
   ]
  },
  {
   "cell_type": "markdown",
   "id": "853d8898-dcc7-42e9-9fad-21b205669de7",
   "metadata": {},
   "source": [
    "## Q3. Explain why the __init__() function is used. Give a suitable example.\n",
    "\n",
    "#### The __init__() function is used in Python classes to initialize objects when they are created. This function is automatically called when a new object is created from a class, and it is used to set up the initial state of the object. The __init__() method is also sometimes called a constructor.\n",
    "\n"
   ]
  },
  {
   "cell_type": "code",
   "execution_count": 4,
   "id": "28adbb8e-cf71-45fc-a18c-965f0dfc79c4",
   "metadata": {},
   "outputs": [],
   "source": [
    "class pwskills2:\n",
    "    \n",
    "    def __init__(sudh ,phone_number , email_id, student_id ):\n",
    "        \n",
    "        sudh.phone_number = phone_number\n",
    "        sudh.email_id = email_id\n",
    "        sudh.student_id = student_id\n",
    "    def return_student_detials(sudh):\n",
    "        return sudh.phone_number, sudh.email_id , sudh.student_id"
   ]
  },
  {
   "cell_type": "markdown",
   "id": "fd95e552-8e28-4dd8-a260-a8c4a0426829",
   "metadata": {},
   "source": [
    "## Q4. Why self is used in OOPs?\n",
    "\n",
    "##### In object-oriented programming (OOP), the self keyword is used to refer to the current instance of a class. It is a special variable in Python that is automatically set when an object is created from a class. The self variable is used to access the properties and methods of the current instance of a class."
   ]
  },
  {
   "cell_type": "code",
   "execution_count": 6,
   "id": "1b64ff74-3933-4305-a84f-20be5db3db2f",
   "metadata": {},
   "outputs": [
    {
     "name": "stdout",
     "output_type": "stream",
     "text": [
      "Name: shankar, Age: 21\n"
     ]
    }
   ],
   "source": [
    "class Person:\n",
    "    def __init__(self, name, age):\n",
    "        self.name = name\n",
    "        self.age = age\n",
    "\n",
    "    def display_info(self):\n",
    "        return f\"Name: {self.name}, Age: {self.age}\"\n",
    "person = Person(\"shankar\", 21)\n",
    "print(person.display_info())\n"
   ]
  },
  {
   "cell_type": "markdown",
   "id": "33db5df2-bb23-4df0-86e0-f9fbfab32ae9",
   "metadata": {},
   "source": [
    "#### Q5. What is inheritance? Give an example for each type of inheritance.\n",
    "\n",
    "##### Inheritance is a mechanism in object-oriented programming (OOP) that allows a new class to inherit properties and behaviors from an existing class. Inheritance makes it easier to reuse code and build new objects, and it provides a way to extend and modify existing classes in a structured and organized way.\n",
    "\n",
    "##### Single inheritance: In single inheritance, a subclass inherits properties and behaviors from a single parent class. This is the most basic form of inheritance, and it allows you to create a new class that is based on an existing class.\n",
    "\n",
    "#### Multi-level inheritance: In multi-level inheritance, a subclass inherits properties and behaviors from a parent class, which in turn inherits properties and behaviors from another parent class. This allows you to create a hierarchy of classes, where each class inherits from a higher-level class.\n",
    "\n",
    "#### Multiple inheritance: In multiple inheritance, a subclass inherits properties and behaviors from multiple parent classes. This allows you to create a new class that combines the properties and behaviors of multiple existing classes.\n",
    "\n",
    "#### Hierarchical Inheritance In this inheritance, more than one derived class is created from a single base class and further child classes act as parent classes for more than one child class.\n",
    "\n",
    "#### Hybrid inheritance This is a combination of more than one inheritance. Hence, it may be a combination of Multilevel and Multiple inheritance or Hierarchical and Multilevel inheritance Hierarchical and Multipath inheritance, or Hierarchical, Multilevel and Multiple inheritances.\n",
    "\n",
    "\n",
    "\n"
   ]
  },
  {
   "cell_type": "code",
   "execution_count": null,
   "id": "656e8dbb-5e5b-4c0b-9765-6a20e21422ca",
   "metadata": {},
   "outputs": [],
   "source": []
  }
 ],
 "metadata": {
  "kernelspec": {
   "display_name": "Python 3 (ipykernel)",
   "language": "python",
   "name": "python3"
  },
  "language_info": {
   "codemirror_mode": {
    "name": "ipython",
    "version": 3
   },
   "file_extension": ".py",
   "mimetype": "text/x-python",
   "name": "python",
   "nbconvert_exporter": "python",
   "pygments_lexer": "ipython3",
   "version": "3.10.8"
  }
 },
 "nbformat": 4,
 "nbformat_minor": 5
}
