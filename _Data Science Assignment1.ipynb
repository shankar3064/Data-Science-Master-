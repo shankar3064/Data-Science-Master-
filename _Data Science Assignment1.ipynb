{
 "cells": [
  {
   "cell_type": "markdown",
   "id": "f3faf301",
   "metadata": {},
   "source": [
    "## 1Q:- who developed pyrhon programming language ?"
   ]
  },
  {
   "cell_type": "markdown",
   "id": "c70b543f",
   "metadata": {},
   "source": [
    "### Ans:- Python was developed by Guido van Rossum in 1989."
   ]
  },
  {
   "cell_type": "markdown",
   "id": "a8c0ae02",
   "metadata": {},
   "source": [
    "## 2Q:-which type of programming does python support ?"
   ]
  },
  {
   "cell_type": "markdown",
   "id": "5027bcbf",
   "metadata": {},
   "source": [
    "#### Ans:- Python supports multiple programming \n",
    "#### 1- Object-Oriented Programming (OOP)\n",
    "#### 2- Structural Programming\n",
    "#### 3-Functional Programming"
   ]
  },
  {
   "cell_type": "markdown",
   "id": "9be2e928",
   "metadata": {},
   "source": [
    "## 3Q:- Is Python case sensitive when dealing with identifiers? \n"
   ]
  },
  {
   "cell_type": "markdown",
   "id": "00936944",
   "metadata": {},
   "source": [
    "### Ans:- Yes, Python is case sensitive when dealing with identifiers (i.e. variable names, function names, etc.). \n",
    "#### This means that myVariable and myvariable are considered as two different variables in Python."
   ]
  },
  {
   "cell_type": "markdown",
   "id": "075029f8",
   "metadata": {},
   "source": [
    "## 4Q:-What is the correct extension of the Python file? "
   ]
  },
  {
   "cell_type": "markdown",
   "id": "76b56778",
   "metadata": {},
   "source": [
    "#### Ans:-The correct extension for a Python file is .py."
   ]
  },
  {
   "cell_type": "markdown",
   "id": "0074a265",
   "metadata": {},
   "source": [
    "## 5Q:- Is Python code compiled or interpreted?"
   ]
  },
  {
   "cell_type": "markdown",
   "id": "9695e702",
   "metadata": {},
   "source": [
    "#### Ans:- Python is an interpreted language, which means that the source code is executed line by line at runtime by the interpreter, rather than being compiled to machine code ahead of time like in compiled languages like C or C++."
   ]
  },
  {
   "cell_type": "markdown",
   "id": "d920c6a3",
   "metadata": {},
   "source": [
    "## 6Q:- Name a few blocks of code used to define in Python language? \n"
   ]
  },
  {
   "cell_type": "markdown",
   "id": "9fe1b9b7",
   "metadata": {},
   "source": [
    "#### Ans:- In Python, the following blocks of code are used to define code blocks and control the flow of a program:\n",
    "#### 1.Functions: defined using the def keyword\n",
    "#### 2.Classes: defined using the class keyword\n",
    "#### 3.Loops: for and while loops\n",
    "#### 4.Conditional statements: if, elif, else\n",
    "#### 5.Try-except blocks: used to handle exceptions using the try and except keywords."
   ]
  },
  {
   "cell_type": "markdown",
   "id": "f9b7e906",
   "metadata": {},
   "source": [
    "## 7Q:- State a character used to give single-line comments in Python? \n"
   ]
  },
  {
   "cell_type": "markdown",
   "id": "c67aa5db",
   "metadata": {},
   "source": [
    "### Ans:- In Python, the # symbol is used to indicate a single-line comment. \n",
    "####        for example:-    # this is a single-line comment in  python"
   ]
  },
  {
   "cell_type": "markdown",
   "id": "88afe7ae",
   "metadata": {},
   "source": [
    "## 8Q:-Mention functions which can help us to find the version of python that we are currently working on? \n"
   ]
  },
  {
   "cell_type": "markdown",
   "id": "f9d7b417",
   "metadata": {},
   "source": [
    "## Ans:-\n",
    "### 1.sys.version: returns a string containing the version information of the Python interpreter.\n",
    "### 2.sys.version_info: returns a named tuple containing information about the version of Python.\n",
    "### 3.platform.python_version(): returns a string with the version of Python you are using.\n",
    "#### import sys or import platform"
   ]
  },
  {
   "cell_type": "markdown",
   "id": "cac0d750",
   "metadata": {},
   "source": [
    "## 9Q:- Python supports the creation of anonymous functions at runtime, using a construct called "
   ]
  },
  {
   "cell_type": "markdown",
   "id": "c78eb5b0",
   "metadata": {},
   "source": [
    "### Ans:- In Python, anonymous functions at runtime can be created using a construct called \"lambda\". A lambda function is a small, anonymous function that can take any number of arguments, but can only have one expression.\n",
    "\n",
    "##### lambda arguments: expression"
   ]
  },
  {
   "cell_type": "markdown",
   "id": "b0c22a3a",
   "metadata": {},
   "source": [
    "## 10Q:- What does pip stand for python? \n",
    "\n",
    "#### Ans:- pip stands for \"Pip Installs Packages\". It is a package management system used to install and manage packages for the Python programming language. With pip, you can easily install, upgrade, and remove packages from the Python Package Index"
   ]
  },
  {
   "cell_type": "markdown",
   "id": "d709cc83",
   "metadata": {},
   "source": [
    "## 11Q:- Mention a few built-in functions in python? \n",
    "\n",
    "#### Ans:-  len(): returns the length of a string, list, or other data structure\n",
    "#### range(): generates a sequence of numbers\n",
    "#### type(): returns the type of an object\n",
    "#### sum(): returns the sum of elements in a sequence\n",
    "#### sorted(): returns a sorted list from a given iterable\n",
    "#### min() and max(): return the minimum and maximum elements in a sequence\n",
    "#### int(), float(), str(): convert objects to integers, floating-point numbers, and strings\n",
    "\n",
    "##### These are just few examples."
   ]
  },
  {
   "cell_type": "markdown",
   "id": "ed2c3938",
   "metadata": {},
   "source": [
    "## 12Q:- What is the maximum possible length of an identifier in Python? \n",
    "\n",
    "\n",
    "#### Ans:-In Python, there is no explicit limit to the length of an identifier (e.g. variable name, function name, etc.). However, the maximum length of an identifier is determined by the underlying system and the amount of memory available"
   ]
  },
  {
   "cell_type": "markdown",
   "id": "92b03ed5",
   "metadata": {},
   "source": [
    "## 13Q:-What are the benefits of using Python? \n",
    "\n",
    "###  Ans:- Easy to learn and read: Python has a simple and intuitive syntax that is easy to learn, even for those with no prior programming experience.\n",
    "#### Large and active community: Python has a large and active community of developers who contribute to its development, maintenance, and support.\n",
    "#### Dynamic typing: Python supports dynamic typing, which means that you don't have to declare the type of a variable before using it, making the code more flexible.\n",
    "#### High-level language: Python is a high-level language, which means that it abstracts away many of the low-level details of the hardware and system, allowing you to focus on writing the logic of your program.\n"
   ]
  },
  {
   "cell_type": "markdown",
   "id": "b1afca4a",
   "metadata": {},
   "source": [
    "## 14Q:-How is memory managed in Python? \n",
    "\n",
    "#### Ans:-Memory in Python is managed automatically by a system called the \"Python memory manager\". The memory manager is responsible for allocating and freeing memory, as well as keeping track of what parts of the memory are being used and what parts are available for use.\n",
    "\n",
    "#### In Python, memory is managed using a system of reference counting, where the memory manager keeps track of the number of references to each object. When the number of references to an object drops to zero, the memory manager automatically frees the memory associated with that object.\n",
    "\n"
   ]
  },
  {
   "cell_type": "markdown",
   "id": "6004378a",
   "metadata": {},
   "source": [
    "## 15Q:- How to install Python on Windows and set path variables? \n",
    "\n",
    "### Ans:-   Go to the official Python website (https://www.python.org/downloads/) and download the latest version of Python for Windows.\n",
    "#### Run the installer: Double-click the downloaded Python installer file and follow the on-screen instructions to install Python on your system. Make sure to select the option to \"Add Python to PATH\" during the installation process.\n",
    "#### Verify the installation: Open the Command Prompt and type python to verify that the installation was successful and that Python is available from the command line.\n",
    "### Set the path variable: To set the path variable, follow these steps:\n",
    "\n",
    "##### Right-click the Start button and select \"System\".\n",
    "##### Click on \"Advanced system settings\" and then click on the \"Environment Variables\" button.\n",
    "##### In the \"System Variables\" section, scroll down and find the \"Path\" variable, and then click \"Edit\".\n",
    "##### Click \"New\" and add the path to the Python executable, which is usually C:\\PythonXX\\Python.exe (where XX is the version number).\n",
    "##### Click \"OK\" to save the changes."
   ]
  },
  {
   "cell_type": "markdown",
   "id": "0d6d94df",
   "metadata": {},
   "source": [
    "## 16Q:-  Is indentation required in python? \n",
    "\n",
    "#### Ans:- Yes, indentation is required in Python. Unlike many other programming languages, Python uses indentation to delimit blocks of code, such as the body of a loop or a conditional statement.\n",
    "\n",
    "##### In Python, indentation is used to indicate the structure of the code and to indicate the level of nesting of statements. This makes the code more readable and helps to reduce the risk of syntax errors.\n",
    "##### indentation is a key feature of Python and is one of the things that makes Python code easier to read and understand compared to code written in other programming languages."
   ]
  },
  {
   "cell_type": "code",
   "execution_count": null,
   "id": "1c546dfa",
   "metadata": {},
   "outputs": [],
   "source": []
  }
 ],
 "metadata": {
  "kernelspec": {
   "display_name": "Python 3 (ipykernel)",
   "language": "python",
   "name": "python3"
  },
  "language_info": {
   "codemirror_mode": {
    "name": "ipython",
    "version": 3
   },
   "file_extension": ".py",
   "mimetype": "text/x-python",
   "name": "python",
   "nbconvert_exporter": "python",
   "pygments_lexer": "ipython3",
   "version": "3.9.7"
  }
 },
 "nbformat": 4,
 "nbformat_minor": 5
}
