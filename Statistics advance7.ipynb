{
 "cells": [
  {
   "cell_type": "markdown",
   "id": "705285a4",
   "metadata": {},
   "source": [
    "## Q1. Write a Python function that takes in two arrays of data and calculates the F-value for a variance ratio test. The function should return the F-value and the corresponding p-value for the test."
   ]
  },
  {
   "cell_type": "code",
   "execution_count": 1,
   "id": "924909e1",
   "metadata": {},
   "outputs": [
    {
     "name": "stdout",
     "output_type": "stream",
     "text": [
      "F-value: 3.6\n",
      "p-value: 0.0943497728424377\n"
     ]
    }
   ],
   "source": [
    "import numpy as np\n",
    "from scipy.stats import f_oneway\n",
    "\n",
    "def variance_ratio_test(data1, data2):\n",
    "   \n",
    "    data1 = np.asarray(data1)\n",
    "    data2 = np.asarray(data2)\n",
    "\n",
    "    # Checking for valid input arrays\n",
    "    if data1.size < 2 or data2.size < 2:\n",
    "        raise ValueError(\"Both input arrays should contain at least 2 elements.\")\n",
    "\n",
    "    # Calculate the variance of each array\n",
    "    var1 = np.var(data1, ddof=1)\n",
    "    var2 = np.var(data2, ddof=1)\n",
    "\n",
    "    # Perform F-test\n",
    "    F_value, p_value = f_oneway(data1, data2)\n",
    "\n",
    "    return F_value, p_value\n",
    "\n",
    "# Example usage:\n",
    "data_array1 = [1, 2, 3, 4, 5]\n",
    "data_array2 = [2, 4, 6, 8, 10]\n",
    "F_value, p_value = variance_ratio_test(data_array1, data_array2)\n",
    "print(\"F-value:\", F_value)\n",
    "print(\"p-value:\", p_value)\n"
   ]
  },
  {
   "cell_type": "markdown",
   "id": "7721b2e6",
   "metadata": {},
   "source": [
    "## Q2. Given a significance level of 0.05 and the degrees of freedom for the numerator and denominator of an F-distribution, write a Python function that returns the critical F-value for a two-tailed test."
   ]
  },
  {
   "cell_type": "code",
   "execution_count": 2,
   "id": "ea22bb10",
   "metadata": {},
   "outputs": [],
   "source": [
    "import scipy.stats\n",
    "\n",
    "def critical_f_value(significance_level, df_num, df_denom):\n",
    "  \"\"\"\n",
    "  Returns the critical F-value for a two-tailed test.\n",
    "\n",
    "  Args:\n",
    "    significance_level: The significance level of the test.\n",
    "    df_num: The degrees of freedom for the numerator of the F-distribution.\n",
    "    df_denom: The degrees of freedom for the denominator of the F-distribution.\n",
    "\n",
    "  Returns:\n",
    "    The critical F-value for the test.\n",
    "  \"\"\"\n",
    "\n",
    "  return scipy.stats.f.ppf(1 - significance_level / 2, df_num, df_denom)\n"
   ]
  },
  {
   "cell_type": "code",
   "execution_count": 3,
   "id": "a4f1482b",
   "metadata": {},
   "outputs": [
    {
     "name": "stdout",
     "output_type": "stream",
     "text": [
      "Critical F-value: 2.773671375199082\n"
     ]
    }
   ],
   "source": [
    "import scipy.stats\n",
    "\n",
    "significance_level = 0.05\n",
    "df_num = 10\n",
    "df_denom = 20\n",
    "\n",
    "critical_f_value = critical_f_value(significance_level, df_num, df_denom)\n",
    "\n",
    "print(\"Critical F-value:\", critical_f_value)\n"
   ]
  },
  {
   "cell_type": "markdown",
   "id": "561c4135",
   "metadata": {},
   "source": [
    "## Q3. Write a Python program that generates random samples from two normal distributions with known variances and uses an F-test to determine if the variances are equal. The program should output the F- value, degrees of freedom, and p-value for the test."
   ]
  },
  {
   "cell_type": "code",
   "execution_count": 4,
   "id": "356355a6",
   "metadata": {},
   "outputs": [
    {
     "name": "stdout",
     "output_type": "stream",
     "text": [
      "F-value: 0.5\n",
      "Degrees of freedom: 9 20\n",
      "P-value: 0.8417612973840038\n"
     ]
    }
   ],
   "source": [
    "import numpy as np\n",
    "import scipy.stats\n",
    "\n",
    "def f_test(data1, data2, var1, var2):\n",
    " \n",
    "\n",
    "  n1 = len(data1)\n",
    "  n2 = len(data2)\n",
    "  f_value = var1 / var2\n",
    "  df_num = n1 - 1\n",
    "  df_denom = n2 - 1\n",
    "  p_value = 1 - scipy.stats.f.cdf(f_value, df_num, df_denom)\n",
    "  return f_value, df_num, p_value\n",
    "\n",
    "if __name__ == \"__main__\":\n",
    "  # Generate random samples from two normal distributions with known variances.\n",
    "  var1 = 1\n",
    "  var2 = 2\n",
    "  data1 = np.random.normal(0, var1, 10)\n",
    "  data2 = np.random.normal(0, var2, 10)\n",
    "\n",
    "  # Perform the F-test.\n",
    "  f_value, df_num, p_value = f_test(data1, data2, var1, var2)\n",
    "\n",
    "  # Print the results of the test.\n",
    "  print(\"F-value:\", f_value)\n",
    "  print(\"Degrees of freedom:\", df_num, df_denom)\n",
    "  print(\"P-value:\", p_value)\n"
   ]
  },
  {
   "cell_type": "markdown",
   "id": "c5254ea4",
   "metadata": {},
   "source": [
    "## Q4.The variances of two populations are known to be 10 and 15. A sample of 12 observations is taken from each population. Conduct an F-test at the 5% significance level to determine if the variances are significantly different."
   ]
  },
  {
   "cell_type": "code",
   "execution_count": 5,
   "id": "a3b75646",
   "metadata": {},
   "outputs": [
    {
     "name": "stdout",
     "output_type": "stream",
     "text": [
      "F-value: 1.5\n",
      "Degrees of freedom (numerator and denominator): 11\n",
      "p-value: 0.5123897987357995\n",
      "Fail to reject the null hypothesis. Variances are not significantly different.\n"
     ]
    }
   ],
   "source": [
    "from scipy.stats import f\n",
    "\n",
    "def f_test_for_equal_variances(F_value, df_num, df_den, significance_level):\n",
    "    \"\"\"\n",
    "    Perform an F-test to determine if the variances of two datasets are equal.\n",
    "\n",
    "    Parameters:\n",
    "        F_value (float): The calculated F-value.\n",
    "        df_num (int): Degrees of freedom for the numerator.\n",
    "        df_den (int): Degrees of freedom for the denominator.\n",
    "        significance_level (float): The significance level (alpha) for the test.\n",
    "\n",
    "    Returns:\n",
    "        p_value (float): The corresponding p-value.\n",
    "    \"\"\"\n",
    "    # Calculate the critical F-value\n",
    "    critical_F = f.ppf(1 - significance_level / 2, df_num, df_den)\n",
    "\n",
    "    # Calculate the p-value\n",
    "    p_value = 2 * (1 - f.cdf(F_value, df_num, df_den))\n",
    "\n",
    "    return p_value\n",
    "\n",
    "# Given data\n",
    "variance1 = 10\n",
    "variance2 = 15\n",
    "sample_size = 12\n",
    "significance_level = 0.05\n",
    "\n",
    "# Calculate the F-value\n",
    "F_value = variance2 / variance1\n",
    "\n",
    "# Degrees of freedom\n",
    "df_num = sample_size - 1\n",
    "df_den = sample_size - 1\n",
    "\n",
    "# Perform F-test for equal variances\n",
    "p_value = f_test_for_equal_variances(F_value, df_num, df_den, significance_level)\n",
    "\n",
    "# Output the results\n",
    "print(\"F-value:\", F_value)\n",
    "print(\"Degrees of freedom (numerator and denominator):\", df_num)\n",
    "print(\"p-value:\", p_value)\n",
    "\n",
    "# Check if the null hypothesis should be rejected or not\n",
    "if p_value < significance_level:\n",
    "    print(\"Reject the null hypothesis. Variances are significantly different.\")\n",
    "else:\n",
    "    print(\"Fail to reject the null hypothesis. Variances are not significantly different.\")\n"
   ]
  },
  {
   "cell_type": "markdown",
   "id": "f1f4c0c1",
   "metadata": {},
   "source": [
    "## Q5. A manufacturer claims that the variance of the diameter of a certain product is 0.005. A sample of 25 products is taken, and the sample variance is found to be 0.006. Conduct an F-test at the 1% significance level to determine if the claim is justified."
   ]
  },
  {
   "cell_type": "code",
   "execution_count": 7,
   "id": "468f9bff",
   "metadata": {},
   "outputs": [
    {
     "name": "stdout",
     "output_type": "stream",
     "text": [
      "F-value: 1.2\n",
      "Degrees of freedom (numerator and denominator): 24\n",
      "p-value: 0.3293654682817244\n",
      "Fail to reject the null hypothesis. The claim is justified.\n"
     ]
    }
   ],
   "source": [
    "from scipy.stats import f\n",
    "\n",
    "def f_test_for_equal_variances(F_value, df_num, df_den, significance_level):\n",
    "    \"\"\"\n",
    "    Perform an F-test to determine if the variances of two datasets are equal.\n",
    "\n",
    "    Parameters:\n",
    "        F_value (float): The calculated F-value.\n",
    "        df_num (int): Degrees of freedom for the numerator.\n",
    "        df_den (int): Degrees of freedom for the denominator.\n",
    "        significance_level (float): The significance level (alpha) for the test.\n",
    "\n",
    "    Returns:\n",
    "        p_value (float): The corresponding p-value.\n",
    "    \"\"\"\n",
    "    # Calculate the critical F-value\n",
    "    critical_F = f.ppf(1 - significance_level, df_num, df_den)\n",
    "\n",
    "    # Calculate the p-value\n",
    "    p_value = 1 - f.cdf(F_value, df_num, df_den)\n",
    "\n",
    "    return p_value\n",
    "\n",
    "# Given data\n",
    "claimed_variance = 0.005\n",
    "sample_variance = 0.006\n",
    "sample_size = 25\n",
    "significance_level = 0.01\n",
    "\n",
    "# Calculate the F-value\n",
    "F_value = sample_variance / claimed_variance\n",
    "\n",
    "# Degrees of freedom\n",
    "df_num = sample_size - 1\n",
    "df_den = sample_size - 1\n",
    "\n",
    "# Perform F-test for equal variances\n",
    "p_value = f_test_for_equal_variances(F_value, df_num, df_den, significance_level)\n",
    "\n",
    "# Output the results\n",
    "print(\"F-value:\", F_value)\n",
    "print(\"Degrees of freedom (numerator and denominator):\", df_num)\n",
    "print(\"p-value:\", p_value)\n",
    "\n",
    "# Check if the null hypothesis should be rejected or not\n",
    "if p_value < significance_level:\n",
    "    print(\"Reject the null hypothesis. The claim is not justified.\")\n",
    "else:\n",
    "    print(\"Fail to reject the null hypothesis. The claim is justified.\")\n"
   ]
  },
  {
   "cell_type": "code",
   "execution_count": 8,
   "id": "2d7abe64",
   "metadata": {},
   "outputs": [],
   "source": [
    "mean = df_den / (df_den - 2)\n"
   ]
  },
  {
   "cell_type": "code",
   "execution_count": 9,
   "id": "ecdd0e68",
   "metadata": {},
   "outputs": [],
   "source": [
    "variance = (2 * df_den^2 * (df_num + df_den - 2)) / (df_num * (df_den - 2)^2 * (df_den - 4))\n"
   ]
  },
  {
   "cell_type": "code",
   "execution_count": 10,
   "id": "007b6db8",
   "metadata": {},
   "outputs": [
    {
     "name": "stdout",
     "output_type": "stream",
     "text": [
      "Mean: 1.25\n",
      "Variance: 1.9097222222222223\n"
     ]
    }
   ],
   "source": [
    "def f_distribution_mean_and_variance(df_num, df_den):\n",
    "    \"\"\"\n",
    "    Calculate the mean and variance of an F-distribution.\n",
    "\n",
    "    Parameters:\n",
    "        df_num (int): Degrees of freedom for the numerator.\n",
    "        df_den (int): Degrees of freedom for the denominator.\n",
    "\n",
    "    Returns:\n",
    "        mean (float): Mean of the F-distribution.\n",
    "        variance (float): Variance of the F-distribution.\n",
    "    \"\"\"\n",
    "    # Calculate the mean\n",
    "    mean = df_den / (df_den - 2)\n",
    "\n",
    "    # Calculate the variance\n",
    "    variance = (2 * df_den**2 * (df_num + df_den - 2)) / (df_num * (df_den - 2)**2 * (df_den - 4))\n",
    "\n",
    "    return mean, variance\n",
    "\n",
    "# Example usage:\n",
    "df_num = 3\n",
    "df_den = 10\n",
    "mean, variance = f_distribution_mean_and_variance(df_num, df_den)\n",
    "print(\"Mean:\", mean)\n",
    "print(\"Variance:\", variance)\n"
   ]
  },
  {
   "cell_type": "markdown",
   "id": "c0f24b04",
   "metadata": {},
   "source": [
    "## Q7. A random sample of 10 measurements is taken from a normal population with unknown variance. The sample variance is found to be 25. Another random sample of 15 measurements is taken from another normal population with unknown variance, and the sample variance is found to be 20. Conduct an F-test at the 10% significance level to determine if the variances are significantly different."
   ]
  },
  {
   "cell_type": "code",
   "execution_count": 11,
   "id": "5f04e6b4",
   "metadata": {},
   "outputs": [
    {
     "name": "stdout",
     "output_type": "stream",
     "text": [
      "F-value: 0.8\n",
      "Degrees of freedom (numerator): 14\n",
      "Degrees of freedom (denominator): 9\n",
      "p-value: 0.6583902808707028\n",
      "Fail to reject the null hypothesis. Variances are not significantly different.\n"
     ]
    }
   ],
   "source": [
    "from scipy.stats import f\n",
    "\n",
    "def f_test_for_equal_variances(F_value, df_num, df_den, significance_level):\n",
    "    \"\"\"\n",
    "    Perform an F-test to determine if the variances of two datasets are equal.\n",
    "\n",
    "    Parameters:\n",
    "        F_value (float): The calculated F-value.\n",
    "        df_num (int): Degrees of freedom for the numerator.\n",
    "        df_den (int): Degrees of freedom for the denominator.\n",
    "        significance_level (float): The significance level (alpha) for the test.\n",
    "\n",
    "    Returns:\n",
    "        p_value (float): The corresponding p-value.\n",
    "    \"\"\"\n",
    "    # Calculate the critical F-value\n",
    "    critical_F = f.ppf(1 - significance_level, df_num, df_den)\n",
    "\n",
    "    # Calculate the p-value\n",
    "    p_value = 1 - f.cdf(F_value, df_num, df_den)\n",
    "\n",
    "    return p_value\n",
    "\n",
    "# Given data\n",
    "sample_variance1 = 25\n",
    "sample_size1 = 10\n",
    "sample_variance2 = 20\n",
    "sample_size2 = 15\n",
    "significance_level = 0.10\n",
    "\n",
    "# Calculate the F-value\n",
    "F_value = sample_variance2 / sample_variance1\n",
    "\n",
    "# Degrees of freedom\n",
    "df_num = sample_size2 - 1\n",
    "df_den = sample_size1 - 1\n",
    "\n",
    "# Perform F-test for equal variances\n",
    "p_value = f_test_for_equal_variances(F_value, df_num, df_den, significance_level)\n",
    "\n",
    "# Output the results\n",
    "print(\"F-value:\", F_value)\n",
    "print(\"Degrees of freedom (numerator):\", df_num)\n",
    "print(\"Degrees of freedom (denominator):\", df_den)\n",
    "print(\"p-value:\", p_value)\n",
    "\n",
    "# Check if the null hypothesis should be rejected or not\n",
    "if p_value < significance_level:\n",
    "    print(\"Reject the null hypothesis. Variances are significantly different.\")\n",
    "else:\n",
    "    print(\"Fail to reject the null hypothesis. Variances are not significantly different.\")\n"
   ]
  },
  {
   "cell_type": "markdown",
   "id": "6c443c41",
   "metadata": {},
   "source": [
    "## Q8. The following data represent the waiting times in minutes at two different restaurants on a Saturday night: Restaurant A: 24, 25, 28, 23, 22, 20, 27; Restaurant B: 31, 33, 35, 30, 32, 36. Conduct an F-test at the 5% significance level to determine if the variances are significantly different."
   ]
  },
  {
   "cell_type": "code",
   "execution_count": 12,
   "id": "c3eeade8",
   "metadata": {},
   "outputs": [
    {
     "name": "stdout",
     "output_type": "stream",
     "text": [
      "F-value: 1.4551907719609583\n",
      "Degrees of freedom (numerator): 6\n",
      "Degrees of freedom (denominator): 5\n",
      "p-value: 0.3487407873968742\n",
      "Fail to reject the null hypothesis. Variances are not significantly different.\n"
     ]
    }
   ],
   "source": [
    "from scipy.stats import f\n",
    "\n",
    "def f_test_for_equal_variances(F_value, df_num, df_den, significance_level):\n",
    "    \"\"\"\n",
    "    Perform an F-test to determine if the variances of two datasets are equal.\n",
    "\n",
    "    Parameters:\n",
    "        F_value (float): The calculated F-value.\n",
    "        df_num (int): Degrees of freedom for the numerator.\n",
    "        df_den (int): Degrees of freedom for the denominator.\n",
    "        significance_level (float): The significance level (alpha) for the test.\n",
    "\n",
    "    Returns:\n",
    "        p_value (float): The corresponding p-value.\n",
    "    \"\"\"\n",
    "    # Calculate the critical F-value\n",
    "    critical_F = f.ppf(1 - significance_level, df_num, df_den)\n",
    "\n",
    "    # Calculate the p-value\n",
    "    p_value = 1 - f.cdf(F_value, df_num, df_den)\n",
    "\n",
    "    return p_value\n",
    "\n",
    "# Given data\n",
    "restaurant_A_waiting_times = [24, 25, 28, 23, 22, 20, 27]\n",
    "restaurant_B_waiting_times = [31, 33, 35, 30, 32, 36]\n",
    "\n",
    "# Calculate the sample variances for both restaurants\n",
    "sample_variance_A = np.var(restaurant_A_waiting_times, ddof=1)\n",
    "sample_variance_B = np.var(restaurant_B_waiting_times, ddof=1)\n",
    "\n",
    "# Calculate the F-value\n",
    "F_value = max(sample_variance_A, sample_variance_B) / min(sample_variance_A, sample_variance_B)\n",
    "\n",
    "# Degrees of freedom\n",
    "df_num = len(restaurant_A_waiting_times) - 1\n",
    "df_den = len(restaurant_B_waiting_times) - 1\n",
    "\n",
    "# Perform F-test for equal variances\n",
    "significance_level = 0.05\n",
    "p_value = f_test_for_equal_variances(F_value, df_num, df_den, significance_level)\n",
    "\n",
    "# Output the results\n",
    "print(\"F-value:\", F_value)\n",
    "print(\"Degrees of freedom (numerator):\", df_num)\n",
    "print(\"Degrees of freedom (denominator):\", df_den)\n",
    "print(\"p-value:\", p_value)\n",
    "\n",
    "# Check if the null hypothesis should be rejected or not\n",
    "if p_value < significance_level:\n",
    "    print(\"Reject the null hypothesis. Variances are significantly different.\")\n",
    "else:\n",
    "    print(\"Fail to reject the null hypothesis. Variances are not significantly different.\")\n"
   ]
  },
  {
   "cell_type": "markdown",
   "id": "739a3d32",
   "metadata": {},
   "source": [
    "## Q9. The following data represent the test scores of two groups of students: Group A: 80, 85, 90, 92, 87, 83; Group B: 75, 78, 82, 79, 81, 84. Conduct an F-test at the 1% significance level to determine if the variances are significantly different."
   ]
  },
  {
   "cell_type": "code",
   "execution_count": 13,
   "id": "e46b24ff",
   "metadata": {},
   "outputs": [
    {
     "name": "stdout",
     "output_type": "stream",
     "text": [
      "F-value: 1.9442622950819677\n",
      "Degrees of freedom (numerator): 5\n",
      "Degrees of freedom (denominator): 5\n",
      "p-value: 0.2415521774535344\n",
      "Fail to reject the null hypothesis. Variances are not significantly different.\n"
     ]
    }
   ],
   "source": [
    "from scipy.stats import f\n",
    "\n",
    "def f_test_for_equal_variances(F_value, df_num, df_den, significance_level):\n",
    "    \"\"\"\n",
    "    Perform an F-test to determine if the variances of two datasets are equal.\n",
    "\n",
    "    Parameters:\n",
    "        F_value (float): The calculated F-value.\n",
    "        df_num (int): Degrees of freedom for the numerator.\n",
    "        df_den (int): Degrees of freedom for the denominator.\n",
    "        significance_level (float): The significance level (alpha) for the test.\n",
    "\n",
    "    Returns:\n",
    "        p_value (float): The corresponding p-value.\n",
    "    \"\"\"\n",
    "    # Calculate the critical F-value\n",
    "    critical_F = f.ppf(1 - significance_level, df_num, df_den)\n",
    "\n",
    "    # Calculate the p-value\n",
    "    p_value = 1 - f.cdf(F_value, df_num, df_den)\n",
    "\n",
    "    return p_value\n",
    "\n",
    "# Given data\n",
    "group_A_scores = [80, 85, 90, 92, 87, 83]\n",
    "group_B_scores = [75, 78, 82, 79, 81, 84]\n",
    "\n",
    "# Calculate the sample variances for both groups\n",
    "sample_variance_A = np.var(group_A_scores, ddof=1)\n",
    "sample_variance_B = np.var(group_B_scores, ddof=1)\n",
    "\n",
    "# Calculate the F-value\n",
    "F_value = max(sample_variance_A, sample_variance_B) / min(sample_variance_A, sample_variance_B)\n",
    "\n",
    "# Degrees of freedom\n",
    "df_num = len(group_A_scores) - 1\n",
    "df_den = len(group_B_scores) - 1\n",
    "\n",
    "# Perform F-test for equal variances\n",
    "significance_level = 0.01\n",
    "p_value = f_test_for_equal_variances(F_value, df_num, df_den, significance_level)\n",
    "\n",
    "# Output the results\n",
    "print(\"F-value:\", F_value)\n",
    "print(\"Degrees of freedom (numerator):\", df_num)\n",
    "print(\"Degrees of freedom (denominator):\", df_den)\n",
    "print(\"p-value:\", p_value)\n",
    "\n",
    "# Check if the null hypothesis should be rejected or not\n",
    "if p_value < significance_level:\n",
    "    print(\"Reject the null hypothesis. Variances are significantly different.\")\n",
    "else:\n",
    "    print(\"Fail to reject the null hypothesis. Variances are not significantly different.\")\n"
   ]
  }
 ],
 "metadata": {
  "kernelspec": {
   "display_name": "Python 3 (ipykernel)",
   "language": "python",
   "name": "python3"
  },
  "language_info": {
   "codemirror_mode": {
    "name": "ipython",
    "version": 3
   },
   "file_extension": ".py",
   "mimetype": "text/x-python",
   "name": "python",
   "nbconvert_exporter": "python",
   "pygments_lexer": "ipython3",
   "version": "3.9.7"
  }
 },
 "nbformat": 4,
 "nbformat_minor": 5
}
