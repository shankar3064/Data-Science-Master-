{
 "cells": [
  {
   "cell_type": "markdown",
   "id": "30f56d45-bcf5-4b2f-a220-f7aa10f87976",
   "metadata": {},
   "source": [
    "### Q1. Create a Pandas Series that contains the following data: 4, 8, 15, 16, 23, and 42. Then, print the series."
   ]
  },
  {
   "cell_type": "code",
   "execution_count": 1,
   "id": "bddd2931-2006-48d2-b0a8-27663730aee0",
   "metadata": {},
   "outputs": [],
   "source": [
    "import pandas as pd"
   ]
  },
  {
   "cell_type": "code",
   "execution_count": 2,
   "id": "5141dbad-7919-4223-a6e3-2660738e70b6",
   "metadata": {},
   "outputs": [
    {
     "name": "stdout",
     "output_type": "stream",
     "text": [
      "0     4\n",
      "1     8\n",
      "2    15\n",
      "3    16\n",
      "4    23\n",
      "5    42\n",
      "dtype: int64\n"
     ]
    }
   ],
   "source": [
    "\n",
    "\n",
    "data = [4, 8, 15, 16, 23, 42]\n",
    "my_series = pd.Series(data)\n",
    "print(my_series)\n"
   ]
  },
  {
   "cell_type": "markdown",
   "id": "7714599c-e6e6-4be2-aa04-009047c5a688",
   "metadata": {},
   "source": [
    "### Q2. Create a variable of list type containing 10 elements in it, and apply pandas.Series function on the variable print it."
   ]
  },
  {
   "cell_type": "code",
   "execution_count": 3,
   "id": "3c2526ea-af4e-4409-bc14-b04b29c6f500",
   "metadata": {},
   "outputs": [
    {
     "name": "stdout",
     "output_type": "stream",
     "text": [
      "0     10\n",
      "1     20\n",
      "2     30\n",
      "3     40\n",
      "4     50\n",
      "5     60\n",
      "6     70\n",
      "7     80\n",
      "8     90\n",
      "9    100\n",
      "dtype: int64\n"
     ]
    }
   ],
   "source": [
    "my_list = [10, 20, 30, 40, 50, 60, 70, 80, 90, 100]\n",
    "my_series = pd.Series(my_list)\n",
    "print(my_series)"
   ]
  },
  {
   "cell_type": "markdown",
   "id": "245d2bde-eb01-4174-be5c-ccc37161a8af",
   "metadata": {},
   "source": [
    "### Q3. Create a Pandas DataFrame that contains the following data: Name,Alice,Bob,Claire Age 25,30,27 gender female,male,female"
   ]
  },
  {
   "cell_type": "code",
   "execution_count": 4,
   "id": "3f82e875-3884-4bc9-a162-dcd0969ed65e",
   "metadata": {},
   "outputs": [
    {
     "name": "stdout",
     "output_type": "stream",
     "text": [
      "     Name  Age  Gender\n",
      "0   Alice   25  female\n",
      "1     Bob   30    male\n",
      "2  Claire   27  female\n"
     ]
    }
   ],
   "source": [
    "data = {'Name': ['Alice', 'Bob', 'Claire'],\n",
    "        'Age': [25, 30, 27],\n",
    "        'Gender': ['female', 'male', 'female']}\n",
    "\n",
    "my_dataframe = pd.DataFrame(data, columns=['Name', 'Age', 'Gender'])\n",
    "print(my_dataframe)"
   ]
  },
  {
   "cell_type": "markdown",
   "id": "5003e624-f018-4250-ad10-b6eef9b096e1",
   "metadata": {},
   "source": [
    "### Q4. What is ‘DataFrame’ in pandas and how is it different from pandas.series? Explain with an example."
   ]
  },
  {
   "cell_type": "markdown",
   "id": "ccdbb75f-be35-4978-8fb2-ad0179cba437",
   "metadata": {},
   "source": [
    "#### In Pandas, a DataFrame is a two-dimensional labeled data structure with columns of potentially different types. It is a tabular data structure with rows and columns, similar to a spreadsheet or SQL table. You can think of it as a collection of Pandas Series, where each Series represents a column of the DataFrame.\n",
    "\n",
    "#### A Pandas Series, on the other hand, is a one-dimensional labeled array capable of holding any data type (integer, string, float, etc.). It is similar to a column in a spreadsheet or a SQL table."
   ]
  },
  {
   "cell_type": "code",
   "execution_count": 6,
   "id": "0e73d4ca-9220-4554-8606-0dce5e351661",
   "metadata": {},
   "outputs": [
    {
     "name": "stdout",
     "output_type": "stream",
     "text": [
      "0    10\n",
      "1    20\n",
      "2    30\n",
      "3    40\n",
      "4    50\n",
      "dtype: int64\n",
      "      Name  Age       City\n",
      "0  Atharva   21       Pune\n",
      "1   Pishir   22     Mumbai\n",
      "2  Shankar   23  Hyderabad\n"
     ]
    }
   ],
   "source": [
    "my_series = pd.Series([10, 20, 30, 40, 50])\n",
    "print(my_series)\n",
    "my_dataframe = pd.DataFrame({\n",
    "    'Name': ['Atharva', 'Pishir', 'Shankar'],\n",
    "    'Age': [21, 22, 23],\n",
    "    'City': ['Pune', 'Mumbai', 'Hyderabad']\n",
    "})\n",
    "print(my_dataframe)"
   ]
  },
  {
   "cell_type": "markdown",
   "id": "6548e1f1-6a64-42c1-966b-ff8bfc131acf",
   "metadata": {},
   "source": [
    "### Q5. What are some common functions you can use to manipulate data in a Pandas DataFrame? Can you give an example of when you might use one of these functions?"
   ]
  },
  {
   "cell_type": "markdown",
   "id": "903f27f3-acea-4fca-b193-3b0645b90349",
   "metadata": {},
   "source": [
    "#### There are many functions available in Pandas to manipulate data in a DataFrame. Some of the common functions are:\n",
    "\n",
    "#### head() and tail(): These functions are used to show the first or last n rows of the DataFrame. For example, df.head(5) will show the first 5 rows of the DataFrame df.\n",
    "\n",
    "#### describe(): This function provides a statistical summary of the DataFrame, including count, mean, standard deviation, minimum, maximum, and quartile values for each column.\n",
    "\n",
    "#### drop(): This function is used to remove rows or columns from the DataFrame. For example, df.drop('column_name', axis=1) will remove the column with name 'column_name' from the DataFrame df.\n",
    "\n",
    "#### groupby(): This function is used to group rows of the DataFrame based on some criteria. For example, df.groupby('column_name').mean() will group the rows based on the values in the column with name 'column_name' and calculate the mean value of each group.\n",
    "\n",
    "#### sort_values(): This function is used to sort the DataFrame by one or more columns. For example, df.sort_values('column_name', ascending=False) will sort the DataFrame df in descending order based on the values in the column with name 'column_name'.\n",
    "\n",
    "#### apply(): This function is used to apply a function to each element of the DataFrame. For example, df.apply(lambda x: x * 2) will multiply each element of the DataFrame df by 2."
   ]
  },
  {
   "cell_type": "code",
   "execution_count": 8,
   "id": "1f79c2ea-d0dd-4618-a13e-b99439a4ef1d",
   "metadata": {},
   "outputs": [
    {
     "name": "stdout",
     "output_type": "stream",
     "text": [
      "              Age   Salary\n",
      "Department                \n",
      "Engineering  42.5  85000.0\n",
      "Marketing    30.0  60000.0\n",
      "Sales        30.0  60000.0\n"
     ]
    },
    {
     "name": "stderr",
     "output_type": "stream",
     "text": [
      "/tmp/ipykernel_158/2710609897.py:8: FutureWarning: The default value of numeric_only in DataFrameGroupBy.mean is deprecated. In a future version, numeric_only will default to False. Either specify numeric_only or select only columns which should be valid for the function.\n",
      "  grouped_employees = employees.groupby('Department').mean()\n"
     ]
    }
   ],
   "source": [
    "\n",
    "employees = pd.DataFrame({\n",
    "    'Name': ['Alice', 'Bob', 'Charlie', 'Shankar', 'Atharva'],\n",
    "    'Age': [25, 30, 35, 40, 45],\n",
    "    'Salary': [50000, 60000, 70000, 80000, 90000],\n",
    "    'Department': ['Sales', 'Marketing', 'Sales', 'Engineering', 'Engineering']\n",
    "})\n",
    "\n",
    "grouped_employees = employees.groupby('Department').mean()\n",
    "print(grouped_employees)\n"
   ]
  },
  {
   "cell_type": "markdown",
   "id": "5dc19658-608c-4611-9264-604cefed5617",
   "metadata": {},
   "source": [
    "### Q6. Which of the following is mutable in nature Series, DataFrame, Panel?\n"
   ]
  },
  {
   "cell_type": "markdown",
   "id": "37e4ec37-4014-42a0-90d4-3d0640908908",
   "metadata": {},
   "source": [
    "#### In Pandas, Series and DataFrame are mutable, while Panel is deprecated and not recommended to use.\n",
    "\n",
    "#### A mutable object is an object whose value can be changed after it is created. For example, you can add, remove, or modify elements in a mutable object like a list or dictionary. In contrast, an immutable object like a tuple or string cannot be modified after it is created.\n",
    "\n",
    "#### In Pandas, both Series and DataFrame are mutable. You can add, remove, or modify elements in a Series or DataFrame after they are created. For example, you can add a new column to a DataFrame or change the value of an existing cell in a Series. However, you cannot change the size or shape of a DataFrame or Series after it is created."
   ]
  },
  {
   "cell_type": "markdown",
   "id": "7572248d-84d9-4a39-b1c6-dc7d4457e3fd",
   "metadata": {},
   "source": [
    "### Q7. Create a DataFrame using multiple Series. Explain with an example.\n"
   ]
  },
  {
   "cell_type": "code",
   "execution_count": 9,
   "id": "f1698926-0f85-4d66-8005-a4dfde1a9c9c",
   "metadata": {},
   "outputs": [
    {
     "name": "stdout",
     "output_type": "stream",
     "text": [
      "      Name  Age  Salary\n",
      "0    Alice   25   50000\n",
      "1      Bob   30   60000\n",
      "2  Charlie   35   70000\n"
     ]
    }
   ],
   "source": [
    "names = pd.Series(['Alice', 'Bob', 'Charlie'])\n",
    "ages = pd.Series([25, 30, 35])\n",
    "salaries = pd.Series([50000, 60000, 70000])\n",
    "\n",
    "df = pd.DataFrame({\n",
    "    'Name': names,\n",
    "    'Age': ages,\n",
    "    'Salary': salaries\n",
    "})\n",
    "\n",
    "print(df)"
   ]
  }
 ],
 "metadata": {
  "kernelspec": {
   "display_name": "Python 3 (ipykernel)",
   "language": "python",
   "name": "python3"
  },
  "language_info": {
   "codemirror_mode": {
    "name": "ipython",
    "version": 3
   },
   "file_extension": ".py",
   "mimetype": "text/x-python",
   "name": "python",
   "nbconvert_exporter": "python",
   "pygments_lexer": "ipython3",
   "version": "3.10.8"
  }
 },
 "nbformat": 4,
 "nbformat_minor": 5
}
