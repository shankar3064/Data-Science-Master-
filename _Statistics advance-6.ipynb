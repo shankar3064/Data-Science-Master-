{
 "cells": [
  {
   "cell_type": "markdown",
   "id": "0e8c410a",
   "metadata": {},
   "source": [
    "## Q1. Explain the assumptions required to use ANOVA and provide examples of violations that could impact the validity of the results."
   ]
  },
  {
   "cell_type": "markdown",
   "id": "6f8c4078",
   "metadata": {},
   "source": [
    "here are the assumptions required to use ANOVA:\n",
    "\n",
    "Normality: The data for each group must be normally distributed. This means that the distribution of the data should be bell-shaped, with most of the data points clustered around the mean and fewer data points towards the tails of the distribution.\n",
    "Homogeneity of variance: The variances of the data for each group must be equal. This means that the spread of the data points around the mean should be the same for each group.\n",
    "Independence: The data points must be independent of each other. This means that the value of one data point cannot be predicted from the value of another data point.\n",
    "Violations of these assumptions can impact the validity of the results of an ANOVA test. For example, if the data is not normally distributed, the F-statistic that is used to test for significance may not be accurate. Similarly, if the variances of the data are not equal, the F-statistic may be biased. Finally, if the data points are not independent, the F-statistic may be inflated.\n",
    "\n",
    "Here are some examples of violations that could impact the validity of the results of an ANOVA test:\n",
    "\n",
    "Non-normality: If the data is not normally distributed, you can try to transform the data to make it more normal. However, if the data is severely non-normal, you may need to use a non-parametric test instead of ANOVA.\n",
    "Unequal variances: If the variances of the data are not equal, you can try to use a robust ANOVA test that is less sensitive to violations of this assumption. However, if the variances are very unequal, you may need to use a non-parametric test instead of ANOVA.\n",
    "Dependence: If the data points are not independent, you may need to use a repeated measures ANOVA or a mixed ANOVA.\n",
    "It is important to check the assumptions of ANOVA before you run the test. If you find that one or more of the assumptions are violated, you may need to take steps to address the violation before you can interpret the results of the test."
   ]
  },
  {
   "cell_type": "markdown",
   "id": "82a06d01",
   "metadata": {},
   "source": [
    "## Q2. What are the three types of ANOVA, and in what situations would each be used?"
   ]
  },
  {
   "cell_type": "markdown",
   "id": "a58e6abe",
   "metadata": {},
   "source": [
    "The three types of ANOVA are:\n",
    "\n",
    "One-Way ANOVA:\n",
    "One-Way ANOVA is used when you have one categorical independent variable (also known as a factor) and one continuous dependent variable. The categorical variable should have three or more levels (groups). It is used to determine whether there are any significant differences in the means of the dependent variable across the different groups. For example, you could use a One-Way ANOVA to analyze if there are differences in test scores among students from three different schools.\n",
    "\n",
    "Two-Way ANOVA:\n",
    "Two-Way ANOVA is an extension of One-Way ANOVA, but it deals with two independent categorical variables (factors) and one continuous dependent variable. It allows you to examine the main effects of each independent variable as well as their interaction effect on the dependent variable. This type of ANOVA is suitable when you want to investigate how two independent variables influence the same dependent variable. For instance, you could use a Two-Way ANOVA to explore the effects of both gender and different teaching methods on exam scores.\n",
    "\n",
    "Repeated Measures ANOVA:\n",
    "Repeated Measures ANOVA, also known as Within-Subjects ANOVA, is used when you have a single group of subjects that have been measured multiple times under different conditions or at different time points. In this type of ANOVA, the same participants are measured under all the conditions, which makes it appropriate for studying the effect of a treatment or intervention within the same group over time. For example, if you are testing the effectiveness of three different drugs on patients' pain levels, and each patient receives all three drugs at different times, you would use Repeated Measures ANOVA."
   ]
  },
  {
   "cell_type": "markdown",
   "id": "588af1b8",
   "metadata": {},
   "source": [
    "## Q3. What is the partitioning of variance in ANOVA, and why is it important to understand this concept?"
   ]
  },
  {
   "cell_type": "markdown",
   "id": "a0f4be80",
   "metadata": {},
   "source": [
    "The partitioning of variance in ANOVA refers to the division of the total variance observed in the data into different components that can be attributed to specific sources or factors. Understanding this concept is fundamental to ANOVA because it allows researchers to assess the contributions of different factors and sources of variation to the overall variability in the dependent variable. This partitioning is crucial for hypothesis testing and drawing meaningful conclusions about group differences.\n",
    "\n",
    "In ANOVA, the total variance in the data is broken down into three main components:\n",
    "\n",
    "Between-Groups Variance: This component of variance represents the variability in the dependent variable that is due to differences between the groups being compared. It reflects the differences in means among the different groups or levels of the independent variable. The larger the between-groups variance relative to the total variance, the stronger the evidence for significant differences among the groups.\n",
    "\n",
    "Within-Groups Variance: Also known as the error variance or residual variance, this component represents the variability in the dependent variable that cannot be attributed to the independent variable. It includes random variation, measurement errors, and any other factors not accounted for in the model. The within-groups variance is an estimate of the variability of individual scores within each group.\n",
    "\n",
    "Total Variance: The total variance is the overall variability observed in the dependent variable across all data points. It is the sum of the between-groups variance and the within-groups variance. Mathematically, Total Variance = Between-Groups Variance + Within-Groups Variance.\n",
    "\n",
    "By partitioning the variance into these components, ANOVA enables researchers to test whether the observed between-groups differences are statistically significant or if they could be due to random fluctuations (within-groups variance). This is accomplished by comparing the variability between groups to the variability within groups and calculating the F-statistic, which is used to test the null hypothesis that there are no significant differences among the group means."
   ]
  },
  {
   "cell_type": "markdown",
   "id": "57f75ba9",
   "metadata": {},
   "source": [
    "## Q4. How would you calculate the total sum of squares (SST), explained sum of squares (SSE), and residual sum of squares (SSR) in a one-way ANOVA using Python?"
   ]
  },
  {
   "cell_type": "code",
   "execution_count": 1,
   "id": "820ce28a",
   "metadata": {},
   "outputs": [
    {
     "name": "stdout",
     "output_type": "stream",
     "text": [
      "Total Sum of Squares (SST): 355.9375\n",
      "Explained Sum of Squares (SSE): 7.0809895833333325\n",
      "Residual Sum of Squares (SSR): 348.85651041666665\n"
     ]
    }
   ],
   "source": [
    "import numpy as np\n",
    "from scipy import stats\n",
    "\n",
    "# Sample data (replace this with your actual data)\n",
    "y = np.array([15, 18, 20, 22, 25, 28, 12, 16, 19, 23, 26, 14, 17, 21, 24, 27])\n",
    "group = np.array([1, 1, 1, 1, 1, 1, 2, 2, 2, 2, 2, 3, 3, 3, 3, 3])\n",
    "\n",
    "# Calculate the overall mean (grand mean)\n",
    "grand_mean = np.mean(y)\n",
    "\n",
    "# Calculate the total sum of squares (SST)\n",
    "sst = np.sum((y - grand_mean) ** 2)\n",
    "\n",
    "# Calculate the group means\n",
    "group_means = np.array([np.mean(y[group == i]) for i in np.unique(group)])\n",
    "\n",
    "# Calculate the explained sum of squares (SSE)\n",
    "sse = np.sum((group_means - grand_mean) ** 2) * len(np.unique(group))\n",
    "\n",
    "# Calculate the residual sum of squares (SSR)\n",
    "ssr = sst - sse\n",
    "\n",
    "print(\"Total Sum of Squares (SST):\", sst)\n",
    "print(\"Explained Sum of Squares (SSE):\", sse)\n",
    "print(\"Residual Sum of Squares (SSR):\", ssr)\n"
   ]
  },
  {
   "cell_type": "markdown",
   "id": "cd78de16",
   "metadata": {},
   "source": [
    "## Q5. In a two-way ANOVA, how would you calculate the main effects and interaction effects using Python?"
   ]
  },
  {
   "cell_type": "code",
   "execution_count": 2,
   "id": "aee086a6",
   "metadata": {},
   "outputs": [
    {
     "name": "stdout",
     "output_type": "stream",
     "text": [
      "Main effects: [615.0, 615.0]\n",
      "Interaction effect: 10.0\n"
     ]
    }
   ],
   "source": [
    "import numpy as np\n",
    "\n",
    "def two_way_anova(data):\n",
    "  \n",
    "\n",
    "  # Calculate the total sum of squares.\n",
    "  sst = np.sum((data[:, 0] - np.mean(data[:, 0]))**2)\n",
    "\n",
    "  # Calculate the main effect of the first independent variable.\n",
    "  bgss_1 = np.sum((np.mean(data[:, 0]) - data[:, 1])**2)\n",
    "\n",
    "  # Calculate the main effect of the second independent variable.\n",
    "  bgss_2 = np.sum((np.mean(data[:, 0]) - data[:, 2])**2)\n",
    "\n",
    "  # Calculate the interaction effect.\n",
    "  bgss_int = np.sum((data[:, 1] - np.mean(data[:, 1])) * (data[:, 2] - np.mean(data[:, 2])))\n",
    "\n",
    "  # Calculate the within-group sum of squares.\n",
    "  wgss = sst - bgss_1 - bgss_2 - bgss_int\n",
    "\n",
    "  # Calculate the main effects.\n",
    "  main_effects = [bgss_1, bgss_2]\n",
    "\n",
    "  # Calculate the interaction effect.\n",
    "  interaction_effect = bgss_int\n",
    "\n",
    "  return main_effects, interaction_effect\n",
    "\n",
    "if __name__ == \"__main__\":\n",
    "  # Create some sample data.\n",
    "  data = np.array([[10, 1, 1], [12, 2, 2], [14, 3, 3], [16, 4, 4], [18, 5, 5]])\n",
    "\n",
    "  # Calculate the main effects and interaction effects.\n",
    "  main_effects, interaction_effect = two_way_anova(data)\n",
    "\n",
    "  # Print the results.\n",
    "  print(\"Main effects:\", main_effects)\n",
    "  print(\"Interaction effect:\", interaction_effect)\n"
   ]
  },
  {
   "cell_type": "markdown",
   "id": "688134a7",
   "metadata": {},
   "source": [
    "## Q6. Suppose you conducted a one-way ANOVA and obtained an F-statistic of 5.23 and a p-value of 0.02. What can you conclude about the differences between the groups, and how would you interpret these results?"
   ]
  },
  {
   "cell_type": "markdown",
   "id": "e5152a8f",
   "metadata": {},
   "source": [
    "here is what you can conclude about the differences between the groups and how you would interpret these results if you conducted a one-way ANOVA and obtained an F-statistic of 5.23 and a p-value of 0.02:\n",
    "\n",
    "Conclusion: The F-statistic is a measure of the ratio of the between-group variance to the within-group variance. A large F-statistic indicates that there is a significant difference between the groups. In this case, the F-statistic of 5.23 is significant at the 0.02 level, which means that there is a 2% chance of getting a result at least as extreme as this by chance.\n",
    "Interpretation: The p-value is a measure of the probability of obtaining a result as extreme as the one that was actually observed if the null hypothesis is true. In this case, the p-value of 0.02 is very small, which means that the null hypothesis is very unlikely to be true. Therefore, we can conclude that there is a significant difference between the groups.\n",
    "In other words, the results of the ANOVA suggest that there is a real difference in the means of the groups. This difference is unlikely to be due to chance, and it is likely to be due to the independent variable.\n",
    "\n",
    "It is important to note that the ANOVA only tells us that there is a difference between the groups. It does not tell us which groups are different or how much different they are. To answer these questions, we would need to conduct post-hoc tests."
   ]
  },
  {
   "cell_type": "markdown",
   "id": "99cc9b83",
   "metadata": {},
   "source": [
    "## Q7. In a repeated measures ANOVA, how would you handle missing data, and what are the potential consequences of using different methods to handle missing data?"
   ]
  },
  {
   "cell_type": "markdown",
   "id": "9cef4f9f",
   "metadata": {},
   "source": [
    "\n",
    "There are several ways to handle missing data in a repeated measures ANOVA. The most common methods are:\n",
    "\n",
    "Listwise deletion: This method simply deletes any cases that have any missing data. This is the simplest method, but it can also be the most conservative. If a lot of data is missing, this method can reduce the power of the test.\n",
    "Pairwise deletion: This method deletes any cases that have missing data for a particular variable. This method is less conservative than listwise deletion, but it can still reduce the power of the test if a lot of data is missing.\n",
    "Mean imputation: This method replaces missing data with the mean of the variable. This is a relatively simple method, but it can introduce bias into the results.\n",
    "Model-based imputation: This method uses a statistical model to impute missing data. This is a more sophisticated method, but it can also be more complex.\n",
    "The potential consequences of using different methods to handle missing data in a repeated measures ANOVA depend on the amount of missing data and the method that is used. If a lot of data is missing, any method can reduce the power of the test. However, some methods can introduce bias into the results, while others do not.\n",
    "\n",
    "It is important to choose a method for handling missing data that is appropriate for the specific data set. If the data set is small, listwise deletion may be the best option. However, if the data set is large, pairwise deletion or model-based imputation may be better options.\n",
    "\n",
    "Here are some additional considerations when handling missing data in a repeated measures ANOVA:\n",
    "\n",
    "The number of missing values: The more missing values there are, the more likely it is that the results will be affected.\n",
    "The pattern of missing values: If the missing values are clustered, then this can also affect the results.\n",
    "The type of variable: Missing values are more likely to affect the results for continuous variables than for categorical variables.\n",
    "It is important to carefully consider all of these factors when choosing a method for handling missing data in a repeated measures ANOVA."
   ]
  },
  {
   "cell_type": "markdown",
   "id": "d9c0cb68",
   "metadata": {},
   "source": [
    "## Q8. What are some common post-hoc tests used after ANOVA, and when would you use each one? Provide an example of a situation where a post-hoc test might be necessary."
   ]
  },
  {
   "cell_type": "markdown",
   "id": "a1243a5e",
   "metadata": {},
   "source": [
    "\n",
    "There are many different post-hoc tests that can be used after ANOVA. Some of the most common ones include:\n",
    "\n",
    "Tukey's HSD test: This test is a pairwise comparison test that controls for the family-wise error rate. It is a popular choice because it is relatively easy to interpret and has good power.\n",
    "Bonferroni test: This test is also a pairwise comparison test, but it is more conservative than Tukey's HSD test. This means that it is less likely to find a significant difference between groups, even if there is one.\n",
    "Sidak test: This test is similar to the Bonferroni test, but it is less conservative. This means that it is more likely to find a significant difference between groups, even if there is not one.\n",
    "Holm-Bonferroni test: This test is a modification of the Bonferroni test that is designed to control the family-wise error rate more effectively.\n",
    "The choice of which post-hoc test to use depends on a number of factors, including the number of groups being compared, the level of significance that is desired, and the power of the test.\n",
    "\n",
    "Here is an example of a situation where a post-hoc test might be necessary:\n",
    "\n",
    "A researcher is interested in the effects of different teaching methods on student test scores. The researcher conducts a one-way ANOVA and finds that there is a significant difference between the groups. However, the ANOVA does not tell the researcher which groups are different or how much different they are. To answer these questions, the researcher would need to conduct a post-hoc test.\n",
    "In this example, the researcher could use any of the post-hoc tests that were mentioned above. The choice of which test to use would depend on the number of groups being compared and the level of significance that is desired."
   ]
  },
  {
   "cell_type": "markdown",
   "id": "bdb446c5",
   "metadata": {},
   "source": [
    "## Q9. A researcher wants to compare the mean weight loss of three diets: A, B, and C. They collect data from 50 participants who were randomly assigned to one of the diets. Conduct a one-way ANOVA using Python to determine if there are any significant differences between the mean weight loss of the three diets. Report the F-statistic and p-value, and interpret the results."
   ]
  },
  {
   "cell_type": "code",
   "execution_count": 3,
   "id": "a23e9ade",
   "metadata": {},
   "outputs": [
    {
     "name": "stdout",
     "output_type": "stream",
     "text": [
      "F-statistic: 53.67701076630778\n",
      "p-value: 5.374890081389282e-15\n"
     ]
    }
   ],
   "source": [
    "import numpy as np\n",
    "from scipy.stats import f_oneway\n",
    "\n",
    "# Sample data (replace this with your actual data)\n",
    "diet_A = np.array([3, 5, 4, 6, 7, 8, 4, 5, 6, 3, 2, 4, 6, 5, 3, 4, 5, 6, 7, 4, 5, 6, 4, 3, 5])\n",
    "diet_B = np.array([2, 3, 1, 4, 5, 3, 2, 4, 3, 2, 1, 3, 5, 4, 3, 2, 4, 5, 3, 2, 3, 4, 2, 1, 3])\n",
    "diet_C = np.array([6, 7, 5, 8, 6, 9, 5, 6, 8, 7, 6, 9, 8, 7, 6, 5, 9, 7, 6, 8, 7, 6, 5, 8, 7])\n",
    "\n",
    "# Perform one-way ANOVA\n",
    "f_statistic, p_value = f_oneway(diet_A, diet_B, diet_C)\n",
    "\n",
    "print(\"F-statistic:\", f_statistic)\n",
    "print(\"p-value:\", p_value)\n"
   ]
  },
  {
   "cell_type": "code",
   "execution_count": 4,
   "id": "88b28d46",
   "metadata": {},
   "outputs": [
    {
     "name": "stdout",
     "output_type": "stream",
     "text": [
      "F-statistic: 34.59575587540308\n",
      "p-value: 4.866135313221344e-13\n"
     ]
    }
   ],
   "source": [
    "import numpy as np\n",
    "import scipy.stats as stats\n",
    "\n",
    "# Create the data.\n",
    "diet_A = np.random.normal(10, 5, 50)\n",
    "diet_B = np.random.normal(15, 5, 50)\n",
    "diet_C = np.random.normal(20, 5, 50)\n",
    "\n",
    "# Conduct the ANOVA.\n",
    "F, p = stats.f_oneway(diet_A, diet_B, diet_C)\n",
    "\n",
    "# Print the results.\n",
    "print(\"F-statistic:\", F)\n",
    "print(\"p-value:\", p)\n"
   ]
  },
  {
   "cell_type": "markdown",
   "id": "46cc136f",
   "metadata": {},
   "source": [
    "## Q10. A company wants to know if there are any significant differences in the average time it takes to complete a task using three different software programs: Program A, Program B, and Program C. They randomly assign 30 employees to one of the programs and record the time it takes each employee to complete the task. Conduct a two-way ANOVA using Python to determine if there are any main effects or interaction effects between the software programs and employee experience level (novice vs. experienced). Report the F-statistics and p-values, and interpret the results."
   ]
  },
  {
   "cell_type": "code",
   "execution_count": 9,
   "id": "5d43bc35",
   "metadata": {},
   "outputs": [
    {
     "name": "stdout",
     "output_type": "stream",
     "text": [
      "F-statistic for Software Programs: 0.0010526315789477012\n",
      "p-value for Software Programs: 0.9989479683601158\n",
      "F-statistic for Experience Level: 0.7052631578947439\n",
      "p-value for Experience Level: 0.4093089898972744\n",
      "F-statistic for Interaction: 0.826315789473685\n",
      "p-value for Interaction: 0.44972995330416093\n"
     ]
    }
   ],
   "source": [
    "import numpy as np\n",
    "import pandas as pd\n",
    "import statsmodels.api as sm\n",
    "\n",
    "# Sample data (replace this with your actual data)\n",
    "data = {\n",
    "    'task_time': [15, 20, 18, 22, 17, 21, 23, 16, 19, 25, 14, 18, 20, 22, 15, 19, 24, 16, 20, 23, 21, 18, 20, 22, 17, 20, 24, 16, 21, 25],\n",
    "    'software_program': ['A', 'A', 'A', 'A', 'A', 'A', 'B', 'B', 'B', 'B', 'B', 'B', 'C', 'C', 'C', 'C', 'C', 'C', 'A', 'A', 'A', 'B', 'B', 'B', 'B', 'B', 'B', 'C', 'C', 'C'],\n",
    "    'experience_level': ['Novice', 'Experienced'] * 15\n",
    "}\n",
    "\n",
    "df = pd.DataFrame(data)\n",
    "\n",
    "# Fit the two-way ANOVA model\n",
    "formula = 'task_time ~ C(software_program) + C(experience_level) + C(software_program):C(experience_level)'\n",
    "model = ols(formula, data=df).fit()\n",
    "anova_table = sm.stats.anova_lm(model, typ=2)\n",
    "\n",
    "# Extract F-statistics and p-values\n",
    "F_program = anova_table.loc['C(software_program)', 'F']\n",
    "p_program = anova_table.loc['C(software_program)', 'PR(>F)']\n",
    "\n",
    "F_experience = anova_table.loc['C(experience_level)', 'F']\n",
    "p_experience = anova_table.loc['C(experience_level)', 'PR(>F)']\n",
    "\n",
    "F_interaction = anova_table.loc['C(software_program):C(experience_level)', 'F']\n",
    "p_interaction = anova_table.loc['C(software_program):C(experience_level)', 'PR(>F)']\n",
    "\n",
    "print(\"F-statistic for Software Programs:\", F_program)\n",
    "print(\"p-value for Software Programs:\", p_program)\n",
    "\n",
    "print(\"F-statistic for Experience Level:\", F_experience)\n",
    "print(\"p-value for Experience Level:\", p_experience)\n",
    "\n",
    "print(\"F-statistic for Interaction:\", F_interaction)\n",
    "print(\"p-value for Interaction:\", p_interaction)\n"
   ]
  },
  {
   "cell_type": "markdown",
   "id": "709e5271",
   "metadata": {},
   "source": [
    "## Q11. An educational researcher is interested in whether a new teaching method improves student test scores. They randomly assign 100 students to either the control group (traditional teaching method) or the experimental group (new teaching method) and administer a test at the end of the semester. Conduct a two-sample t-test using Python to determine if there are any significant differences in test scores between the two groups. If the results are significant, follow up with a post-hoc test to determine which group(s) differ significantly from each other."
   ]
  },
  {
   "cell_type": "code",
   "execution_count": 10,
   "id": "8791ce84",
   "metadata": {},
   "outputs": [
    {
     "name": "stdout",
     "output_type": "stream",
     "text": [
      "t-statistic: -11.020532658534306\n",
      "p-value: 2.1422942532549697e-13\n"
     ]
    }
   ],
   "source": [
    "import numpy as np\n",
    "from scipy.stats import ttest_ind\n",
    "\n",
    "# Sample data (replace this with your actual data)\n",
    "control_group_scores = np.array([75, 80, 85, 70, 78, 82, 76, 72, 80, 77, 79, 81, 75, 78, 73, 79, 82, 74, 81, 80])\n",
    "experimental_group_scores = np.array([85, 90, 88, 92, 86, 91, 87, 89, 93, 90, 88, 91, 86, 89, 92, 87, 90, 85, 89, 91])\n",
    "\n",
    "# Perform two-sample t-test\n",
    "t_statistic, p_value = ttest_ind(control_group_scores, experimental_group_scores)\n",
    "\n",
    "print(\"t-statistic:\", t_statistic)\n",
    "print(\"p-value:\", p_value)\n"
   ]
  },
  {
   "cell_type": "code",
   "execution_count": 11,
   "id": "ccb0d649",
   "metadata": {},
   "outputs": [
    {
     "name": "stdout",
     "output_type": "stream",
     "text": [
      "  Multiple Comparison of Means - Tukey HSD, FWER=0.05  \n",
      "=======================================================\n",
      " group1    group2    meandiff p-adj lower upper  reject\n",
      "-------------------------------------------------------\n",
      "Control Experimental     11.1 0.001 9.061 13.139   True\n",
      "-------------------------------------------------------\n"
     ]
    }
   ],
   "source": [
    "import pandas as pd\n",
    "import statsmodels.stats.multicomp as mc\n",
    "\n",
    "# Combine the data into one DataFrame\n",
    "data = pd.DataFrame({'score': np.concatenate([control_group_scores, experimental_group_scores]),\n",
    "                     'group': ['Control'] * len(control_group_scores) + ['Experimental'] * len(experimental_group_scores)})\n",
    "\n",
    "# Perform Tukey's HSD test\n",
    "posthoc = mc.MultiComparison(data['score'], data['group'])\n",
    "result = posthoc.tukeyhsd()\n",
    "\n",
    "print(result)\n"
   ]
  },
  {
   "cell_type": "markdown",
   "id": "eb3769d3",
   "metadata": {},
   "source": [
    "## Q12. A researcher wants to know if there are any significant differences in the average daily sales of three retail stores: Store A, Store B, and Store C. They randomly select 30 days and record the sales for each store on those days. Conduct a repeated measures ANOVA using Python to determine if there are any significant differences in sales between the three stores. If the results are significant, follow up with a post- hoc test to determine which store(s) differ significantly from each other."
   ]
  },
  {
   "cell_type": "code",
   "execution_count": 12,
   "id": "b30f941e",
   "metadata": {},
   "outputs": [
    {
     "name": "stdout",
     "output_type": "stream",
     "text": [
      "F-statistic: 261.91029466157113\n",
      "p-value: 1.5199977499031654e-37\n"
     ]
    }
   ],
   "source": [
    "import numpy as np\n",
    "from scipy.stats import f_oneway\n",
    "\n",
    "# Sample data (replace this with your actual data)\n",
    "store_A_sales = np.array([100, 110, 105, 95, 98, 105, 102, 108, 103, 100, 98, 105, 102, 108, 103, 100, 98, 105, 102, 108, 103, 100, 98, 105, 102, 108, 103, 100, 98, 105])\n",
    "store_B_sales = np.array([90, 95, 100, 92, 88, 92, 94, 98, 95, 90, 92, 92, 94, 98, 95, 90, 92, 92, 94, 98, 95, 90, 92, 92, 94, 98, 95, 90, 92, 92])\n",
    "store_C_sales = np.array([120, 115, 110, 112, 118, 120, 125, 115, 110, 112, 118, 120, 125, 115, 110, 112, 118, 120, 125, 115, 110, 112, 118, 120, 125, 115, 110, 112, 118, 120])\n",
    "\n",
    "# Perform one-way ANOVA\n",
    "f_statistic, p_value = f_oneway(store_A_sales, store_B_sales, store_C_sales)\n",
    "\n",
    "print(\"F-statistic:\", f_statistic)\n",
    "print(\"p-value:\", p_value)\n"
   ]
  }
 ],
 "metadata": {
  "kernelspec": {
   "display_name": "Python 3 (ipykernel)",
   "language": "python",
   "name": "python3"
  },
  "language_info": {
   "codemirror_mode": {
    "name": "ipython",
    "version": 3
   },
   "file_extension": ".py",
   "mimetype": "text/x-python",
   "name": "python",
   "nbconvert_exporter": "python",
   "pygments_lexer": "ipython3",
   "version": "3.9.7"
  }
 },
 "nbformat": 4,
 "nbformat_minor": 5
}
