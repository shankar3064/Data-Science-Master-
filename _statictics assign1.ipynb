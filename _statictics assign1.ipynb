{
 "cells": [
  {
   "cell_type": "markdown",
   "id": "f7a65ce4-dc93-4f61-89ea-9224d9c02c17",
   "metadata": {},
   "source": [
    "#### Q1. What is Statistics?"
   ]
  },
  {
   "cell_type": "markdown",
   "id": "1bc2b189-d5e2-4bbc-9732-71f3aa4c5a8e",
   "metadata": {},
   "source": [
    "#### Statistics is the science of collecting, analyzing, interpreting, and presenting data.\n",
    "#### Statisticians use their skills to collect and analyze data, to develop statistical models, and to communicate the results of their analyses to others.\n",
    "## TWO TYPES OF STATISTICS\n",
    "#### Descriptive statistics\n",
    "#### Inferential Statistics"
   ]
  },
  {
   "cell_type": "markdown",
   "id": "ad2a11bb-5626-442f-afbd-204a6c0b87f9",
   "metadata": {},
   "source": [
    "#### Q2. Define the different types of statistics and give an example of when each type might be used."
   ]
  },
  {
   "cell_type": "markdown",
   "id": "a79342b5-beb6-41da-ad01-12ad2764650b",
   "metadata": {},
   "source": [
    "Descriptive statistics are used to summarize data and describe its main features. This can be done using tables, graphs, and other visual representations. Some common descriptive statistics include measures of central tendency (mean, median, and mode), measures of variability (variance and standard deviation), and frequency distributions.\n",
    "\n",
    "For example, a company might use descriptive statistics to summarize its sales data. They might create a table that shows the total sales for each month of the year, or they might create a graph that shows the distribution of sales by product.\n",
    "\n",
    "Inferential statistics are used to make inferences about populations based on samples. This can be done using statistical tests, which are procedures for comparing samples to populations or to each other. Some common inferential statistics tests include the t-test, the chi-squared test, and the ANOVA.\n",
    "\n",
    "For example, a doctor might use inferential statistics to test the effectiveness of a new drug. They might collect data from a sample of patients who have taken the drug, and then use statistical tests to compare the results of the sample to the results of a control group."
   ]
  },
  {
   "cell_type": "markdown",
   "id": "819d61ca-6a5d-4660-8b39-67001b304c7c",
   "metadata": {},
   "source": [
    "#### Q3. What are the different types of data and how do they differ from each other? Provide an example of each type of data."
   ]
  },
  {
   "cell_type": "markdown",
   "id": "7c71d0df-603d-40a4-8329-2f8403e383bf",
   "metadata": {},
   "source": [
    "Qualitative data is data that is not numerical. It is often described as \"text-based\" or \"categorical\" data. Qualitative data can be used to describe things, people, or events. Examples of qualitative data include:\n",
    "\n",
    "Gender (male, female, other)\n",
    "Marital status (single, married, divorced, widowed)\n",
    "Favorite color (red, blue, green, etc.)\n",
    "Quantitative data is data that is numerical. It can be used to measure things, people, or events. Examples of quantitative data include:\n",
    "\n",
    "Height (in centimeters or feet)\n",
    "Weight (in kilograms or pounds)\n",
    "Score on a test (out of 100)\n",
    "Discrete data is quantitative data that can only take on a finite number of values. For example, the number of children in a family is discrete data because it can only be 0, 1, 2, 3, etc.\n",
    "\n",
    "Continuous data is quantitative data that can take on any value within a given range. For example, the height of a person is continuous data because it can be any value between 0 and 2 meters.\n",
    "\n",
    "Nominal data is qualitative data that is used to classify things into categories. The categories are not ordered in any way. For example, the gender of a person is nominal data because it can be either male or female, and there is no order to these categories.\n",
    "\n",
    "Ordinal data is qualitative data that is used to classify things into categories that have an order. For example, the ranking of students in a class is ordinal data because the students are ranked from first to last."
   ]
  },
  {
   "cell_type": "markdown",
   "id": "3e891564-14e1-4e44-86c3-2efb4842d964",
   "metadata": {},
   "source": [
    "Q4. Categorise the following datasets with respect to quantitative and qualitative data types:\n",
    "(i) Grading in exam: A+, A, B+, B, C+, C, D, E\n",
    "(ii) Colour of mangoes: yellow, green, orange, red\n",
    "(iii) Height data of a class: [178.9, 179, 179.5, 176, 177.2, 178.3, 175.8,...]\n",
    "(iv) Number of mangoes exported by a farm: [500, 600, 478, 672, ...]"
   ]
  },
  {
   "cell_type": "markdown",
   "id": "271c3645-4a74-4341-9a4d-cfdcd54caada",
   "metadata": {},
   "source": [
    "(i) Grading in exam is qualitative data because it is a classification of the grades into categories. The categories are not ordered in any way, so the data is nominal.\n",
    "(ii) Colour of mangoes is qualitative data because it is a classification of the colours into categories. The categories are not ordered in any way, so the data is nominal.\n",
    "(iii) Height data of a class is quantitative data because it is a measurement of the height of the students. The height can be any value within a given range, so the data is continuous.\n",
    "(iv) Number of mangoes exported by a farm is quantitative data because it is a count of the number of mangoes. The number of mangoes can only be a whole number, so the data is discrete."
   ]
  },
  {
   "cell_type": "markdown",
   "id": "5465e6eb-0dc8-4f80-912b-d937bbd911d3",
   "metadata": {},
   "source": [
    "Q5. Explain the concept of levels of measurement and give an example of a variable for each level."
   ]
  },
  {
   "cell_type": "markdown",
   "id": "c0e6e229-87d7-4682-a09f-cfc88689b848",
   "metadata": {},
   "source": [
    "Nominal level of measurement is the most basic level of measurement. It is used to classify data into categories that have no inherent order. For example, the gender of a person is a nominal variable because it can be either male or female, and there is no order to these categories.\n",
    "Ordinal level of measurement is a level of measurement that allows for the ordering of data. However, the intervals between the categories are not necessarily equal. For example, the ranking of students in a class is an ordinal variable because the students are ranked from first to last, but the intervals between the ranks are not necessarily equal.\n",
    "Interval level of measurement is a level of measurement that allows for the ordering of data and the calculation of meaningful intervals between the categories. However, the zero point on an interval scale is arbitrary. For example, the temperature scale is an interval scale because the numbers can be ordered and the intervals between the numbers are equal, but the zero point on the scale is arbitrary (0 degrees Celsius does not mean the absence of heat).\n",
    "Ratio level of measurement is the highest level of measurement. It allows for the ordering of data, the calculation of meaningful intervals between the categories, and the comparison of values on a zero-based scale. For example, the height of a person is a ratio variable because it can be ordered, the intervals between the heights are equal, and the zero point on the scale (0 meters) is meaningful (it represents the absence of height)."
   ]
  },
  {
   "cell_type": "markdown",
   "id": "cfc2d4e0-3bf2-4281-b991-f6da8ef378ca",
   "metadata": {},
   "source": [
    "Q6. Why is it important to understand the level of measurement when analyzing data? Provide an\n",
    "example to illustrate your answer."
   ]
  },
  {
   "cell_type": "markdown",
   "id": "88fb2b70-e1c8-43b8-95ee-6fd29e6c15bc",
   "metadata": {},
   "source": [
    "\n",
    "It is important to understand the level of measurement when analyzing data because the level of measurement determines the type of statistical analysis that can be performed. For example, you cannot calculate the mean of a nominal variable, because the categories in a nominal variable do not have any inherent order."
   ]
  },
  {
   "cell_type": "markdown",
   "id": "d217a6b6-518d-47a3-97a3-6d979d7aa71f",
   "metadata": {},
   "source": [
    "Gender is a nominal variable. It is used to classify people into two categories: male and female. The categories in a nominal variable do not have any inherent order, so you cannot calculate the mean of a nominal variable.\n",
    "Ranking of students in a class is an ordinal variable. It allows for the ordering of data, but the intervals between the categories are not necessarily equal. For example, a student who is ranked first is not necessarily twice as good as a student who is ranked second. You can calculate the median of an ordinal variable, but you cannot calculate the mean.\n",
    "Temperature is an interval variable. It allows for the ordering of data and the calculation of meaningful intervals between the categories. For example, 20 degrees Celsius is twice as hot as 10 degrees Celsius. You can calculate the mean and the median of an interval variable.\n",
    "Height is a ratio variable. It allows for the ordering of data, the calculation of meaningful intervals between the categories, and the comparison of values on a zero-based scale. For example, a person who is 2 meters tall is twice as tall as a person who is 1 meter tall. You can calculate the mean, the median, and the ratio of a ratio variable."
   ]
  },
  {
   "cell_type": "markdown",
   "id": "6f9ef817-58c6-4d2a-9d5e-877f6e960447",
   "metadata": {},
   "source": [
    "Q7. How nominal data type is different from ordinal data type."
   ]
  },
  {
   "cell_type": "markdown",
   "id": "3ff33bc5-d07d-4ff3-9c5f-1f4459859675",
   "metadata": {},
   "source": [
    "Nominal data is the most basic level of measurement. It is used to classify data into categories that have no inherent order. For example, the gender of a person is a nominal variable because it can be either male or female, and there is no order to these categories.\n",
    "\n",
    "Gender (male, female)\n",
    "Eye color (brown, blue, green)\n",
    "Favorite color (red, blue, green, etc.)\n",
    "\n",
    "Ordinal data is a level of measurement that allows for the ordering of data. However, the intervals between the categories are not necessarily equal. For example, the ranking of students in a class is an ordinal variable because the students are ranked from first to last, but the intervals between the ranks are not necessarily equal.\n",
    "\n",
    "Ranking of students in a class (1st, 2nd, 3rd, etc.)\n",
    "Severity of pain (mild, moderate, severe)\n",
    "Customer satisfaction (very satisfied, satisfied, neutral, dissatisfied, very dissatisfied)\n"
   ]
  },
  {
   "cell_type": "markdown",
   "id": "3b8f6c68-b078-446a-8fc9-6e6a24393c42",
   "metadata": {},
   "source": [
    "Q8. Which type of plot can be used to display data in terms of range?"
   ]
  },
  {
   "cell_type": "markdown",
   "id": "62849c21-785f-4a59-b063-41ccb9d43175",
   "metadata": {},
   "source": [
    "Histogram is a graph that shows the distribution of data by dividing the data into intervals and then plotting the number of data points in each interval. The range of the data can be displayed by using different colors or shades to represent different ranges.\n",
    "\n",
    "Box plot is a graph that shows the distribution of data by plotting the minimum, maximum, median, and quartiles of the data. The range of the data can be displayed by using the difference between the minimum and maximum values.\n",
    "\n",
    "Range bar chart is a type of bar chart that shows the range of data for each category. The range of the data is displayed by plotting the difference between the maximum and minimum values for each category.\n",
    "\n",
    "\n"
   ]
  },
  {
   "cell_type": "markdown",
   "id": "f2197bd8-fbc1-45ce-a7a1-1b40bbb28017",
   "metadata": {},
   "source": [
    "Q9. Describe the difference between descriptive and inferential statistics. Give an example of each\n",
    "type of statistics and explain how they are used."
   ]
  },
  {
   "cell_type": "markdown",
   "id": "251b0dea-9ca7-4a40-9d78-38d61b66417c",
   "metadata": {},
   "source": [
    "Descriptive statistics are used to summarize data and describe its main features. This can be done using tables, graphs, and other visual representations. Some common descriptive statistics include measures of central tendency (mean, median, and mode), measures of variability (variance and standard deviation), and frequency distributions.\n",
    "\n",
    "Descriptive statistics can be used to summarize data about the height of students in a class. For example, you could calculate the mean height, the median height, and the standard deviation of the heights. You could also create a histogram to show the distribution of heights.\n",
    "\n",
    "\n",
    "\n",
    "\n",
    "Inferential statistics are used to make inferences about populations based on samples. This can be done using statistical tests, which are procedures for comparing samples to populations or to each other. Some common inferential statistics tests include the t-test, the chi-squared test, and the ANOVA.\n",
    "\n",
    "\n",
    "Inferential statistics can be used to make inferences about the height of all students in the school based on a sample of students. For example, you could use a t-test to compare the mean height of the sample to the mean height of the population.\n"
   ]
  },
  {
   "cell_type": "markdown",
   "id": "62d127a2-cc84-445b-84c2-f7c4f72c9a1c",
   "metadata": {},
   "source": [
    "Q10. What are some common measures of central tendency and variability used in statistics? Explain\n",
    "how each measure can be used to describe a dataset."
   ]
  },
  {
   "cell_type": "markdown",
   "id": "c13b0806-e2fe-466c-a8e1-3fa73d812f69",
   "metadata": {},
   "source": [
    "Measures of central tendency\n",
    "\n",
    "Mean: The mean is the average of all the values in a dataset. It is calculated by adding all the values in the dataset and then dividing by the number of values.\n",
    "Median: The median is the middle value in a dataset when all the values are ranked from least to greatest.\n",
    "Mode: The mode is the most frequent value in a dataset.\n",
    "Measures of variability\n",
    "\n",
    "Variance: The variance is a measure of how spread out the values in a dataset are. It is calculated by taking the average of the squared deviations from the mean.\n",
    "Standard deviation: The standard deviation is the square root of the variance. It is a more interpretable measure of variability than the variance because it is in the same units as the data."
   ]
  }
 ],
 "metadata": {
  "kernelspec": {
   "display_name": "Python 3 (ipykernel)",
   "language": "python",
   "name": "python3"
  },
  "language_info": {
   "codemirror_mode": {
    "name": "ipython",
    "version": 3
   },
   "file_extension": ".py",
   "mimetype": "text/x-python",
   "name": "python",
   "nbconvert_exporter": "python",
   "pygments_lexer": "ipython3",
   "version": "3.10.8"
  }
 },
 "nbformat": 4,
 "nbformat_minor": 5
}
