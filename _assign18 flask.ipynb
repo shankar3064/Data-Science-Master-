{
 "cells": [
  {
   "cell_type": "markdown",
   "id": "158c10c1-56f1-4895-86ef-3343f9151685",
   "metadata": {},
   "source": [
    "### Q1. What is Flask Framework? What are the advantages of Flask Framework?\n",
    "\n",
    "#### Flask is a lightweight web framework for building web applications in Python. It is designed to be simple and easy to use, with a minimalistic approach to web development. Flask is not an all-in-one solution, but rather a micro-framework that provides the core functionality needed for building web applications. Flask provides a set of tools and libraries that allow developers to quickly build web applications and APIs.\n",
    "\n",
    "#### Advantages of Flask Framework:\n",
    "\n",
    "#### Lightweight: Flask is a lightweight web framework, which makes it fast and easy to learn.\n",
    "\n",
    "#### Easy to Use: Flask is designed to be simple and easy to use, with a minimalistic approach to web development. It provides a small set of tools and libraries that allow developers to quickly build web applications and APIs.\n",
    "\n",
    "#### Flexible: Flask is very flexible and can be easily customized to meet the specific needs of your project. It is a great choice for building small to medium-sized web applications.\n",
    "\n",
    "#### Pythonic: Flask is built on Python, so it is easy for Python developers to learn and use. It follows the Pythonic style and conventions, making it very readable and easy to understand."
   ]
  },
  {
   "cell_type": "markdown",
   "id": "b60bbfd4-e437-4b89-abbe-31edffa8c844",
   "metadata": {},
   "source": [
    "### Q2. Create a simple Flask application to display ‘Hello World!!’. Attach the screenshot of the output in Jupyter Notebook.\n"
   ]
  },
  {
   "cell_type": "code",
   "execution_count": 2,
   "id": "c0c3f267-cffd-41dc-8488-1c330eba515a",
   "metadata": {},
   "outputs": [
    {
     "name": "stdout",
     "output_type": "stream",
     "text": [
      "Collecting flask\n",
      "  Downloading Flask-2.2.3-py3-none-any.whl (101 kB)\n",
      "\u001b[2K     \u001b[90m━━━━━━━━━━━━━━━━━━━━━━━━━━━━━━━━━━━━━━━\u001b[0m \u001b[32m101.8/101.8 kB\u001b[0m \u001b[31m1.1 MB/s\u001b[0m eta \u001b[36m0:00:00\u001b[0ma \u001b[36m0:00:01\u001b[0m\n",
      "\u001b[?25hCollecting Werkzeug>=2.2.2\n",
      "  Downloading Werkzeug-2.2.3-py3-none-any.whl (233 kB)\n",
      "\u001b[2K     \u001b[90m━━━━━━━━━━━━━━━━━━━━━━━━━━━━━━━━━━━━━━━\u001b[0m \u001b[32m233.6/233.6 kB\u001b[0m \u001b[31m3.8 MB/s\u001b[0m eta \u001b[36m0:00:00\u001b[0ma \u001b[36m0:00:01\u001b[0m\n",
      "\u001b[?25hRequirement already satisfied: click>=8.0 in /opt/conda/lib/python3.10/site-packages (from flask) (8.1.3)\n",
      "Requirement already satisfied: Jinja2>=3.0 in /opt/conda/lib/python3.10/site-packages (from flask) (3.1.2)\n",
      "Collecting itsdangerous>=2.0\n",
      "  Downloading itsdangerous-2.1.2-py3-none-any.whl (15 kB)\n",
      "Requirement already satisfied: MarkupSafe>=2.0 in /opt/conda/lib/python3.10/site-packages (from Jinja2>=3.0->flask) (2.1.1)\n",
      "Installing collected packages: Werkzeug, itsdangerous, flask\n",
      "Successfully installed Werkzeug-2.2.3 flask-2.2.3 itsdangerous-2.1.2\n",
      "Note: you may need to restart the kernel to use updated packages.\n"
     ]
    }
   ],
   "source": [
    "pip install flask"
   ]
  },
  {
   "cell_type": "code",
   "execution_count": null,
   "id": "b98521ac-4229-494c-8dc0-710ca7a80f07",
   "metadata": {},
   "outputs": [
    {
     "name": "stdout",
     "output_type": "stream",
     "text": [
      " * Serving Flask app '__main__'\n",
      " * Debug mode: off\n"
     ]
    },
    {
     "name": "stderr",
     "output_type": "stream",
     "text": [
      "WARNING: This is a development server. Do not use it in a production deployment. Use a production WSGI server instead.\n",
      " * Running on http://127.0.0.1:5000\n",
      "Press CTRL+C to quit\n"
     ]
    }
   ],
   "source": [
    "from flask import Flask\n",
    "\n",
    "app = Flask(__name__)\n",
    "\n",
    "@app.route(\"/\")\n",
    "def hello():\n",
    "    return \"Hello World!!\"\n",
    "\n",
    "if __name__ == \"__main__\":\n",
    "    app.run()\n"
   ]
  },
  {
   "cell_type": "markdown",
   "id": "2ce617cc-1a27-438c-bbbf-2e579d126c51",
   "metadata": {},
   "source": [
    "### Q3. What is App routing in Flask? Why do we use app routes?\n",
    "\n",
    "#### In Flask, app routing refers to the process of mapping a URL to a specific function in your application. When a user makes a request to your web application, Flask uses the URL provided by the user to determine which function should handle the request.\n",
    "\n",
    "#### The @app.route decorator is used to define routes in a Flask application. The decorator takes a URL pattern as an argument, and associates it with a Python function that will be executed when the URL is requested.\n",
    "#### @app.route('/')\n",
    "#### def index():\n",
    "####  return 'Hello, World!'\n",
    "#### We use app routes in Flask to create a well-organized and maintainable web application. By defining routes for different URLs, we can separate the functionality of our web application into different functions, making it easier to manage and update our code.\n",
    "\n",
    "#### App routes also allow us to create dynamic web applications, where the content of a web page changes based on user input or other variables. For example, we might create a route that takes a parameter from the user and returns a customized web page based on that parameter.\n",
    "\n",
    "#### Overall, app routing is a fundamental concept in Flask web development, allowing us to map URLs to specific functions and create dynamic and maintainable web applications."
   ]
  },
  {
   "cell_type": "markdown",
   "id": "9cbe7c40-26a5-429d-9128-64b9de7bf221",
   "metadata": {},
   "source": [
    "### Q4. Create a “/welcome” route to display the welcome message “Welcome to ABC Corporation” and a “/” route to show the following details: Company Name: ABC Corporation\n",
    "### Location: India\n",
    "#### Contact Detail: 999-999-9999\n",
    "\n"
   ]
  },
  {
   "cell_type": "code",
   "execution_count": null,
   "id": "064344b8-d8e0-4af0-9d0c-e6309b9c86bd",
   "metadata": {},
   "outputs": [],
   "source": [
    "from flask import Flask\n",
    "\n",
    "app = Flask(__name__)\n",
    "\n",
    "@app.route('/welcome')\n",
    "def welcome():\n",
    "    return 'Welcome to ABC Corporation'\n",
    "\n",
    "@app.route('/')\n",
    "def company_details():\n",
    "    return 'Company Name: ABC Corporation<br>Location: India<br>Contact Detail: 999-999-9999'\n",
    "\n",
    "if __name__ == '__main__':\n",
    "    app.run()\n"
   ]
  },
  {
   "cell_type": "markdown",
   "id": "2698e7f8-c49a-497b-bca6-827979ab052c",
   "metadata": {},
   "source": [
    "#### In this code, we have defined two routes in our Flask application. The first route (/welcome) returns the string \"Welcome to ABC Corporation\" when a user navigates to the URL http://localhost:5000/welcome in their web browser."
   ]
  },
  {
   "cell_type": "markdown",
   "id": "5205c736-2d01-462a-9916-ef68b4e34192",
   "metadata": {},
   "source": [
    "### Q5. What function is used in Flask for URL Building? Write a Python code to demonstrate the working of the url_for() function.\n",
    "\n",
    "#### In Flask, the url_for() function is used for URL building. It is a helpful function that generates a URL based on the endpoint and any arguments provided to it. The url_for() function ensures that the URLs are built according to the application's defined routes, making it a safer and more reliable way to generate URLs."
   ]
  },
  {
   "cell_type": "code",
   "execution_count": null,
   "id": "9a3393a5-3356-4fbf-8050-518d7b097535",
   "metadata": {},
   "outputs": [],
   "source": [
    "from flask import Flask, url_for\n",
    "\n",
    "app = Flask(__name__)\n",
    "\n",
    "@app.route('/')\n",
    "def home():\n",
    "    return 'Welcome to the Home Page!'\n",
    "\n",
    "@app.route('/about')\n",
    "def about():\n",
    "    return 'Welcome to the About Page!'\n",
    "\n",
    "@app.route('/contact')\n",
    "def contact():\n",
    "    return 'Welcome to the Contact Page!'\n",
    "\n",
    "if __name__ == '__main__':\n",
    "    with app.test_request_context():\n",
    "        print(url_for('home'))\n",
    "        print(url_for('about'))\n",
    "        print(url_for('contact'))\n"
   ]
  },
  {
   "cell_type": "markdown",
   "id": "d307d4f5-27b5-49e9-958b-6838e40ff900",
   "metadata": {},
   "source": [
    "#### When you run this code, you should see the generated URLs printed in the console:\n",
    "\n",
    "#### /\n",
    "####  /about\n",
    "#### /contact\n"
   ]
  },
  {
   "cell_type": "code",
   "execution_count": null,
   "id": "8d2ca74f-9014-4efd-ac09-1a4f71ef56d3",
   "metadata": {},
   "outputs": [],
   "source": []
  }
 ],
 "metadata": {
  "kernelspec": {
   "display_name": "Python 3 (ipykernel)",
   "language": "python",
   "name": "python3"
  },
  "language_info": {
   "codemirror_mode": {
    "name": "ipython",
    "version": 3
   },
   "file_extension": ".py",
   "mimetype": "text/x-python",
   "name": "python",
   "nbconvert_exporter": "python",
   "pygments_lexer": "ipython3",
   "version": "3.10.8"
  }
 },
 "nbformat": 4,
 "nbformat_minor": 5
}
