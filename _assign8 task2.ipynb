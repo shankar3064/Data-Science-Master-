{
 "cells": [
  {
   "cell_type": "markdown",
   "id": "824631a6-476f-445e-8caa-f5cf26d6aa1b",
   "metadata": {},
   "source": [
    "### Q1. You are writing code for a company. The requirement of the company is that you create a python\n",
    "### function that will check whether the password entered by the user is correct or not. The function should\n",
    "### take the password as input and return the string “Valid Password” if the entered password follows the\n",
    "### below-given password guidelines else it should return “Invalid Password”.\n",
    "### Note: 1. The Password should contain at least two uppercase letters and at least two lowercase letters.\n",
    "2. The Password should contain at least a number and three special characters.\n",
    "3. The length of the password should be 10 characters long."
   ]
  },
  {
   "cell_type": "code",
   "execution_count": 8,
   "id": "36f568fb-64e7-4046-aa90-da671d8d6e2e",
   "metadata": {},
   "outputs": [],
   "source": [
    "def check_password(password):\n",
    "    if len(password) != 10:\n",
    "        return \"Invalid Password\"\n",
    "    upper_count = len(re.findall(r'[A-Z]', password))\n",
    "    lower_count = len(re.findall(r'[a-z]', password))\n",
    "    num_count = len(re.findall(r'\\d', password))\n",
    "    special_count = len(re.findall(r'[!@#$%^&*(),.?\":{}|<>]', password))\n",
    "    if upper_count < 2 or lower_count < 2 or num_count < 1 or special_count < 3:\n",
    "        return \"Invalid Password\"\n",
    "    return \"Valid Password\""
   ]
  },
  {
   "cell_type": "code",
   "execution_count": 9,
   "id": "57bf58c4-7cef-4b33-bc4a-4219f128f059",
   "metadata": {},
   "outputs": [
    {
     "data": {
      "text/plain": [
       "<function __main__.check_password(password)>"
      ]
     },
     "execution_count": 9,
     "metadata": {},
     "output_type": "execute_result"
    }
   ],
   "source": [
    "check_password"
   ]
  },
  {
   "cell_type": "code",
   "execution_count": 12,
   "id": "3e201e1f-27f6-4a0f-aca8-3fd7c99c958a",
   "metadata": {},
   "outputs": [
    {
     "name": "stdout",
     "output_type": "stream",
     "text": [
      "<function check_password at 0x7f5668ff28c0>\n"
     ]
    }
   ],
   "source": [
    "print(check_password)"
   ]
  },
  {
   "cell_type": "markdown",
   "id": "2312439c-3153-44d6-8b03-b0c0076ee36f",
   "metadata": {},
   "source": [
    "#### Q2. Solve the below-given questions using at least one of the following:\n",
    "1. Lambda functioJ\n",
    "2. Filter functioJ\n",
    "3. Zap functioJ\n",
    "4. List ComprehensioI\n",
    "##### B Check if the string starts with a particular letterY\n",
    "##### B Check if the string is numericY\n",
    "##### B Sort a list of tuples having fruit names and their quantity. [(\"mango\",99),(\"orange\",80), (\"grapes\", 1000)-\n",
    "B Find the squares of numbers from 1 to 10Y\n",
    "B Find the cube root of numbers from 1 to 10Y\n",
    "B Check if a given number is evenY\n",
    "B Filter odd numbers from the given list.\n",
    "[1,2,3,4,5,6,7,8,9,10-\n",
    "B Sort a list of integers into positive and negative integers lists.\n",
    "[1,2,3,4,5,6,-1,-2,-3,-4,-5,0]"
   ]
  },
  {
   "cell_type": "markdown",
   "id": "c043d64f-5857-4da0-8e6b-73ec7b59f67c",
   "metadata": {},
   "source": [
    "#### 1.Check if the string starts with a particular letter:"
   ]
  },
  {
   "cell_type": "code",
   "execution_count": 13,
   "id": "0e39c2ce-77a6-4b39-b3d3-0fe521af6b4a",
   "metadata": {},
   "outputs": [
    {
     "name": "stdout",
     "output_type": "stream",
     "text": [
      "['apple']\n"
     ]
    }
   ],
   "source": [
    "string_list = [\"apple\", \"banana\", \"cherry\"]\n",
    "result = filter(lambda x: x.startswith(\"a\"), string_list)\n",
    "print(list(result))\n"
   ]
  },
  {
   "cell_type": "markdown",
   "id": "f107ac9e-ac48-4b85-a16c-89fa2d4054c5",
   "metadata": {},
   "source": [
    "### v2.Check if the string is numeric:"
   ]
  },
  {
   "cell_type": "code",
   "execution_count": 14,
   "id": "d6ba1a36-7542-42c5-a795-962b52bf0099",
   "metadata": {},
   "outputs": [
    {
     "name": "stdout",
     "output_type": "stream",
     "text": [
      "['123', '456']\n"
     ]
    }
   ],
   "source": [
    "string_list = [\"123\", \"abc\", \"456\"]\n",
    "result = filter(lambda x: x.isdigit(), string_list)\n",
    "print(list(result))\n"
   ]
  },
  {
   "cell_type": "markdown",
   "id": "bc343100-565e-475f-98d3-539b5042efec",
   "metadata": {},
   "source": [
    "### 3.Sort a list of tuples having fruit names and their quantity:\n"
   ]
  },
  {
   "cell_type": "code",
   "execution_count": 15,
   "id": "452f0d30-4e1c-4897-971a-56482d87975e",
   "metadata": {},
   "outputs": [
    {
     "name": "stdout",
     "output_type": "stream",
     "text": [
      "[('orange', 80), ('mango', 99), ('grapes', 1000)]\n"
     ]
    }
   ],
   "source": [
    "fruit_list = [(\"mango\",99),(\"orange\",80), (\"grapes\", 1000)]\n",
    "result = sorted(fruit_list, key=lambda x: x[1])\n",
    "print(result)\n"
   ]
  },
  {
   "cell_type": "markdown",
   "id": "8ea2fbf0-06bd-4ad3-8372-235da8992aad",
   "metadata": {},
   "source": [
    "### 4.Find the squares of numbers from 1 to 10:\n"
   ]
  },
  {
   "cell_type": "code",
   "execution_count": 16,
   "id": "205d4e0d-0c82-4f6a-a441-f15b6df73562",
   "metadata": {},
   "outputs": [
    {
     "name": "stdout",
     "output_type": "stream",
     "text": [
      "[1, 4, 9, 16, 25, 36, 49, 64, 81, 100]\n"
     ]
    }
   ],
   "source": [
    "numbers = [1, 2, 3, 4, 5, 6, 7, 8, 9, 10]\n",
    "result = list(map(lambda x: x**2, numbers))\n",
    "print(result)\n"
   ]
  },
  {
   "cell_type": "markdown",
   "id": "2b4e7dc7-a591-46b2-9245-171edc48e673",
   "metadata": {},
   "source": [
    "### 5.Find the cube root of numbers from 1 to 10:\n"
   ]
  },
  {
   "cell_type": "code",
   "execution_count": 17,
   "id": "4e89ae60-7804-4316-a5dc-c03cb48146e4",
   "metadata": {},
   "outputs": [
    {
     "name": "stdout",
     "output_type": "stream",
     "text": [
      "[1.0, 1.2599210498948732, 1.4422495703074083, 1.5874010519681994, 1.7099759466766968, 1.8171205928321397, 1.912931182772389, 2.0, 2.080083823051904, 2.154434690031884]\n"
     ]
    }
   ],
   "source": [
    "import math\n",
    "numbers = [1, 2, 3, 4, 5, 6, 7, 8, 9, 10]\n",
    "result = list(map(lambda x: math.pow(x, 1/3), numbers))\n",
    "print(result)\n"
   ]
  },
  {
   "cell_type": "markdown",
   "id": "9422a4eb-fc96-4cae-9a08-d1024542a5bb",
   "metadata": {},
   "source": [
    "### 6.Check if a given number is even:\n"
   ]
  },
  {
   "cell_type": "code",
   "execution_count": 18,
   "id": "608d82dc-bf25-4995-9876-47a8a74f03e8",
   "metadata": {},
   "outputs": [
    {
     "name": "stdout",
     "output_type": "stream",
     "text": [
      "[2, 4, 6, 8, 10]\n"
     ]
    }
   ],
   "source": [
    "numbers = [1, 2, 3, 4, 5, 6, 7, 8, 9, 10]\n",
    "result = list(filter(lambda x: x%2==0, numbers))\n",
    "print(result)\n"
   ]
  },
  {
   "cell_type": "markdown",
   "id": "53a0d5f6-43d2-45d5-a038-083f95a66a9f",
   "metadata": {},
   "source": [
    "### 7.Filter odd numbers from the given list:\n"
   ]
  },
  {
   "cell_type": "code",
   "execution_count": 19,
   "id": "b7c48842-12ff-4fa6-9fab-d75eb74c7216",
   "metadata": {},
   "outputs": [
    {
     "name": "stdout",
     "output_type": "stream",
     "text": [
      "[1, 3, 5, 7, 9]\n"
     ]
    }
   ],
   "source": [
    "numbers = [1, 2, 3, 4, 5, 6, 7, 8, 9, 10]\n",
    "result = list(filter(lambda x: x%2!=0, numbers))\n",
    "print(result)\n"
   ]
  },
  {
   "cell_type": "markdown",
   "id": "c723147d-ea9f-48f9-8bc1-b84b821abe93",
   "metadata": {},
   "source": [
    "### 8.Sort a list of integers into positive and negative integers lists:\n"
   ]
  },
  {
   "cell_type": "code",
   "execution_count": 20,
   "id": "2774cb1f-b26c-4e14-b565-f0a0ce988567",
   "metadata": {},
   "outputs": [
    {
     "name": "stdout",
     "output_type": "stream",
     "text": [
      "Positive numbers: [1, 2, 3, 4, 5, 6]\n",
      "Negative numbers: [-1, -2, -3, -4, -5]\n"
     ]
    }
   ],
   "source": [
    "numbers = [1, 2, 3, 4, 5, 6, -1, -2, -3, -4, -5, 0]\n",
    "positive = list(filter(lambda x: x > 0, numbers))\n",
    "negative = list(filter(lambda x: x < 0, numbers))\n",
    "print(\"Positive numbers:\", positive)\n",
    "print(\"Negative numbers:\", negative)\n"
   ]
  },
  {
   "cell_type": "code",
   "execution_count": null,
   "id": "241fa030-df6a-47be-ba8f-307fdada0f7e",
   "metadata": {},
   "outputs": [],
   "source": []
  }
 ],
 "metadata": {
  "kernelspec": {
   "display_name": "Python 3 (ipykernel)",
   "language": "python",
   "name": "python3"
  },
  "language_info": {
   "codemirror_mode": {
    "name": "ipython",
    "version": 3
   },
   "file_extension": ".py",
   "mimetype": "text/x-python",
   "name": "python",
   "nbconvert_exporter": "python",
   "pygments_lexer": "ipython3",
   "version": "3.10.8"
  }
 },
 "nbformat": 4,
 "nbformat_minor": 5
}
