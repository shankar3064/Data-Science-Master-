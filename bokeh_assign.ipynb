{
  "nbformat": 4,
  "nbformat_minor": 0,
  "metadata": {
    "colab": {
      "provenance": []
    },
    "kernelspec": {
      "name": "python3",
      "display_name": "Python 3"
    },
    "language_info": {
      "name": "python"
    }
  },
  "cells": [
    {
      "cell_type": "code",
      "execution_count": null,
      "metadata": {
        "id": "prOFr_WyIi1-"
      },
      "outputs": [],
      "source": []
    },
    {
      "cell_type": "markdown",
      "source": [
        "Q1. How can you create a Bokeh plot using Python code?\n",
        "\n",
        "answer:- Import the necessary Bokeh modules.\n",
        "Create a figure object.\n"
      ],
      "metadata": {
        "id": "sA6ANFXJJYyY"
      }
    },
    {
      "cell_type": "code",
      "source": [
        "import bokeh.plotting as bp\n",
        "\n",
        "fig = bp.figure(title=\"My First Bokeh Plot\")\n",
        "\n",
        "fig.line([1, 2, 3, 4, 5], [6, 7, 8, 9, 10])\n",
        "\n",
        "fig.xaxis.axis_label = \"X-axis\"\n",
        "fig.yaxis.axis_label = \"Y-axis\"\n",
        "\n",
        "bp.show(fig)\n"
      ],
      "metadata": {
        "id": "Rvy-nMQ_LRx7"
      },
      "execution_count": 2,
      "outputs": []
    },
    {
      "cell_type": "code",
      "source": [],
      "metadata": {
        "id": "1SnPWvlqLYlL"
      },
      "execution_count": null,
      "outputs": []
    },
    {
      "cell_type": "markdown",
      "source": [
        "Q2. What are glyphs in Bokeh, and how can you add them to a Bokeh plot? Explain with an example.\n",
        "\n",
        "answer:- In Bokeh, a glyph is a visual representation of data. Glyphs can be used to create a variety of plots, such as line plots, scatter plots, bar charts, and histograms."
      ],
      "metadata": {
        "id": "H2a3dKw4M45E"
      }
    },
    {
      "cell_type": "code",
      "source": [
        "import bokeh.plotting as bp\n",
        "fig = bp.figure(title=\"My First Bokeh Plot\")\n",
        "fig.line([1, 2, 3, 4, 5], [6, 7, 8, 9, 10])\n",
        "bp.show(fig)\n"
      ],
      "metadata": {
        "id": "fj04gbapM-7q"
      },
      "execution_count": 3,
      "outputs": []
    },
    {
      "cell_type": "code",
      "source": [],
      "metadata": {
        "id": "jeCp9wUUNCue"
      },
      "execution_count": null,
      "outputs": []
    },
    {
      "cell_type": "markdown",
      "source": [
        "Q3. How can you customize the appearance of a Bokeh plot, including the axes, title, and legend?\n",
        "\n",
        "answer:-Axes : You can customize the appearance of the axes by setting the properties of the xaxis and yaxis objects. For example, you can set the title of the axis, the label of the axis, and the range of the axis.\n",
        "Title : You can customize the title of the plot by setting the title property of the figure object.\n",
        "Legend : You can customize the legend of the plot by setting the properties of the legend object. For example, you can set the location of the legend, the title of the legend, and the labels of the legend items."
      ],
      "metadata": {
        "id": "wH8x8MLDNJEF"
      }
    },
    {
      "cell_type": "code",
      "source": [
        "import bokeh.plotting as bp\n",
        "\n",
        "fig = bp.figure(title=\"My First Bokeh Plot\")\n",
        "\n",
        "fig.line([1, 2, 3, 4, 5], [6, 7, 8, 9, 10])\n",
        "\n",
        "fig.xaxis.axis_label = \"X-axis\"\n",
        "fig.yaxis.axis_label = \"Y-axis\"\n",
        "\n",
        "fig.title = \"My Customized Bokeh Plot\"\n",
        "\n",
        "fig.legend.location = \"top_right\"\n",
        "\n",
        "fig.legend.title = \"Legend\"\n",
        "\n",
        "fig.legend.items = [(\"Line\", \"Line glyph\")]\n",
        "\n",
        "bp.show(fig)\n"
      ],
      "metadata": {
        "colab": {
          "base_uri": "https://localhost:8080/"
        },
        "id": "EfcniE2qNeM9",
        "outputId": "7abc2823-aefb-4240-c4fc-19dbf410d343"
      },
      "execution_count": 4,
      "outputs": [
        {
          "output_type": "stream",
          "name": "stderr",
          "text": [
            "/usr/local/lib/python3.10/dist-packages/bokeh/models/plots.py:815: UserWarning: \n",
            "You are attempting to set `plot.legend.location` on a plot that has zero legends added, this will have no effect.\n",
            "\n",
            "Before legend properties can be set, you must add a Legend explicitly, or call a glyph method with a legend parameter set.\n",
            "\n",
            "  warnings.warn(_LEGEND_EMPTY_WARNING % attr)\n",
            "/usr/local/lib/python3.10/dist-packages/bokeh/models/plots.py:815: UserWarning: \n",
            "You are attempting to set `plot.legend.title` on a plot that has zero legends added, this will have no effect.\n",
            "\n",
            "Before legend properties can be set, you must add a Legend explicitly, or call a glyph method with a legend parameter set.\n",
            "\n",
            "  warnings.warn(_LEGEND_EMPTY_WARNING % attr)\n",
            "/usr/local/lib/python3.10/dist-packages/bokeh/models/plots.py:815: UserWarning: \n",
            "You are attempting to set `plot.legend.items` on a plot that has zero legends added, this will have no effect.\n",
            "\n",
            "Before legend properties can be set, you must add a Legend explicitly, or call a glyph method with a legend parameter set.\n",
            "\n",
            "  warnings.warn(_LEGEND_EMPTY_WARNING % attr)\n"
          ]
        }
      ]
    },
    {
      "cell_type": "code",
      "source": [],
      "metadata": {
        "id": "E7ZkSwQSNm6-"
      },
      "execution_count": null,
      "outputs": []
    },
    {
      "cell_type": "markdown",
      "source": [
        "Q4. What is a Bokeh server, and how can you use it to create interactive plots that can be updated in\n",
        "real time?\n",
        "answer:- A Bokeh server is a web application that can be used to serve Bokeh plots. Bokeh plots are interactive, which means that users can interact with them in real time. For example, users can zoom in and out of plots, pan plots, and change the data that is being plotted."
      ],
      "metadata": {
        "id": "727YTkVeNsdL"
      }
    },
    {
      "cell_type": "code",
      "source": [
        "import bokeh.plotting as bp\n",
        "import bokeh.server as bs\n",
        "\n",
        "fig = bp.figure(title=\"My First Bokeh Plot\")\n",
        "\n",
        "fig.line([1, 2, 3, 4, 5], [6, 7, 8, 9, 10])\n",
        "\n",
        "server = bs.Server(port=5000, directory=\".\")\n",
        "\n",
        "server.start()\n",
        "\n",
        "server.show(fig)\n"
      ],
      "metadata": {
        "colab": {
          "base_uri": "https://localhost:8080/",
          "height": 235
        },
        "id": "sk8MV90wNxk5",
        "outputId": "919d20ee-a39f-4c03-e923-1c6d01f44d7b"
      },
      "execution_count": 5,
      "outputs": [
        {
          "output_type": "error",
          "ename": "AttributeError",
          "evalue": "ignored",
          "traceback": [
            "\u001b[0;31m---------------------------------------------------------------------------\u001b[0m",
            "\u001b[0;31mAttributeError\u001b[0m                            Traceback (most recent call last)",
            "\u001b[0;32m<ipython-input-5-bf286682c1c7>\u001b[0m in \u001b[0;36m<cell line: 8>\u001b[0;34m()\u001b[0m\n\u001b[1;32m      6\u001b[0m \u001b[0mfig\u001b[0m\u001b[0;34m.\u001b[0m\u001b[0mline\u001b[0m\u001b[0;34m(\u001b[0m\u001b[0;34m[\u001b[0m\u001b[0;36m1\u001b[0m\u001b[0;34m,\u001b[0m \u001b[0;36m2\u001b[0m\u001b[0;34m,\u001b[0m \u001b[0;36m3\u001b[0m\u001b[0;34m,\u001b[0m \u001b[0;36m4\u001b[0m\u001b[0;34m,\u001b[0m \u001b[0;36m5\u001b[0m\u001b[0;34m]\u001b[0m\u001b[0;34m,\u001b[0m \u001b[0;34m[\u001b[0m\u001b[0;36m6\u001b[0m\u001b[0;34m,\u001b[0m \u001b[0;36m7\u001b[0m\u001b[0;34m,\u001b[0m \u001b[0;36m8\u001b[0m\u001b[0;34m,\u001b[0m \u001b[0;36m9\u001b[0m\u001b[0;34m,\u001b[0m \u001b[0;36m10\u001b[0m\u001b[0;34m]\u001b[0m\u001b[0;34m)\u001b[0m\u001b[0;34m\u001b[0m\u001b[0;34m\u001b[0m\u001b[0m\n\u001b[1;32m      7\u001b[0m \u001b[0;34m\u001b[0m\u001b[0m\n\u001b[0;32m----> 8\u001b[0;31m \u001b[0mserver\u001b[0m \u001b[0;34m=\u001b[0m \u001b[0mbs\u001b[0m\u001b[0;34m.\u001b[0m\u001b[0mServer\u001b[0m\u001b[0;34m(\u001b[0m\u001b[0mport\u001b[0m\u001b[0;34m=\u001b[0m\u001b[0;36m5000\u001b[0m\u001b[0;34m,\u001b[0m \u001b[0mdirectory\u001b[0m\u001b[0;34m=\u001b[0m\u001b[0;34m\".\"\u001b[0m\u001b[0;34m)\u001b[0m\u001b[0;34m\u001b[0m\u001b[0;34m\u001b[0m\u001b[0m\n\u001b[0m\u001b[1;32m      9\u001b[0m \u001b[0;34m\u001b[0m\u001b[0m\n\u001b[1;32m     10\u001b[0m \u001b[0mserver\u001b[0m\u001b[0;34m.\u001b[0m\u001b[0mstart\u001b[0m\u001b[0;34m(\u001b[0m\u001b[0;34m)\u001b[0m\u001b[0;34m\u001b[0m\u001b[0;34m\u001b[0m\u001b[0m\n",
            "\u001b[0;31mAttributeError\u001b[0m: module 'bokeh.server' has no attribute 'Server'"
          ]
        }
      ]
    },
    {
      "cell_type": "code",
      "source": [],
      "metadata": {
        "id": "V59CR5PrN3fm"
      },
      "execution_count": null,
      "outputs": []
    },
    {
      "cell_type": "markdown",
      "source": [
        "Q5. How can you embed a Bokeh plot into a web page or dashboard using Flask or Django?\n",
        "\n",
        "answer:-\n",
        "Bokeh is an interactive visualization library that helps us to create a visual representation of data set and interact with it. You can create various types of visualizations such as bar charts, horizontal plots,time-series, etc. There are various methods to include Bokeh apps and widgets into web apps and pages.  \n",
        "\n",
        "In this tutorial, we are going to create a basic bokeh graph and embed it into our Django web app. For that, we will be importing components from bokeh.embed which returns the individual components. The function bokeh.embed.components() returns a script that contains that data for your plot with a <div> tag in which the plot view is loaded. We will look in detail at the step-by-step procedure.\n",
        "\n",
        "Step 1: Setting up a basic Django project\n",
        "For this project, we are using PyCharm IDE. PyCharm is one of the most popular IDE used for the python Scripting language.\n",
        "\n",
        "Open PyCharm and create a new project and save it as BokehProject.\n",
        "Go to the terminal and install Django using the command:\n",
        "pip install django\n",
        "In the same way, we will install bokeh in our project as:\n",
        "pip install bokeh\n",
        "Step 2: Create the Django project  \n",
        "Create a Django project using the following command:\n",
        "django-admin startproject BokehDjango\n",
        "Change the project folder using the below command:\n",
        "cd BokehDjango\n",
        "Run manage.py to initially migrate data changes to our project by using migrate as below\n",
        "python manage.py migrate\n",
        "Create a superuser using the following command to create a superuser account\n",
        "python manage.py createsuperuser  "
      ],
      "metadata": {
        "id": "uKku3hldN8bg"
      }
    },
    {
      "cell_type": "code",
      "source": [],
      "metadata": {
        "id": "I5mHac2_QC0S"
      },
      "execution_count": null,
      "outputs": []
    }
  ]
}