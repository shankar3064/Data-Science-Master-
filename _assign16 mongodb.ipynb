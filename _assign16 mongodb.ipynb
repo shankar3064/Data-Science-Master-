{
 "cells": [
  {
   "cell_type": "markdown",
   "id": "dd38694d-2be0-464f-857f-e4ec71183109",
   "metadata": {},
   "source": [
    "### Q1. What is MongoDB? Explain non-relational databases in short. In which scenarios it is preferred to use MongoDB over SQL databases?\n",
    "\n",
    "#### MongoDB is a popular open-source document-oriented NoSQL database that stores data in a flexible, JSON-like format called BSON. It was designed to be highly scalable and flexible, making it a popular choice for modern web and mobile applications.\n",
    "\n",
    "#### Non-relational databases, or NoSQL databases, are databases that do not use the traditional tabular relations found in relational databases. Instead, they use a variety of different data models to store and retrieve data, including document-oriented databases, key-value stores, graph databases, and more. NoSQL databases are often designed to be more flexible and scalable than traditional relational databases, which can be important in modern applications that require the ability to store and retrieve large amounts of data quickly and efficiently.\n",
    "\n",
    "#### There are several scenarios in which MongoDB is preferred over traditional SQL databases:\n",
    "\n",
    "#### Flexible Data Model: MongoDB is a document-oriented database, which means that it allows developers to store data in a flexible, schema-free format. This makes it easy to adapt to changing data requirements and add new fields to the data model without needing to modify the schema.\n",
    "\n",
    "#### Scalability: MongoDB is designed to be highly scalable, which means that it can handle large amounts of data and high levels of traffic without slowing down or breaking. It can also be easily distributed across multiple servers or clusters for even greater scalability.\n",
    "\n",
    "#### Performance: MongoDB can offer better performance than traditional SQL databases in certain scenarios, especially when dealing with large amounts of unstructured or semi-structured data.\n",
    "\n",
    "#### Development Speed: MongoDB's flexible data model and ease of use can make it faster to develop and deploy applications, especially for small or medium-sized projects.\n",
    "\n",
    "#### Cloud Integration: MongoDB is a popular choice for cloud-based applications, and is available as a fully managed cloud database service from several major cloud providers, including AWS, Google Cloud, and Microsoft Azure."
   ]
  },
  {
   "cell_type": "markdown",
   "id": "15a0a8e5-083d-4af0-bb4d-2eea96ce3fb6",
   "metadata": {},
   "source": [
    "### Q2. State and Explain the features of MongoDB.\n",
    "\n",
    "#### MongoDB is a popular NoSQL document-oriented database that offers a number of features that make it a popular choice for modern web and mobile applications. Some of the key features of MongoDB are:\n",
    "\n",
    "#### Document-oriented data model: MongoDB uses a document-oriented data model, which allows developers to store data in a flexible, JSON-like format called BSON. This makes it easy to store and query data in a way that is natural and intuitive for developers.\n",
    "\n",
    "#### High scalability: MongoDB is designed to be highly scalable, both in terms of data volume and throughput. It supports horizontal scaling through sharding, which allows data to be distributed across multiple servers or clusters for improved performance and availability.\n",
    "\n",
    "#### High availability: MongoDB provides automatic failover and replication, which ensures that data is always available, even in the event of a hardware or network failure.\n",
    "\n",
    "#### Rich query language: MongoDB's query language supports a wide range of operators and expressions, which makes it easy to search and retrieve data based on complex criteria.\n",
    "\n",
    "#### Flexible data model: MongoDB's document-oriented data model is schema-free, which means that it can easily accommodate changes to the data model without the need for complex migrations.\n",
    "\n",
    "#### Indexing and aggregation: MongoDB provides a range of indexing and aggregation features, including multi-key indexing, text search, and geospatial indexing, which makes it easy to search and analyze large volumes of data.\n",
    "\n",
    "#### Powerful aggregation framework: MongoDB's aggregation framework provides a powerful set of tools for data aggregation and analysis, including support for data grouping, filtering, and transformation.\n",
    "\n",
    "#### Native support for JSON: MongoDB's document-oriented data model uses a binary format called BSON, which is a superset of JSON. This means that MongoDB can easily integrate with other JSON-based systems, such as web APIs and JavaScript applications."
   ]
  },
  {
   "cell_type": "markdown",
   "id": "beb6ff98-cb1d-4bd8-b219-dcc937d7e75b",
   "metadata": {},
   "source": [
    "### Q3. Write a code to connect MongoDB to Python. Also, create a database and a collection in MongoDB.\n",
    "\n"
   ]
  },
  {
   "cell_type": "code",
   "execution_count": null,
   "id": "e8145ae6-3c00-4ff0-960f-75b07ae41c13",
   "metadata": {},
   "outputs": [],
   "source": [
    "# Import the pymongo library\n",
    "import pymongo\n",
    "\n",
    "# Connect to the MongoDB server\n",
    "client = pymongo.MongoClient(\"mongodb://localhost:27017/\")\n",
    "\n",
    "# Create a database\n",
    "db = client[\"mydatabase\"]\n",
    "\n",
    "# Create a collection\n",
    "mycol = db[\"customers\"]\n",
    "\n",
    "# Add some data to the collection\n",
    "data = { \"name\": \"John\", \"address\": \"Highway 37\" }\n",
    "mycol.insert_one(data)\n",
    "\n",
    "# Retrieve the data from the collection\n",
    "result = mycol.find_one()\n",
    "\n",
    "# Print the data\n",
    "print(result)\n"
   ]
  },
  {
   "cell_type": "markdown",
   "id": "c44e5bc7-180b-417b-afae-e6ef9516cf88",
   "metadata": {},
   "source": [
    "### In this example, we first import the pymongo library, which provides the tools we need to connect to MongoDB from Python. We then connect to the MongoDB server using the pymongo.MongoClient() method and specify the URL for the server (in this case, localhost:27017)."
   ]
  },
  {
   "cell_type": "markdown",
   "id": "162c4e0b-84f9-4162-ab3c-bda5456ab318",
   "metadata": {},
   "source": [
    "### Q4. Using the database and the collection created in question number 3, write a code to insert one record,\n",
    "### and insert many records. Use the find() and find_one() methods to print the inserted record.\n",
    "\n",
    "#### customers collection in the mydatabase database, and then use the find() and find_one() methods to print the inserted record:"
   ]
  },
  {
   "cell_type": "code",
   "execution_count": null,
   "id": "b3c179d4-7170-4a63-8fea-075bbb92c725",
   "metadata": {},
   "outputs": [],
   "source": [
    "# Import the pymongo library\n",
    "import pymongo\n",
    "\n",
    "# Connect to the MongoDB server\n",
    "client = pymongo.MongoClient(\"mongodb://localhost:27017/\")\n",
    "\n",
    "# Create a database\n",
    "db = client[\"mydatabase\"]\n",
    "\n",
    "# Create a collection\n",
    "mycol = db[\"customers\"]\n",
    "\n",
    "# Insert one record\n",
    "data = { \"name\": \"pwskill\", \"address\": \"789 india\" }\n",
    "result = mycol.insert_one(data)\n",
    "\n",
    "# Print the inserted record\n",
    "print(\"Inserted record ID:\", result.inserted_id)\n",
    "\n",
    "# Insert many records\n",
    "data_list = [\n",
    "    { \"name\": \"shankar\", \"address\": \"123 pune\" },\n",
    "    { \"name\": \"atharva\", \"address\": \"456 pune\" },\n",
    "    { \"name\": \"prishit\", \"address\": \"789pune\" }\n",
    "]\n",
    "result = mycol.insert_many(data_list)\n",
    "\n",
    "# Print the inserted records\n",
    "print(\"Inserted record IDs:\", result.inserted_ids)\n",
    "\n",
    "# Find one record\n",
    "result = mycol.find_one({ \"name\": \"pwskill\" })\n",
    "print(\"Found one record:\", result)\n",
    "\n",
    "# Find all records\n",
    "results = mycol.find()\n",
    "print(\"Found all records:\")\n",
    "for result in results:\n",
    "    print(result)\n"
   ]
  },
  {
   "cell_type": "markdown",
   "id": "c7156ebe-b782-48a7-81c5-5fc92319699f",
   "metadata": {},
   "source": [
    "### Q5. Explain how you can use the find() method to query the MongoDB database. Write a simple code to demonstrate this.\n",
    "\n",
    "#### The find() method is used to query the MongoDB database for documents that match a specified set of criteria. The method returns a cursor object that can be used to iterate over the results of the query.\n",
    "\n",
    "#### The find() method takes an optional parameter that specifies the criteria for the query. This parameter is a dictionary that contains one or more key-value pairs, where each key represents a field in the document and each value represents the value to match.\n",
    "\n",
    "#### Here is an example Python code that demonstrates how to use the find() method to query the customers collection in the mydatabase database for all documents where the address field contains the string \"Street\":"
   ]
  },
  {
   "cell_type": "markdown",
   "id": "cc22c16c-6675-4578-bd5d-72f3ee00cde4",
   "metadata": {},
   "source": [
    "### Q6. Explain the sort() method. Give an example to demonstrate sorting in MongoDB.\n",
    "\n",
    "#### The sort() method is used to sort the results of a MongoDB query in ascending or descending order based on one or more fields in the documents. The method takes an optional parameter that specifies the field or fields to sort by, as well as the order of the sort (ascending or descending).\n"
   ]
  },
  {
   "cell_type": "code",
   "execution_count": null,
   "id": "4ec363fb-2147-49e7-a0f0-cd49f880a259",
   "metadata": {},
   "outputs": [],
   "source": [
    "# Import the pymongo library\n",
    "import pymongo\n",
    "\n",
    "# Connect to the MongoDB server\n",
    "client = pymongo.MongoClient(\"mongodb://localhost:27017/\")\n",
    "\n",
    "# Create a database\n",
    "db = client[\"mydatabase\"]\n",
    "\n",
    "# Create a collection\n",
    "mycol = db[\"customers\"]\n",
    "\n",
    "# Query the collection and sort the results\n",
    "query = { \"address\": { \"abcccc\": \"Street\" } }\n",
    "results = mycol.find(query).sort(\"name\", 1)\n",
    "\n",
    "# Print the sorted results\n",
    "for result in results:\n",
    "    print(result)\n"
   ]
  },
  {
   "cell_type": "markdown",
   "id": "2e1b339c-56d9-4c0b-85f7-22e5b8e3b128",
   "metadata": {},
   "source": [
    "### Q7. Explain why delete_one(), delete_many(), and drop() is used.\n",
    "\n",
    "#### In MongoDB, delete_one(), delete_many(), and drop() are used to delete documents or collections from a database.\n",
    "\n",
    "#### delete_one() is used to delete a single document that matches the specified filter. For example, you might use delete_one() to delete a user's account from a database when the user requests to delete their account. In this case, you would use a filter that matches the user's account based on their unique identifier.\n",
    "\n",
    "#### delete_many() is used to delete multiple documents that match the specified filter. For example, you might use delete_many() to delete all documents from a collection that are older than a certain date. In this case, you would use a filter that matches all documents with a date field that is older than the specified date.\n",
    "\n",
    "#### drop() is used to delete an entire collection from a database. This is useful when you no longer need a collection or want to start fresh with a new collection. For example, you might use drop() to delete a temporary collection that you created for testing purposes."
   ]
  },
  {
   "cell_type": "code",
   "execution_count": null,
   "id": "36207e2e-c49c-4a58-af52-1a2bb2b1b1a4",
   "metadata": {},
   "outputs": [],
   "source": []
  }
 ],
 "metadata": {
  "kernelspec": {
   "display_name": "Python 3 (ipykernel)",
   "language": "python",
   "name": "python3"
  },
  "language_info": {
   "codemirror_mode": {
    "name": "ipython",
    "version": 3
   },
   "file_extension": ".py",
   "mimetype": "text/x-python",
   "name": "python",
   "nbconvert_exporter": "python",
   "pygments_lexer": "ipython3",
   "version": "3.10.8"
  }
 },
 "nbformat": 4,
 "nbformat_minor": 5
}
