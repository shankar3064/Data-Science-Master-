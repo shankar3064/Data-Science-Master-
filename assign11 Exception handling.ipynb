{
 "cells": [
  {
   "cell_type": "markdown",
   "id": "22b861ed-a6df-4ce2-b2a2-b0b343c5d706",
   "metadata": {},
   "source": [
    "### Q1.what is an exception handling in python? write the difference between exception and syntax errors\n",
    "\n",
    "#### ANS:-  In Python, an exception is a runtime error that occurs when something unexpected happens during the execution of a program. Python provides a built-in mechanism called \"exception handling\" to handle such errors and prevent them from causing the program to crash.When an exception occurs, Python generates an error message and stops the program from executing further. With exception handling, you can catch these errors and take appropriate actions, such as logging the error, displaying a message to the user, or retrying the operation.\n",
    "#### The main difference between syntax errors and exceptions is that syntax errors are caught by the interpreter during the compilation stage, while exceptions are caught by the program during runtime. Syntax errors are usually caused by incorrect syntax or typographical errors, while exceptions are caused by unexpected conditions or events that occur during the execution of the program."
   ]
  },
  {
   "cell_type": "markdown",
   "id": "0791345b-61d4-4c5b-907f-9a9faa427ccb",
   "metadata": {},
   "source": [
    "### Q2. What happens when an exception is not handled? Explin with an exmple\n",
    "\n",
    "#### When an exception is not handled in Python, the program will terminate immediately and display an error message indicating the type of exception and where it occurred in the program. This behavior can cause unexpected results and make it difficult to debug the program."
   ]
  },
  {
   "cell_type": "code",
   "execution_count": null,
   "id": "5ace4036-a474-4f1f-944f-33f793bf7f00",
   "metadata": {},
   "outputs": [],
   "source": [
    "try:\n",
    "    a = 10\n",
    "    b = 0\n",
    "    c = a / b\n",
    "except ValueError:\n",
    "    print(\"This is a ValueError.\")\n"
   ]
  },
  {
   "cell_type": "markdown",
   "id": "47599fa6-b394-45fa-bc8f-0ec45cb06da6",
   "metadata": {},
   "source": [
    "### This error message tells us that the program encountered a ZeroDivisionError exception on line 4, where we attempted to divide 10 by 0. Since we did not handle this exception, the program terminated with an error message.To avoid unexpected termination of the program and to make it more robust, it is important to handle all possible exceptions that can occur in the program."
   ]
  },
  {
   "cell_type": "markdown",
   "id": "bd620adb-8d3f-47e8-954a-fef4938f3746",
   "metadata": {},
   "source": [
    "### Q3.which python statement are used to catch and handle exception ? explain with an example.\n",
    "\n",
    "#### In Python, we use the try and except statements to catch and handle exceptions. The try statement allows you to define a block of code in which exceptions may occur, and the except statement defines a block of code that will be executed if an exception is raised within the try block."
   ]
  },
  {
   "cell_type": "markdown",
   "id": "53900d27-e6bd-44bf-8808-4c9054c9462d",
   "metadata": {},
   "source": [
    "try:\n",
    "    x = int(input(\"Enter a number: \"))\n",
    "    y = int(input(\"Enter another number: \"))\n",
    "    z = x / y\n",
    "    print(\"The result is:\", z)\n",
    "except ZeroDivisionError:\n",
    "    print(\"Error: Cannot divide by zero.\")\n",
    "except ValueError:\n",
    "    print(\"Error: Invalid input.\")\n"
   ]
  },
  {
   "cell_type": "markdown",
   "id": "60a0bd43-ecd8-409c-bc35-9df74b0c81fd",
   "metadata": {},
   "source": [
    "### Q4.  explain with an example \n",
    "### try and else\n",
    "### finally \n",
    "###  raise\n",
    "\n",
    "#### (A)try and else statement:\n",
    "#### In Python, we can use the else statement along with try and except to define a block of code that will be executed if no exceptions are raised in the try block.\n",
    "\n",
    "#### (B)finally statement:\n",
    "#### The finally statement is used to define a block of code that will be executed regardless of whether an exception is raised in the try block.\n",
    "\n",
    "#### (C)raise statement:\n",
    "#### The raise statement is used to explicitly raise an exception in a Python program"
   ]
  },
  {
   "cell_type": "markdown",
   "id": "ecf15d8e-e35c-4168-a927-3fb762bb8b90",
   "metadata": {},
   "source": [
    "### (A)try and else statement:"
   ]
  },
  {
   "cell_type": "code",
   "execution_count": null,
   "id": "5f27e427-eabd-4996-a24e-3da8e6de1082",
   "metadata": {},
   "outputs": [],
   "source": [
    "try:\n",
    "    x = int(input(\"Enter a number: \"))\n",
    "    y = int(input(\"Enter another number: \"))\n",
    "    z = x / y\n",
    "except ZeroDivisionError:\n",
    "    print(\"Error: Cannot divide by zero.\")\n",
    "else:\n",
    "    print(\"The result is:\", z)\n"
   ]
  },
  {
   "cell_type": "markdown",
   "id": "df5c3fc5-4350-4390-bd2e-7ca190bd3cf8",
   "metadata": {},
   "source": [
    "### (B)finally statement:"
   ]
  },
  {
   "cell_type": "code",
   "execution_count": null,
   "id": "2330244e-d3d3-4a66-a401-80e866c676d9",
   "metadata": {},
   "outputs": [],
   "source": [
    "try:\n",
    "    f = open(\"example.txt\", \"r\")\n",
    "    print(f.read())\n",
    "except:\n",
    "    print(\"Error: Could not read file.\")\n",
    "finally:\n",
    "    f.close()\n"
   ]
  },
  {
   "cell_type": "markdown",
   "id": "d270d9a7-b5ca-4eaf-a9fc-865acd24c9e7",
   "metadata": {},
   "source": [
    "### (C)raise statement"
   ]
  },
  {
   "cell_type": "code",
   "execution_count": null,
   "id": "696cc0a5-83de-4c67-ab9a-3410687865be",
   "metadata": {},
   "outputs": [],
   "source": [
    "x = 10\n",
    "if x < 0:\n",
    "    raise Exception(\"Number is negative.\")\n",
    "else:\n",
    "    print(\"Number is positive.\")\n"
   ]
  },
  {
   "cell_type": "markdown",
   "id": "819f0ac3-137c-435c-8a44-7981c72c1196",
   "metadata": {},
   "source": [
    "### Q5.what are the custom exception in python ? why do we need custom exception ? explain with an example.\n",
    "#### In Python, custom exceptions are user-defined exceptions that can be raised in a program to indicate specific error conditions. We need custom exceptions to provide more detailed information about the errors that occur in our program, making it easier to debug and troubleshoot issues.\n",
    "#### By using custom exceptions, we can provide more detailed information about the errors that occur in our program, making it easier to debug and troubleshoot issues. Custom exceptions can also be used to organize and classify errors in a program, making it easier to handle them using try and except statements."
   ]
  },
  {
   "cell_type": "code",
   "execution_count": null,
   "id": "030547ab-0929-4532-b91d-8f080031c77b",
   "metadata": {},
   "outputs": [],
   "source": [
    "x = 10\n",
    "if x < 0:\n",
    "    raise MyCustomError(\"Number is negative.\")\n",
    "else:\n",
    "    print(\"Number is positive.\")\n"
   ]
  },
  {
   "cell_type": "markdown",
   "id": "db5c8559-fbed-4eaf-baaf-11026123afbf",
   "metadata": {},
   "source": [
    "### Q6.create a custom exception class use this class to handle an exception\n",
    "#### "
   ]
  },
  {
   "cell_type": "code",
   "execution_count": null,
   "id": "84236c12-c4c1-4232-a5f5-2d9bf2fa7916",
   "metadata": {},
   "outputs": [],
   "source": [
    "def validate_age(age):\n",
    "    if age < 0 :\n",
    "        raise validateage(\"age should not be lesser than zero\")\n",
    "    elif age > 200:\n",
    "        raise validateage(\"age to high\")\n",
    "    else:\n",
    "        print(\"age is valid\")\n",
    "    try :\n",
    "    age = int(input(\"enter your age : \"))\n",
    "    validate_age(age)\n",
    "except validateage as e :\n",
    "    print(e)"
   ]
  },
  {
   "cell_type": "code",
   "execution_count": null,
   "id": "25f2f2ec-5fe6-4bf3-8fed-92b47d5a951d",
   "metadata": {},
   "outputs": [],
   "source": [
    " "
   ]
  },
  {
   "cell_type": "code",
   "execution_count": null,
   "id": "3546f6ef-2d28-44c9-ae65-0295b243f0f8",
   "metadata": {},
   "outputs": [],
   "source": []
  }
 ],
 "metadata": {
  "kernelspec": {
   "display_name": "Python 3 (ipykernel)",
   "language": "python",
   "name": "python3"
  },
  "language_info": {
   "codemirror_mode": {
    "name": "ipython",
    "version": 3
   },
   "file_extension": ".py",
   "mimetype": "text/x-python",
   "name": "python",
   "nbconvert_exporter": "python",
   "pygments_lexer": "ipython3",
   "version": "3.10.8"
  }
 },
 "nbformat": 4,
 "nbformat_minor": 5
}
