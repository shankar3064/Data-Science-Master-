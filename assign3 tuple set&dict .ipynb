{
 "cells": [
  {
   "cell_type": "markdown",
   "id": "5d87288a-0d0b-44af-af26-f74efe6817ee",
   "metadata": {},
   "source": [
    " ### Q1. What are the characteristics of the tuples? Is tuple immutable? \n",
    " \n",
    " ##### Ans:-Tuples are ordered, immutable collections of elements of any type.\n",
    "##### Elements in a tuple can be of different data types.\n",
    "##### Tuples use parentheses to denote its elements, whereas lists use square brackets.\n",
    "##### Once created, the elements of a tuple cannot be modified.\n",
    "##### Yes, tuples are immutable."
   ]
  },
  {
   "cell_type": "markdown",
   "id": "066de6fe-dcb4-444e-8770-16c711bce7ac",
   "metadata": {},
   "source": [
    "### Q2. What are the two tuple methods in python? Give an example of each method. Give a reason why  tuples have only two in-built methods as compared to Lists. \n",
    "\n",
    "##### Ans:- The two built-in methods in Python tuples are:\n",
    "\n",
    "###### count(): This method returns the number of times a specified value occurs in a tuple.\n",
    "###### Example:\n",
    "\n"
   ]
  },
  {
   "cell_type": "code",
   "execution_count": 1,
   "id": "2d0bfe7e-d04c-446b-ac26-eed4a83dddd7",
   "metadata": {},
   "outputs": [
    {
     "data": {
      "text/plain": [
       "2"
      ]
     },
     "execution_count": 1,
     "metadata": {},
     "output_type": "execute_result"
    }
   ],
   "source": [
    "t = (1, 2, 3, 2, 1)\n",
    "t.count(2)\n",
    "2\n"
   ]
  },
  {
   "cell_type": "markdown",
   "id": "08a4bc62-1ea0-4176-a94c-fe10e5116e26",
   "metadata": {},
   "source": [
    "##### index(): This method returns the index of the first occurrence of a specified value in a tuple.\n",
    "##### Example:"
   ]
  },
  {
   "cell_type": "code",
   "execution_count": 3,
   "id": "b4ac6e00-622f-4552-88aa-48242564dc32",
   "metadata": {},
   "outputs": [
    {
     "data": {
      "text/plain": [
       "1"
      ]
     },
     "execution_count": 3,
     "metadata": {},
     "output_type": "execute_result"
    }
   ],
   "source": [
    "t = (1, 2, 3, 2, 1)\n",
    "t.index(1)\n",
    "1\n"
   ]
  },
  {
   "cell_type": "markdown",
   "id": "5d2686b3-c4d3-4383-b14a-eadf16336ae2",
   "metadata": {},
   "source": [
    "##### Tuples have only two built-in methods because they are meant to be simple, immutable collections of values, and are not intended for frequent modification. The main use cases for tuples are for use as elements in other data structures, for passing multiple values between functions and as a means of grouping values. The two built-in methods provide basic functionality for working with the values in a tuple, but do not provide the more advanced functionality that is provided by lists.\n"
   ]
  },
  {
   "cell_type": "markdown",
   "id": "f3805ea3-0f43-41f1-8e89-606a7b9c4777",
   "metadata": {},
   "source": [
    "#### Q3.  Which collection datatypes in python do not allow duplicate items? Write a code using a set to remove  duplicates from the given list. \n",
    "#### List = [1, 1, 1, 2, 1, 3, 1, 4, 2, 1, 2, 2, 2, 3, 2, 4, 3, 1, 3, 2, 3, 3, 3, 4, 4, 1, 4, 2, 4, 3, 4, 4] \n",
    "\n",
    "###### Ans:-In Python, the set data type does not allow duplicates. Here's an example of how to use a set to remove duplicates from the list:"
   ]
  },
  {
   "cell_type": "code",
   "execution_count": 4,
   "id": "a49a96fc-4eda-477a-871a-f9f81be015d2",
   "metadata": {},
   "outputs": [
    {
     "name": "stdout",
     "output_type": "stream",
     "text": [
      "[1, 2, 3, 4]\n"
     ]
    },
    {
     "data": {
      "text/plain": [
       "[1, 2, 3, 4]"
      ]
     },
     "execution_count": 4,
     "metadata": {},
     "output_type": "execute_result"
    }
   ],
   "source": [
    "given_list = [1, 1, 1, 2, 1, 3, 1, 4, 2, 1, 2, 2, 2, 3, 2, 4, 3, 1, 3, 2, 3, 3, 3, 4, 4, 1, 4, 2, 4, 3, 4, 4]\n",
    "unique_list = list(set(given_list))\n",
    "print(unique_list)\n",
    "[1, 2, 3, 4]"
   ]
  },
  {
   "cell_type": "markdown",
   "id": "5d7da292-0228-490e-8522-d02f03d76417",
   "metadata": {},
   "source": [
    "#### Q4. Explain the difference between the union() and update() methods for a set. Give an example of  each method. \n",
    "\n",
    "\n",
    "##### Ans:-union() and update() are two methods that can be used to combine two sets in Python."
   ]
  },
  {
   "cell_type": "code",
   "execution_count": 5,
   "id": "dff61d88-f1d9-47b1-9dbf-bf67424d0936",
   "metadata": {},
   "outputs": [
    {
     "data": {
      "text/plain": [
       "{1, 2, 3, 4, 5, 6}"
      ]
     },
     "execution_count": 5,
     "metadata": {},
     "output_type": "execute_result"
    }
   ],
   "source": [
    "set1 = {1, 2, 3, 4}\n",
    "set2 = {3, 4, 5, 6}\n",
    "set1.union(set2)\n",
    "{1, 2, 3, 4, 5, 6}"
   ]
  },
  {
   "cell_type": "markdown",
   "id": "83500e0a-0311-48e9-9427-32fb977cc65e",
   "metadata": {},
   "source": [
    "###### update() method inserts all the elements from one set into another. The original set is modified. Here's an example:"
   ]
  },
  {
   "cell_type": "code",
   "execution_count": 6,
   "id": "c0acd302-8119-4d2a-ba4f-522cf294d3e2",
   "metadata": {},
   "outputs": [
    {
     "name": "stdout",
     "output_type": "stream",
     "text": [
      "{1, 2, 3, 4, 5, 6}\n"
     ]
    },
    {
     "data": {
      "text/plain": [
       "{1, 2, 3, 4, 5, 6}"
      ]
     },
     "execution_count": 6,
     "metadata": {},
     "output_type": "execute_result"
    }
   ],
   "source": [
    "set1 = {1, 2, 3, 4}\n",
    "set2 = {3, 4, 5, 6}\n",
    "set1.update(set2)\n",
    "print(set1)\n",
    "{1, 2, 3, 4, 5, 6}"
   ]
  },
  {
   "cell_type": "markdown",
   "id": "63acffc6-ebd2-4bb7-8575-08f5a81746e7",
   "metadata": {},
   "source": [
    "##### So the main difference between the union() and update() methods is that the union() method returns a new set that contains all the elements from both sets, whereas the update() method modifies the original set to include all the elements from the second set."
   ]
  },
  {
   "cell_type": "markdown",
   "id": "a4b9b6a1-602e-4f9a-8562-d82ae23a355f",
   "metadata": {},
   "source": [
    "## Q5. What is a dictionary? Give an example. Also, state whether a dictionary is ordered or unordered. \n",
    "\n",
    "#### Ans:- A dictionary is a collection data type in Python that consists of key-value pairs. A key-value pair is a set of values associated with each other. The keys must be unique and cannot be changed. The values can be of any data type, and can be changed.\n",
    "\n",
    "##### Here's an example of a dictionary in Python:"
   ]
  },
  {
   "cell_type": "code",
   "execution_count": 7,
   "id": "d1a43286-7fe3-48ed-85c2-f7c55355c78a",
   "metadata": {},
   "outputs": [
    {
     "name": "stdout",
     "output_type": "stream",
     "text": [
      "{'name': 'shankar', 'age': 21, 'city': 'pune'}\n"
     ]
    }
   ],
   "source": [
    "my_dict = {'name': 'shankar', 'age': 21, 'city': 'pune'}\n",
    "print(my_dict)"
   ]
  },
  {
   "cell_type": "markdown",
   "id": "ad0c0f8e-a060-4e53-b6f1-fe1ceed42f02",
   "metadata": {},
   "source": [
    "##### Dictionaries in Python are unordered. This means that the elements in a dictionary have no specific order and can change every time the dictionary is accessed. The only way to access the elements in a dictionary is by using the keys."
   ]
  },
  {
   "cell_type": "markdown",
   "id": "5d491e82-3c42-43ba-904d-22caea60d6b0",
   "metadata": {},
   "source": [
    "### Q6. Can we create a nested dictionary? If so, please give an example by creating a simple one-level  nested dictionary. \n",
    "\n",
    "##### Ans:-Yes, we can create a nested dictionary in Python, which is a dictionary inside another dictionary. A nested dictionary allows you to store multiple dictionaries inside one dictionary."
   ]
  },
  {
   "cell_type": "code",
   "execution_count": 8,
   "id": "861210a0-bf14-47f4-b1a7-57e186806813",
   "metadata": {},
   "outputs": [
    {
     "name": "stdout",
     "output_type": "stream",
     "text": [
      "{'person1': {'name': 'shankar', 'age': 21, 'city': 'pune'}, 'person2': {'name': 'atharva', 'age': 22, 'city': 'mumbai'}}\n"
     ]
    }
   ],
   "source": [
    "person = {'person1': {'name': 'shankar', 'age': 21, 'city': 'pune'},\n",
    "             'person2': {'name': 'atharva', 'age': 22, 'city': 'mumbai'}}\n",
    "print(person)"
   ]
  },
  {
   "cell_type": "markdown",
   "id": "da2c5b8a-2692-42df-98e1-0352d506ea1b",
   "metadata": {},
   "source": [
    "###### n this example, the outer dictionary has two key-value pairs, where the keys are 'person1' and 'person2', and the values are the nested dictionaries. Each nested dictionary contains information about a person, including their name, age, and city."
   ]
  },
  {
   "cell_type": "markdown",
   "id": "8b3c38c9-88dc-410f-a119-ba2679249c47",
   "metadata": {},
   "source": [
    "#### Q7. Using setdefault() method, create key named topics in the given dictionary and also add the value of  the key as this list ['Python', 'Machine Learning’, 'Deep Learning'] \n",
    "##### dict1 = {'language' : 'Python', 'course': 'Data Science Masters'} \n",
    "\n",
    "##### Ans:- The setdefault() method is used to set a default value for a key in a dictionary, if that key is not already present. If the key is present, the setdefault() method returns its value.\n",
    "\n",
    "##### Here's how you can use the setdefault() method to create a key named 'topics' in a dictionary and add the value of the key as a list ['Python', 'Machine Learning', 'Deep Learning']:"
   ]
  },
  {
   "cell_type": "code",
   "execution_count": 16,
   "id": "426fb82a-7c71-4b35-a84f-24f12b5374e4",
   "metadata": {},
   "outputs": [
    {
     "name": "stdout",
     "output_type": "stream",
     "text": [
      "{'language': 'Python', 'course': 'Data Science Masters', 'topics': ['Python', 'Machine Learning', 'Deep Learning']}\n"
     ]
    }
   ],
   "source": [
    "dict1 = {'language' : 'Python', 'course': 'Data Science Masters'}\n",
    "dict1.setdefault('topics', ['Python', 'Machine Learning', 'Deep Learning'])\n",
    "print(dict1)"
   ]
  },
  {
   "cell_type": "markdown",
   "id": "d63d99e7-c29e-40b8-bf0b-30cd42e9ed72",
   "metadata": {},
   "source": [
    "###### In this example, we first created a dictionary person with three key-value pairs. Then, we used the setdefault() method to set a default value for the key 'topics', which is a list of topics. The setdefault() method adds this key-value pair to the dictionary if the key is not already present, and returns the value of the key. The final dictionary person now has four key-value pairs."
   ]
  },
  {
   "cell_type": "markdown",
   "id": "ececc507-9192-4ef3-966b-b203433f7e3f",
   "metadata": {},
   "source": [
    "### Q8. What are the three view objects in dictionaries? Use the three in-built methods in python to display  these three view objects for the given dictionary. \n",
    "#### dict1 = {'Sport': 'Cricket' , 'Teams': ['India', 'Australia', 'England', 'South Africa', 'Sri Lanka', 'New Zealand']} \n",
    "\n",
    "##### Ans:-  In Python, dictionaries have three view objects: keys(), values(), and items().\n",
    "\n",
    "###### keys() returns a view of the dictionary's keys.\n",
    "###### values() returns a view of the dictionary's values.\n",
    "###### items() returns a view of the dictionary's key-value pairs."
   ]
  },
  {
   "cell_type": "code",
   "execution_count": 19,
   "id": "b1561d3f-a717-4a23-8f41-8e813158cb7e",
   "metadata": {},
   "outputs": [
    {
     "name": "stdout",
     "output_type": "stream",
     "text": [
      "Keys:  dict_keys(['Sport', 'Teams'])\n",
      "Values:  dict_values(['Cricket', ['India', 'Australia', 'England', 'South Africa', 'Sri Lanka', 'New Zealand']])\n",
      "Items:  dict_items([('Sport', 'Cricket'), ('Teams', ['India', 'Australia', 'England', 'South Africa', 'Sri Lanka', 'New Zealand'])])\n"
     ]
    }
   ],
   "source": [
    "dict1 = {'Sport': 'Cricket' , 'Teams': ['India', 'Australia', 'England', 'South Africa', 'Sri Lanka', 'New Zealand']}\n",
    "keys = dict1.keys()\n",
    "values = dict1.values()\n",
    "items = dict1.items()\n",
    "print(\"Keys: \", keys)\n",
    "print(\"Values: \", values)\n",
    "print(\"Items: \", items)"
   ]
  },
  {
   "cell_type": "markdown",
   "id": "4b597c17-695a-4776-8000-dffd536de401",
   "metadata": {},
   "source": [
    "##### In this example, we first created the dictionary dict1 with two key-value pairs. Then, we used the keys(), values(), and items() methods to create views of the dictionary's keys, values, and key-value pairs, respectively. Finally, we displayed these three views using the print() function.\n"
   ]
  },
  {
   "cell_type": "code",
   "execution_count": null,
   "id": "56b3ee23-af6d-448e-ac7d-6b2b918623ee",
   "metadata": {},
   "outputs": [],
   "source": []
  }
 ],
 "metadata": {
  "kernelspec": {
   "display_name": "Python 3 (ipykernel)",
   "language": "python",
   "name": "python3"
  },
  "language_info": {
   "codemirror_mode": {
    "name": "ipython",
    "version": 3
   },
   "file_extension": ".py",
   "mimetype": "text/x-python",
   "name": "python",
   "nbconvert_exporter": "python",
   "pygments_lexer": "ipython3",
   "version": "3.10.8"
  }
 },
 "nbformat": 4,
 "nbformat_minor": 5
}
